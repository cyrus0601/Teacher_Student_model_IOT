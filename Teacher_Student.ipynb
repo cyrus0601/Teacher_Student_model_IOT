{
 "cells": [
  {
   "cell_type": "code",
   "execution_count": 1,
   "id": "26c85e3f",
   "metadata": {},
   "outputs": [],
   "source": [
    "import torch\n",
    "import pandas as pd\n",
    "import torch.nn.functional as F\n",
    "from torch import nn\n",
    "from tqdm import tqdm\n",
    "from glob import glob\n",
    "from torch.utils.data import Dataset, DataLoader\n",
    "from rich import print\n",
    "from sklearn import preprocessing"
   ]
  },
  {
   "cell_type": "code",
   "execution_count": 2,
   "id": "8e627aac",
   "metadata": {},
   "outputs": [],
   "source": [
    "device = 'cuda:0' if torch.cuda.is_available() else 'cpu'"
   ]
  },
  {
   "cell_type": "code",
   "execution_count": 3,
   "id": "ff8f090b",
   "metadata": {},
   "outputs": [
    {
     "data": {
      "text/html": [
       "<pre style=\"white-space:pre;overflow-x:auto;line-height:normal;font-family:Menlo,'DejaVu Sans Mono',consolas,'Courier New',monospace\"><span style=\"font-weight: bold\">{</span>\n",
       "    <span style=\"color: #008000; text-decoration-color: #008000\">'DDoS-RSTFINFlood'</span>: <span style=\"color: #008080; text-decoration-color: #008080; font-weight: bold\">0</span>,\n",
       "    <span style=\"color: #008000; text-decoration-color: #008000\">'DoS-TCP_Flood'</span>: <span style=\"color: #008080; text-decoration-color: #008080; font-weight: bold\">1</span>,\n",
       "    <span style=\"color: #008000; text-decoration-color: #008000\">'DDoS-ICMP_Flood'</span>: <span style=\"color: #008080; text-decoration-color: #008080; font-weight: bold\">2</span>,\n",
       "    <span style=\"color: #008000; text-decoration-color: #008000\">'DoS-UDP_Flood'</span>: <span style=\"color: #008080; text-decoration-color: #008080; font-weight: bold\">3</span>,\n",
       "    <span style=\"color: #008000; text-decoration-color: #008000\">'DoS-SYN_Flood'</span>: <span style=\"color: #008080; text-decoration-color: #008080; font-weight: bold\">4</span>,\n",
       "    <span style=\"color: #008000; text-decoration-color: #008000\">'Mirai-greeth_flood'</span>: <span style=\"color: #008080; text-decoration-color: #008080; font-weight: bold\">5</span>,\n",
       "    <span style=\"color: #008000; text-decoration-color: #008000\">'DDoS-SynonymousIP_Flood'</span>: <span style=\"color: #008080; text-decoration-color: #008080; font-weight: bold\">6</span>,\n",
       "    <span style=\"color: #008000; text-decoration-color: #008000\">'Mirai-udpplain'</span>: <span style=\"color: #008080; text-decoration-color: #008080; font-weight: bold\">7</span>,\n",
       "    <span style=\"color: #008000; text-decoration-color: #008000\">'DDoS-SYN_Flood'</span>: <span style=\"color: #008080; text-decoration-color: #008080; font-weight: bold\">8</span>,\n",
       "    <span style=\"color: #008000; text-decoration-color: #008000\">'DDoS-PSHACK_Flood'</span>: <span style=\"color: #008080; text-decoration-color: #008080; font-weight: bold\">9</span>,\n",
       "    <span style=\"color: #008000; text-decoration-color: #008000\">'DDoS-TCP_Flood'</span>: <span style=\"color: #008080; text-decoration-color: #008080; font-weight: bold\">10</span>,\n",
       "    <span style=\"color: #008000; text-decoration-color: #008000\">'DDoS-UDP_Flood'</span>: <span style=\"color: #008080; text-decoration-color: #008080; font-weight: bold\">11</span>,\n",
       "    <span style=\"color: #008000; text-decoration-color: #008000\">'BenignTraffic'</span>: <span style=\"color: #008080; text-decoration-color: #008080; font-weight: bold\">12</span>,\n",
       "    <span style=\"color: #008000; text-decoration-color: #008000\">'MITM-ArpSpoofing'</span>: <span style=\"color: #008080; text-decoration-color: #008080; font-weight: bold\">13</span>,\n",
       "    <span style=\"color: #008000; text-decoration-color: #008000\">'DDoS-ACK_Fragmentation'</span>: <span style=\"color: #008080; text-decoration-color: #008080; font-weight: bold\">14</span>,\n",
       "    <span style=\"color: #008000; text-decoration-color: #008000\">'Mirai-greip_flood'</span>: <span style=\"color: #008080; text-decoration-color: #008080; font-weight: bold\">15</span>,\n",
       "    <span style=\"color: #008000; text-decoration-color: #008000\">'DoS-HTTP_Flood'</span>: <span style=\"color: #008080; text-decoration-color: #008080; font-weight: bold\">16</span>,\n",
       "    <span style=\"color: #008000; text-decoration-color: #008000\">'DDoS-ICMP_Fragmentation'</span>: <span style=\"color: #008080; text-decoration-color: #008080; font-weight: bold\">17</span>,\n",
       "    <span style=\"color: #008000; text-decoration-color: #008000\">'Recon-PortScan'</span>: <span style=\"color: #008080; text-decoration-color: #008080; font-weight: bold\">18</span>,\n",
       "    <span style=\"color: #008000; text-decoration-color: #008000\">'DNS_Spoofing'</span>: <span style=\"color: #008080; text-decoration-color: #008080; font-weight: bold\">19</span>,\n",
       "    <span style=\"color: #008000; text-decoration-color: #008000\">'DDoS-UDP_Fragmentation'</span>: <span style=\"color: #008080; text-decoration-color: #008080; font-weight: bold\">20</span>,\n",
       "    <span style=\"color: #008000; text-decoration-color: #008000\">'Recon-OSScan'</span>: <span style=\"color: #008080; text-decoration-color: #008080; font-weight: bold\">21</span>,\n",
       "    <span style=\"color: #008000; text-decoration-color: #008000\">'XSS'</span>: <span style=\"color: #008080; text-decoration-color: #008080; font-weight: bold\">22</span>,\n",
       "    <span style=\"color: #008000; text-decoration-color: #008000\">'DDoS-HTTP_Flood'</span>: <span style=\"color: #008080; text-decoration-color: #008080; font-weight: bold\">23</span>,\n",
       "    <span style=\"color: #008000; text-decoration-color: #008000\">'Recon-HostDiscovery'</span>: <span style=\"color: #008080; text-decoration-color: #008080; font-weight: bold\">24</span>,\n",
       "    <span style=\"color: #008000; text-decoration-color: #008000\">'CommandInjection'</span>: <span style=\"color: #008080; text-decoration-color: #008080; font-weight: bold\">25</span>,\n",
       "    <span style=\"color: #008000; text-decoration-color: #008000\">'VulnerabilityScan'</span>: <span style=\"color: #008080; text-decoration-color: #008080; font-weight: bold\">26</span>,\n",
       "    <span style=\"color: #008000; text-decoration-color: #008000\">'DDoS-SlowLoris'</span>: <span style=\"color: #008080; text-decoration-color: #008080; font-weight: bold\">27</span>,\n",
       "    <span style=\"color: #008000; text-decoration-color: #008000\">'Backdoor_Malware'</span>: <span style=\"color: #008080; text-decoration-color: #008080; font-weight: bold\">28</span>,\n",
       "    <span style=\"color: #008000; text-decoration-color: #008000\">'BrowserHijacking'</span>: <span style=\"color: #008080; text-decoration-color: #008080; font-weight: bold\">29</span>,\n",
       "    <span style=\"color: #008000; text-decoration-color: #008000\">'DictionaryBruteForce'</span>: <span style=\"color: #008080; text-decoration-color: #008080; font-weight: bold\">30</span>,\n",
       "    <span style=\"color: #008000; text-decoration-color: #008000\">'SqlInjection'</span>: <span style=\"color: #008080; text-decoration-color: #008080; font-weight: bold\">31</span>,\n",
       "    <span style=\"color: #008000; text-decoration-color: #008000\">'Recon-PingSweep'</span>: <span style=\"color: #008080; text-decoration-color: #008080; font-weight: bold\">32</span>,\n",
       "    <span style=\"color: #008000; text-decoration-color: #008000\">'Uploading_Attack'</span>: <span style=\"color: #008080; text-decoration-color: #008080; font-weight: bold\">33</span>\n",
       "<span style=\"font-weight: bold\">}</span>\n",
       "</pre>\n"
      ],
      "text/plain": [
       "\u001b[1m{\u001b[0m\n",
       "    \u001b[32m'DDoS-RSTFINFlood'\u001b[0m: \u001b[1;36m0\u001b[0m,\n",
       "    \u001b[32m'DoS-TCP_Flood'\u001b[0m: \u001b[1;36m1\u001b[0m,\n",
       "    \u001b[32m'DDoS-ICMP_Flood'\u001b[0m: \u001b[1;36m2\u001b[0m,\n",
       "    \u001b[32m'DoS-UDP_Flood'\u001b[0m: \u001b[1;36m3\u001b[0m,\n",
       "    \u001b[32m'DoS-SYN_Flood'\u001b[0m: \u001b[1;36m4\u001b[0m,\n",
       "    \u001b[32m'Mirai-greeth_flood'\u001b[0m: \u001b[1;36m5\u001b[0m,\n",
       "    \u001b[32m'DDoS-SynonymousIP_Flood'\u001b[0m: \u001b[1;36m6\u001b[0m,\n",
       "    \u001b[32m'Mirai-udpplain'\u001b[0m: \u001b[1;36m7\u001b[0m,\n",
       "    \u001b[32m'DDoS-SYN_Flood'\u001b[0m: \u001b[1;36m8\u001b[0m,\n",
       "    \u001b[32m'DDoS-PSHACK_Flood'\u001b[0m: \u001b[1;36m9\u001b[0m,\n",
       "    \u001b[32m'DDoS-TCP_Flood'\u001b[0m: \u001b[1;36m10\u001b[0m,\n",
       "    \u001b[32m'DDoS-UDP_Flood'\u001b[0m: \u001b[1;36m11\u001b[0m,\n",
       "    \u001b[32m'BenignTraffic'\u001b[0m: \u001b[1;36m12\u001b[0m,\n",
       "    \u001b[32m'MITM-ArpSpoofing'\u001b[0m: \u001b[1;36m13\u001b[0m,\n",
       "    \u001b[32m'DDoS-ACK_Fragmentation'\u001b[0m: \u001b[1;36m14\u001b[0m,\n",
       "    \u001b[32m'Mirai-greip_flood'\u001b[0m: \u001b[1;36m15\u001b[0m,\n",
       "    \u001b[32m'DoS-HTTP_Flood'\u001b[0m: \u001b[1;36m16\u001b[0m,\n",
       "    \u001b[32m'DDoS-ICMP_Fragmentation'\u001b[0m: \u001b[1;36m17\u001b[0m,\n",
       "    \u001b[32m'Recon-PortScan'\u001b[0m: \u001b[1;36m18\u001b[0m,\n",
       "    \u001b[32m'DNS_Spoofing'\u001b[0m: \u001b[1;36m19\u001b[0m,\n",
       "    \u001b[32m'DDoS-UDP_Fragmentation'\u001b[0m: \u001b[1;36m20\u001b[0m,\n",
       "    \u001b[32m'Recon-OSScan'\u001b[0m: \u001b[1;36m21\u001b[0m,\n",
       "    \u001b[32m'XSS'\u001b[0m: \u001b[1;36m22\u001b[0m,\n",
       "    \u001b[32m'DDoS-HTTP_Flood'\u001b[0m: \u001b[1;36m23\u001b[0m,\n",
       "    \u001b[32m'Recon-HostDiscovery'\u001b[0m: \u001b[1;36m24\u001b[0m,\n",
       "    \u001b[32m'CommandInjection'\u001b[0m: \u001b[1;36m25\u001b[0m,\n",
       "    \u001b[32m'VulnerabilityScan'\u001b[0m: \u001b[1;36m26\u001b[0m,\n",
       "    \u001b[32m'DDoS-SlowLoris'\u001b[0m: \u001b[1;36m27\u001b[0m,\n",
       "    \u001b[32m'Backdoor_Malware'\u001b[0m: \u001b[1;36m28\u001b[0m,\n",
       "    \u001b[32m'BrowserHijacking'\u001b[0m: \u001b[1;36m29\u001b[0m,\n",
       "    \u001b[32m'DictionaryBruteForce'\u001b[0m: \u001b[1;36m30\u001b[0m,\n",
       "    \u001b[32m'SqlInjection'\u001b[0m: \u001b[1;36m31\u001b[0m,\n",
       "    \u001b[32m'Recon-PingSweep'\u001b[0m: \u001b[1;36m32\u001b[0m,\n",
       "    \u001b[32m'Uploading_Attack'\u001b[0m: \u001b[1;36m33\u001b[0m\n",
       "\u001b[1m}\u001b[0m\n"
      ]
     },
     "metadata": {},
     "output_type": "display_data"
    },
    {
     "name": "stderr",
     "output_type": "stream",
     "text": [
      "C:\\Users\\SoraNyan\\anaconda3\\Lib\\site-packages\\sklearn\\preprocessing\\_data.py:240: UserWarning: Numerical issues were encountered when centering the data and might not be solved. Dataset may contain too large values. You may need to prescale your features.\n",
      "  warnings.warn(\n",
      "C:\\Users\\SoraNyan\\anaconda3\\Lib\\site-packages\\sklearn\\preprocessing\\_data.py:240: UserWarning: Numerical issues were encountered when centering the data and might not be solved. Dataset may contain too large values. You may need to prescale your features.\n",
      "  warnings.warn(\n"
     ]
    }
   ],
   "source": [
    "root = '..\\\\CICIoT2023'\n",
    "\n",
    "fName = []\n",
    "for f in glob(f'{root}\\\\*.csv'):\n",
    "    fName.append(f)\n",
    "    \n",
    "train_df = pd.read_csv(fName[0])\n",
    "test_df  = pd.read_csv(fName[1])\n",
    "valid_df = pd.read_csv(fName[2])\n",
    "train_df2 = pd.read_csv(fName[3])\n",
    "\n",
    "train_df = pd.concat([train_df, train_df2], axis = 0)\n",
    "\n",
    "#map label(string) into label(int)\n",
    "label_map = {}\n",
    "i = 0\n",
    "for label in train_df['label'].unique():\n",
    "    label_map[label] = i\n",
    "    i += 1\n",
    "    \n",
    "print(label_map)\n",
    "train_df['label'] = train_df['label'].map(label_map)\n",
    "test_df['label']  = test_df['label'].map(label_map)\n",
    "valid_df['label'] = valid_df['label'].map(label_map)\n",
    "\n",
    "#split data\n",
    "train_data  = train_df.iloc[:, 0 : -1]\n",
    "train_label = train_df.iloc[:, -1]\n",
    "test_data  = test_df.iloc[:, 0 : -1]\n",
    "test_label = test_df.iloc[:, -1]\n",
    "valid_data  = valid_df.iloc[:, 0 : -1]\n",
    "valid_label = valid_df.iloc[:, -1]\n",
    "\n",
    "n_train_data = preprocessing.scale(train_data)\n",
    "n_valid_data = preprocessing.scale(valid_data)\n",
    "n_test_data  = preprocessing.scale(test_data)\n",
    "\n",
    "n_train_data = pd.DataFrame(n_train_data)\n",
    "n_valid_data = pd.DataFrame(n_valid_data)\n",
    "n_test_data  = pd.DataFrame(n_test_data)"
   ]
  },
  {
   "cell_type": "code",
   "execution_count": 4,
   "id": "44790cbb",
   "metadata": {},
   "outputs": [],
   "source": [
    "class myDataset(Dataset):\n",
    "    def __init__(self, data, label):\n",
    "        super(myDataset, self).__init__()\n",
    "        self.data = data\n",
    "        self.label = label\n",
    "        \n",
    "    def __len__(self):\n",
    "        return self.data.shape[0]\n",
    "        \n",
    "    def __getitem__(self, index):\n",
    "        return torch.tensor(self.data.iloc[index].values, dtype = torch.float32), torch.tensor(self.label.iloc[index], dtype = torch.long)"
   ]
  },
  {
   "cell_type": "code",
   "execution_count": 5,
   "id": "b665887c",
   "metadata": {},
   "outputs": [
    {
     "data": {
      "text/html": [
       "<pre style=\"white-space:pre;overflow-x:auto;line-height:normal;font-family:Menlo,'DejaVu Sans Mono',consolas,'Courier New',monospace\"><span style=\"color: #008080; text-decoration-color: #008080; font-weight: bold\">469710</span>\n",
       "</pre>\n"
      ],
      "text/plain": [
       "\u001b[1;36m469710\u001b[0m\n"
      ]
     },
     "metadata": {},
     "output_type": "display_data"
    },
    {
     "data": {
      "text/html": [
       "<pre style=\"white-space:pre;overflow-x:auto;line-height:normal;font-family:Menlo,'DejaVu Sans Mono',consolas,'Courier New',monospace\"><span style=\"color: #008080; text-decoration-color: #008080; font-weight: bold\">275258</span>\n",
       "</pre>\n"
      ],
      "text/plain": [
       "\u001b[1;36m275258\u001b[0m\n"
      ]
     },
     "metadata": {},
     "output_type": "display_data"
    },
    {
     "data": {
      "text/html": [
       "<pre style=\"white-space:pre;overflow-x:auto;line-height:normal;font-family:Menlo,'DejaVu Sans Mono',consolas,'Courier New',monospace\"><span style=\"color: #008080; text-decoration-color: #008080; font-weight: bold\">218805</span>\n",
       "</pre>\n"
      ],
      "text/plain": [
       "\u001b[1;36m218805\u001b[0m\n"
      ]
     },
     "metadata": {},
     "output_type": "display_data"
    }
   ],
   "source": [
    "train_set = myDataset(n_train_data, train_label)\n",
    "valid_set = myDataset(n_valid_data, valid_label)\n",
    "test_set  = myDataset(n_test_data, test_label)\n",
    "\n",
    "print(train_set.__len__())\n",
    "print(valid_set.__len__())\n",
    "print(test_set.__len__())\n",
    "\n",
    "train_loader = DataLoader(train_set, batch_size = 128, shuffle = True)\n",
    "valid_loader = DataLoader(valid_set, batch_size = 128, shuffle = False)\n",
    "test_loader  = DataLoader(test_set , batch_size = 128, shuffle = False)"
   ]
  },
  {
   "cell_type": "code",
   "execution_count": 6,
   "id": "4a7adc9d",
   "metadata": {},
   "outputs": [],
   "source": [
    "class Transformer(nn.Module):\n",
    "    def __init__(self):\n",
    "        super(Transformer, self).__init__()\n",
    "        self.embed   = nn.Linear(46, 256)\n",
    "        self.bNorm   = nn.BatchNorm1d(256)\n",
    "        self.layer   = nn.TransformerEncoderLayer(d_model = 256, nhead = 16, batch_first = True)\n",
    "        self.encoder = nn.TransformerEncoder(self.layer, num_layers = 8)\n",
    "        self.linear1 = nn.Linear(256, 512)\n",
    "        self.linear2 = nn.Linear(512, 1024)\n",
    "        self.drop1 = nn.Dropout()\n",
    "        self.drop2 = nn.Dropout()\n",
    "        self.out = nn.Linear(1024, 34)\n",
    "        \n",
    "    def forward(self, x):\n",
    "        x = self.embed(x)\n",
    "        x = self.bNorm(x)\n",
    "        x = self.encoder(x)\n",
    "        x = self.drop1(F.relu(self.linear1(x)))\n",
    "        x = self.drop2(F.relu(self.linear2(x)))\n",
    "        x = self.out(x)\n",
    "        return x"
   ]
  },
  {
   "cell_type": "code",
   "execution_count": 7,
   "id": "bfea354f",
   "metadata": {},
   "outputs": [],
   "source": [
    "class MLP(nn.Module):\n",
    "    def __init__(self):\n",
    "        super(MLP, self).__init__()\n",
    "        self.linear1 = nn.Linear(46, 256)\n",
    "        self.linear2 = nn.Linear(256, 512)\n",
    "        self.linear3 = nn.Linear(512, 1024)\n",
    "        self.out = nn.Linear(1024, 34)\n",
    "        \n",
    "    def forward(self, x):\n",
    "        x = F.relu(self.linear1(x))\n",
    "        x = F.relu(self.linear2(x))\n",
    "        x = F.relu(self.linear3(x))\n",
    "        return self.out(x)"
   ]
  },
  {
   "cell_type": "code",
   "execution_count": 8,
   "id": "a1699521",
   "metadata": {},
   "outputs": [],
   "source": [
    "teacher_model = Transformer().to(device)\n",
    "teacher_optim = torch.optim.Adam(teacher_model.parameters(), lr = 1e-4, weight_decay = 1e-4)\n",
    "scheduler = torch.optim.lr_scheduler.StepLR(teacher_optim, step_size = 20, gamma = 0.1)\n",
    "loss_func = torch.nn.CrossEntropyLoss()\n",
    "teacher_epoch = 150"
   ]
  },
  {
   "cell_type": "markdown",
   "id": "b582d98d",
   "metadata": {},
   "source": [
    "# 訓練大模型(teacher model)"
   ]
  },
  {
   "cell_type": "code",
   "execution_count": 9,
   "id": "59e1d931",
   "metadata": {},
   "outputs": [],
   "source": [
    "def train_teacher(model, optim, loss_func, train_loader, valid_loader, epoch):\n",
    "    train_loss = []\n",
    "    train_acc  = []\n",
    "    valid_loss = []\n",
    "    valid_acc  = []\n",
    "    best_t = 100\n",
    "    best_v = 100\n",
    "    for e in range(epoch):\n",
    "        train_epoch_acc  = 0\n",
    "        valid_epoch_acc  = 0\n",
    "        train_epoch_loss = 0\n",
    "        valid_epoch_loss = 0\n",
    "        total_train = 0\n",
    "        total_valid = 0\n",
    "        \n",
    "        model.train()\n",
    "        for (data, label) in tqdm(train_loader, desc = 'training'):\n",
    "            data  = data.to(device)\n",
    "            label = label.to(device)\n",
    "            \n",
    "            optim.zero_grad()\n",
    "            pred = model(data)\n",
    "            loss = loss_func(pred, label)\n",
    "            loss.backward()\n",
    "            optim.step()\n",
    "            \n",
    "            train_epoch_acc += (torch.argmax(pred, axis = 1) == label).sum()\n",
    "            train_epoch_loss += loss.item()\n",
    "            total_train += data.shape[0]\n",
    "        scheduler.step()\n",
    "        train_loss.append(train_epoch_loss / len(train_loader))\n",
    "        train_acc.append(train_epoch_acc.item() / total_train)\n",
    "            \n",
    "        model.eval()\n",
    "        with torch.no_grad():\n",
    "            for (data, label) in tqdm(valid_loader, desc = 'validating'):\n",
    "                data  = data.to(device)\n",
    "                label = label.to(device)\n",
    "\n",
    "                pred = model(data)\n",
    "                loss = loss_func(pred, label)\n",
    "                valid_epoch_acc += (torch.argmax(pred, axis = 1) == label).sum()\n",
    "                valid_epoch_loss += loss.item()\n",
    "                total_valid += data.shape[0]\n",
    "            valid_loss.append(valid_epoch_loss / len(valid_loader))\n",
    "            valid_acc.append(valid_epoch_acc.item() / total_valid)\n",
    "            \n",
    "        print(f'epoch {e} | train_loss {train_loss[-1]:.6f} train_acc {train_acc[-1]:.6f} valid_loss {valid_loss[-1]:.6f} valid_acc {valid_acc[-1]:.6f}')\n",
    "        \n",
    "        if train_loss[-1] < best_t and valid_loss[-1] < best_v:\n",
    "            best_t = train_loss[-1]\n",
    "            best_v = valid_loss[-1]\n",
    "            torch.save({\n",
    "                'model_state_dict' : model.state_dict(),\n",
    "                'optim_state_dict' : optim.state_dict()\n",
    "            }, 'teacher\\\\checkpoint.pth')\n",
    "    return train_loss, train_acc, valid_loss, valid_acc"
   ]
  },
  {
   "cell_type": "code",
   "execution_count": 10,
   "id": "838292b2",
   "metadata": {},
   "outputs": [],
   "source": [
    "teach_train_mode = False\n",
    "load_best_model = False\n",
    "\n",
    "if teach_train_mode:\n",
    "    t_train_loss, t_train_acc, t_valid_loss, t_valid_acc = train_teacher(teacher_model, teacher_optim, loss_func, train_loader, valid_loader, teacher_epoch)\n",
    "    torch.save(teacher_model.state_dict(), 'final_teacher_model.pth')\n",
    "else:\n",
    "    if load_best_model:\n",
    "        checkpoint = torch.load('teacher\\\\checkpoint.pth')\n",
    "        teacher_model.load_state_dict(checkpoint['model_state_dict'])\n",
    "    else:\n",
    "        state_dict = torch.load('final_teacher_model.pth')\n",
    "        teacher_model.load_state_dict(state_dict)"
   ]
  },
  {
   "cell_type": "code",
   "execution_count": 11,
   "id": "5821ad9e",
   "metadata": {},
   "outputs": [],
   "source": [
    "import matplotlib.pyplot as plt\n",
    "import numpy as np\n",
    "\n",
    "if teach_train_mode:\n",
    "    x = np.linspace(0, len(t_train_loss), len(t_train_loss))\n",
    "    plt.clf()\n",
    "    plt.plot(x, t_train_loss, label = 'train_loss')\n",
    "    plt.plot(x, t_valid_loss, label = 'valid_loss')\n",
    "\n",
    "    plt.legend()\n",
    "    plt.show()"
   ]
  },
  {
   "cell_type": "code",
   "execution_count": 12,
   "id": "a3b9e1ac",
   "metadata": {},
   "outputs": [],
   "source": [
    "if teach_train_mode:\n",
    "    x = np.linspace(0, len(t_train_acc), len(t_train_acc))\n",
    "    plt.clf()\n",
    "    plt.plot(x, t_train_acc, label = 'train_acc')\n",
    "    plt.plot(x, t_valid_acc, label = 'valid_acc')\n",
    "\n",
    "    plt.legend()\n",
    "    plt.show()"
   ]
  },
  {
   "cell_type": "markdown",
   "id": "f60ecf62",
   "metadata": {},
   "source": [
    "# 訓練小模型 (student model)"
   ]
  },
  {
   "cell_type": "code",
   "execution_count": 13,
   "id": "70f6bcbb",
   "metadata": {},
   "outputs": [],
   "source": [
    "student_model = MLP().to(device)\n",
    "student_optim = torch.optim.Adam(student_model.parameters(), lr = 1e-4)\n",
    "loss_func2 = nn.KLDivLoss(reduction = 'batchmean')\n",
    "student_epoch = 100"
   ]
  },
  {
   "cell_type": "code",
   "execution_count": 14,
   "id": "02e3570c",
   "metadata": {},
   "outputs": [],
   "source": [
    "def train_student(t_model, s_model, optim, loss_func1, loss_func2, train_loader, valid_loader, epoch):\n",
    "    train_loss = []\n",
    "    train_acc  = []\n",
    "    valid_loss = []\n",
    "    valid_acc  = []\n",
    "    best_t = 100\n",
    "    best_v = 100\n",
    "    for e in range(epoch):\n",
    "        train_epoch_acc  = 0\n",
    "        valid_epoch_acc  = 0\n",
    "        train_epoch_loss = 0\n",
    "        valid_epoch_loss = 0\n",
    "        total_train = 0\n",
    "        total_valid = 0\n",
    "        \n",
    "        s_model.train()\n",
    "        t_model.eval()\n",
    "        for (data, label) in tqdm(train_loader, desc = 'training'):\n",
    "            data  = data.to(device)\n",
    "            label = label.to(device)\n",
    "            \n",
    "            optim.zero_grad()\n",
    "            t_pred = t_model(data)\n",
    "            s_pred = s_model(data)\n",
    "            CELoss = loss_func1(s_pred, label)\n",
    "            KLDiv  = loss_func2(F.log_softmax(s_pred, dim = 1), F.softmax(t_pred, dim = 1))\n",
    "            loss = 0.5 * CELoss + 0.5 * KLDiv\n",
    "            loss.backward()\n",
    "            optim.step()\n",
    "            \n",
    "            train_epoch_acc += (torch.argmax(s_pred, axis = 1) == label).sum()\n",
    "            train_epoch_loss += loss.item()\n",
    "            total_train += data.shape[0]\n",
    "        train_loss.append(train_epoch_loss / len(train_loader))\n",
    "        train_acc.append(train_epoch_acc.item() / total_train)\n",
    "            \n",
    "        s_model.eval()\n",
    "        with torch.no_grad():\n",
    "            for (data, label) in tqdm(valid_loader, desc = 'validating'):\n",
    "                data  = data.to(device)\n",
    "                label = label.to(device)\n",
    "\n",
    "                t_pred = t_model(data)\n",
    "                s_pred = s_model(data)\n",
    "                CELoss = loss_func1(s_pred, label)\n",
    "                KLDiv  = loss_func2(F.log_softmax(s_pred, dim = 1), F.softmax(t_pred, dim = 1))\n",
    "                loss = 0.5 * CELoss + 0.5 * KLDiv\n",
    "                valid_epoch_acc += (torch.argmax(s_pred, axis = 1) == label).sum()\n",
    "                valid_epoch_loss += loss.item()\n",
    "                total_valid += data.shape[0]\n",
    "            valid_loss.append(valid_epoch_loss / len(valid_loader))\n",
    "            valid_acc.append(valid_epoch_acc.item() / total_valid)\n",
    "            \n",
    "        print(f'epoch {e} | train_loss {train_loss[-1]:.6f} train_acc {train_acc[-1]:.6f} valid_loss {valid_loss[-1]:.6f} valid_acc {valid_acc[-1]:.6f}')\n",
    "        \n",
    "        if train_loss[-1] < best_t and valid_loss[-1] < best_v:\n",
    "            best_t = train_loss[-1]\n",
    "            best_v = valid_loss[-1]\n",
    "            torch.save({\n",
    "                'model_state_dict' : s_model.state_dict(),\n",
    "                'optim_state_dict' : optim.state_dict()\n",
    "            }, 'student\\\\checkpoint.pth')\n",
    "    return train_loss, train_acc, valid_loss, valid_acc"
   ]
  },
  {
   "cell_type": "code",
   "execution_count": 15,
   "id": "81cb373e",
   "metadata": {},
   "outputs": [
    {
     "name": "stderr",
     "output_type": "stream",
     "text": [
      "training: 100%|████████████████████████████████████████████████████████████████████| 3670/3670 [01:49<00:00, 33.38it/s]\n",
      "validating: 100%|██████████████████████████████████████████████████████████████████| 2151/2151 [00:30<00:00, 69.51it/s]\n"
     ]
    },
    {
     "data": {
      "text/html": [
       "<pre style=\"white-space:pre;overflow-x:auto;line-height:normal;font-family:Menlo,'DejaVu Sans Mono',consolas,'Courier New',monospace\">epoch <span style=\"color: #008080; text-decoration-color: #008080; font-weight: bold\">0</span> | train_loss <span style=\"color: #008080; text-decoration-color: #008080; font-weight: bold\">0.492473</span> train_acc <span style=\"color: #008080; text-decoration-color: #008080; font-weight: bold\">0.791092</span> valid_loss <span style=\"color: #008080; text-decoration-color: #008080; font-weight: bold\">0.410590</span> valid_acc <span style=\"color: #008080; text-decoration-color: #008080; font-weight: bold\">0.804627</span>\n",
       "</pre>\n"
      ],
      "text/plain": [
       "epoch \u001b[1;36m0\u001b[0m | train_loss \u001b[1;36m0.492473\u001b[0m train_acc \u001b[1;36m0.791092\u001b[0m valid_loss \u001b[1;36m0.410590\u001b[0m valid_acc \u001b[1;36m0.804627\u001b[0m\n"
      ]
     },
     "metadata": {},
     "output_type": "display_data"
    },
    {
     "name": "stderr",
     "output_type": "stream",
     "text": [
      "training: 100%|████████████████████████████████████████████████████████████████████| 3670/3670 [01:49<00:00, 33.37it/s]\n",
      "validating: 100%|██████████████████████████████████████████████████████████████████| 2151/2151 [00:31<00:00, 69.20it/s]\n"
     ]
    },
    {
     "data": {
      "text/html": [
       "<pre style=\"white-space:pre;overflow-x:auto;line-height:normal;font-family:Menlo,'DejaVu Sans Mono',consolas,'Courier New',monospace\">epoch <span style=\"color: #008080; text-decoration-color: #008080; font-weight: bold\">1</span> | train_loss <span style=\"color: #008080; text-decoration-color: #008080; font-weight: bold\">0.391384</span> train_acc <span style=\"color: #008080; text-decoration-color: #008080; font-weight: bold\">0.815631</span> valid_loss <span style=\"color: #008080; text-decoration-color: #008080; font-weight: bold\">0.381351</span> valid_acc <span style=\"color: #008080; text-decoration-color: #008080; font-weight: bold\">0.813324</span>\n",
       "</pre>\n"
      ],
      "text/plain": [
       "epoch \u001b[1;36m1\u001b[0m | train_loss \u001b[1;36m0.391384\u001b[0m train_acc \u001b[1;36m0.815631\u001b[0m valid_loss \u001b[1;36m0.381351\u001b[0m valid_acc \u001b[1;36m0.813324\u001b[0m\n"
      ]
     },
     "metadata": {},
     "output_type": "display_data"
    },
    {
     "name": "stderr",
     "output_type": "stream",
     "text": [
      "training: 100%|████████████████████████████████████████████████████████████████████| 3670/3670 [01:49<00:00, 33.50it/s]\n",
      "validating: 100%|██████████████████████████████████████████████████████████████████| 2151/2151 [00:30<00:00, 69.39it/s]\n"
     ]
    },
    {
     "data": {
      "text/html": [
       "<pre style=\"white-space:pre;overflow-x:auto;line-height:normal;font-family:Menlo,'DejaVu Sans Mono',consolas,'Courier New',monospace\">epoch <span style=\"color: #008080; text-decoration-color: #008080; font-weight: bold\">2</span> | train_loss <span style=\"color: #008080; text-decoration-color: #008080; font-weight: bold\">0.356712</span> train_acc <span style=\"color: #008080; text-decoration-color: #008080; font-weight: bold\">0.837295</span> valid_loss <span style=\"color: #008080; text-decoration-color: #008080; font-weight: bold\">0.333663</span> valid_acc <span style=\"color: #008080; text-decoration-color: #008080; font-weight: bold\">0.855743</span>\n",
       "</pre>\n"
      ],
      "text/plain": [
       "epoch \u001b[1;36m2\u001b[0m | train_loss \u001b[1;36m0.356712\u001b[0m train_acc \u001b[1;36m0.837295\u001b[0m valid_loss \u001b[1;36m0.333663\u001b[0m valid_acc \u001b[1;36m0.855743\u001b[0m\n"
      ]
     },
     "metadata": {},
     "output_type": "display_data"
    },
    {
     "name": "stderr",
     "output_type": "stream",
     "text": [
      "training: 100%|████████████████████████████████████████████████████████████████████| 3670/3670 [01:49<00:00, 33.45it/s]\n",
      "validating: 100%|██████████████████████████████████████████████████████████████████| 2151/2151 [00:30<00:00, 69.58it/s]\n"
     ]
    },
    {
     "data": {
      "text/html": [
       "<pre style=\"white-space:pre;overflow-x:auto;line-height:normal;font-family:Menlo,'DejaVu Sans Mono',consolas,'Courier New',monospace\">epoch <span style=\"color: #008080; text-decoration-color: #008080; font-weight: bold\">3</span> | train_loss <span style=\"color: #008080; text-decoration-color: #008080; font-weight: bold\">0.291656</span> train_acc <span style=\"color: #008080; text-decoration-color: #008080; font-weight: bold\">0.875766</span> valid_loss <span style=\"color: #008080; text-decoration-color: #008080; font-weight: bold\">0.266760</span> valid_acc <span style=\"color: #008080; text-decoration-color: #008080; font-weight: bold\">0.883680</span>\n",
       "</pre>\n"
      ],
      "text/plain": [
       "epoch \u001b[1;36m3\u001b[0m | train_loss \u001b[1;36m0.291656\u001b[0m train_acc \u001b[1;36m0.875766\u001b[0m valid_loss \u001b[1;36m0.266760\u001b[0m valid_acc \u001b[1;36m0.883680\u001b[0m\n"
      ]
     },
     "metadata": {},
     "output_type": "display_data"
    },
    {
     "name": "stderr",
     "output_type": "stream",
     "text": [
      "training: 100%|████████████████████████████████████████████████████████████████████| 3670/3670 [01:49<00:00, 33.44it/s]\n",
      "validating: 100%|██████████████████████████████████████████████████████████████████| 2151/2151 [00:30<00:00, 69.97it/s]\n"
     ]
    },
    {
     "data": {
      "text/html": [
       "<pre style=\"white-space:pre;overflow-x:auto;line-height:normal;font-family:Menlo,'DejaVu Sans Mono',consolas,'Courier New',monospace\">epoch <span style=\"color: #008080; text-decoration-color: #008080; font-weight: bold\">4</span> | train_loss <span style=\"color: #008080; text-decoration-color: #008080; font-weight: bold\">0.224314</span> train_acc <span style=\"color: #008080; text-decoration-color: #008080; font-weight: bold\">0.908371</span> valid_loss <span style=\"color: #008080; text-decoration-color: #008080; font-weight: bold\">0.190990</span> valid_acc <span style=\"color: #008080; text-decoration-color: #008080; font-weight: bold\">0.919232</span>\n",
       "</pre>\n"
      ],
      "text/plain": [
       "epoch \u001b[1;36m4\u001b[0m | train_loss \u001b[1;36m0.224314\u001b[0m train_acc \u001b[1;36m0.908371\u001b[0m valid_loss \u001b[1;36m0.190990\u001b[0m valid_acc \u001b[1;36m0.919232\u001b[0m\n"
      ]
     },
     "metadata": {},
     "output_type": "display_data"
    },
    {
     "name": "stderr",
     "output_type": "stream",
     "text": [
      "training: 100%|████████████████████████████████████████████████████████████████████| 3670/3670 [01:49<00:00, 33.62it/s]\n",
      "validating: 100%|██████████████████████████████████████████████████████████████████| 2151/2151 [00:30<00:00, 69.74it/s]\n"
     ]
    },
    {
     "data": {
      "text/html": [
       "<pre style=\"white-space:pre;overflow-x:auto;line-height:normal;font-family:Menlo,'DejaVu Sans Mono',consolas,'Courier New',monospace\">epoch <span style=\"color: #008080; text-decoration-color: #008080; font-weight: bold\">5</span> | train_loss <span style=\"color: #008080; text-decoration-color: #008080; font-weight: bold\">0.163257</span> train_acc <span style=\"color: #008080; text-decoration-color: #008080; font-weight: bold\">0.941455</span> valid_loss <span style=\"color: #008080; text-decoration-color: #008080; font-weight: bold\">0.150115</span> valid_acc <span style=\"color: #008080; text-decoration-color: #008080; font-weight: bold\">0.949604</span>\n",
       "</pre>\n"
      ],
      "text/plain": [
       "epoch \u001b[1;36m5\u001b[0m | train_loss \u001b[1;36m0.163257\u001b[0m train_acc \u001b[1;36m0.941455\u001b[0m valid_loss \u001b[1;36m0.150115\u001b[0m valid_acc \u001b[1;36m0.949604\u001b[0m\n"
      ]
     },
     "metadata": {},
     "output_type": "display_data"
    },
    {
     "name": "stderr",
     "output_type": "stream",
     "text": [
      "training: 100%|████████████████████████████████████████████████████████████████████| 3670/3670 [01:49<00:00, 33.64it/s]\n",
      "validating: 100%|██████████████████████████████████████████████████████████████████| 2151/2151 [00:30<00:00, 69.89it/s]\n"
     ]
    },
    {
     "data": {
      "text/html": [
       "<pre style=\"white-space:pre;overflow-x:auto;line-height:normal;font-family:Menlo,'DejaVu Sans Mono',consolas,'Courier New',monospace\">epoch <span style=\"color: #008080; text-decoration-color: #008080; font-weight: bold\">6</span> | train_loss <span style=\"color: #008080; text-decoration-color: #008080; font-weight: bold\">0.111157</span> train_acc <span style=\"color: #008080; text-decoration-color: #008080; font-weight: bold\">0.962183</span> valid_loss <span style=\"color: #008080; text-decoration-color: #008080; font-weight: bold\">0.094417</span> valid_acc <span style=\"color: #008080; text-decoration-color: #008080; font-weight: bold\">0.968713</span>\n",
       "</pre>\n"
      ],
      "text/plain": [
       "epoch \u001b[1;36m6\u001b[0m | train_loss \u001b[1;36m0.111157\u001b[0m train_acc \u001b[1;36m0.962183\u001b[0m valid_loss \u001b[1;36m0.094417\u001b[0m valid_acc \u001b[1;36m0.968713\u001b[0m\n"
      ]
     },
     "metadata": {},
     "output_type": "display_data"
    },
    {
     "name": "stderr",
     "output_type": "stream",
     "text": [
      "training: 100%|████████████████████████████████████████████████████████████████████| 3670/3670 [01:49<00:00, 33.65it/s]\n",
      "validating: 100%|██████████████████████████████████████████████████████████████████| 2151/2151 [00:30<00:00, 70.21it/s]\n"
     ]
    },
    {
     "data": {
      "text/html": [
       "<pre style=\"white-space:pre;overflow-x:auto;line-height:normal;font-family:Menlo,'DejaVu Sans Mono',consolas,'Courier New',monospace\">epoch <span style=\"color: #008080; text-decoration-color: #008080; font-weight: bold\">7</span> | train_loss <span style=\"color: #008080; text-decoration-color: #008080; font-weight: bold\">0.079125</span> train_acc <span style=\"color: #008080; text-decoration-color: #008080; font-weight: bold\">0.970869</span> valid_loss <span style=\"color: #008080; text-decoration-color: #008080; font-weight: bold\">0.077281</span> valid_acc <span style=\"color: #008080; text-decoration-color: #008080; font-weight: bold\">0.968760</span>\n",
       "</pre>\n"
      ],
      "text/plain": [
       "epoch \u001b[1;36m7\u001b[0m | train_loss \u001b[1;36m0.079125\u001b[0m train_acc \u001b[1;36m0.970869\u001b[0m valid_loss \u001b[1;36m0.077281\u001b[0m valid_acc \u001b[1;36m0.968760\u001b[0m\n"
      ]
     },
     "metadata": {},
     "output_type": "display_data"
    },
    {
     "name": "stderr",
     "output_type": "stream",
     "text": [
      "training: 100%|████████████████████████████████████████████████████████████████████| 3670/3670 [01:48<00:00, 33.84it/s]\n",
      "validating: 100%|██████████████████████████████████████████████████████████████████| 2151/2151 [00:30<00:00, 69.81it/s]\n"
     ]
    },
    {
     "data": {
      "text/html": [
       "<pre style=\"white-space:pre;overflow-x:auto;line-height:normal;font-family:Menlo,'DejaVu Sans Mono',consolas,'Courier New',monospace\">epoch <span style=\"color: #008080; text-decoration-color: #008080; font-weight: bold\">8</span> | train_loss <span style=\"color: #008080; text-decoration-color: #008080; font-weight: bold\">0.064097</span> train_acc <span style=\"color: #008080; text-decoration-color: #008080; font-weight: bold\">0.974748</span> valid_loss <span style=\"color: #008080; text-decoration-color: #008080; font-weight: bold\">0.064391</span> valid_acc <span style=\"color: #008080; text-decoration-color: #008080; font-weight: bold\">0.977032</span>\n",
       "</pre>\n"
      ],
      "text/plain": [
       "epoch \u001b[1;36m8\u001b[0m | train_loss \u001b[1;36m0.064097\u001b[0m train_acc \u001b[1;36m0.974748\u001b[0m valid_loss \u001b[1;36m0.064391\u001b[0m valid_acc \u001b[1;36m0.977032\u001b[0m\n"
      ]
     },
     "metadata": {},
     "output_type": "display_data"
    },
    {
     "name": "stderr",
     "output_type": "stream",
     "text": [
      "training: 100%|████████████████████████████████████████████████████████████████████| 3670/3670 [01:48<00:00, 33.75it/s]\n",
      "validating: 100%|██████████████████████████████████████████████████████████████████| 2151/2151 [00:30<00:00, 69.73it/s]\n"
     ]
    },
    {
     "data": {
      "text/html": [
       "<pre style=\"white-space:pre;overflow-x:auto;line-height:normal;font-family:Menlo,'DejaVu Sans Mono',consolas,'Courier New',monospace\">epoch <span style=\"color: #008080; text-decoration-color: #008080; font-weight: bold\">9</span> | train_loss <span style=\"color: #008080; text-decoration-color: #008080; font-weight: bold\">0.055036</span> train_acc <span style=\"color: #008080; text-decoration-color: #008080; font-weight: bold\">0.977784</span> valid_loss <span style=\"color: #008080; text-decoration-color: #008080; font-weight: bold\">0.050583</span> valid_acc <span style=\"color: #008080; text-decoration-color: #008080; font-weight: bold\">0.979812</span>\n",
       "</pre>\n"
      ],
      "text/plain": [
       "epoch \u001b[1;36m9\u001b[0m | train_loss \u001b[1;36m0.055036\u001b[0m train_acc \u001b[1;36m0.977784\u001b[0m valid_loss \u001b[1;36m0.050583\u001b[0m valid_acc \u001b[1;36m0.979812\u001b[0m\n"
      ]
     },
     "metadata": {},
     "output_type": "display_data"
    },
    {
     "name": "stderr",
     "output_type": "stream",
     "text": [
      "training: 100%|████████████████████████████████████████████████████████████████████| 3670/3670 [01:48<00:00, 33.79it/s]\n",
      "validating: 100%|██████████████████████████████████████████████████████████████████| 2151/2151 [00:30<00:00, 70.32it/s]\n"
     ]
    },
    {
     "data": {
      "text/html": [
       "<pre style=\"white-space:pre;overflow-x:auto;line-height:normal;font-family:Menlo,'DejaVu Sans Mono',consolas,'Courier New',monospace\">epoch <span style=\"color: #008080; text-decoration-color: #008080; font-weight: bold\">10</span> | train_loss <span style=\"color: #008080; text-decoration-color: #008080; font-weight: bold\">0.049220</span> train_acc <span style=\"color: #008080; text-decoration-color: #008080; font-weight: bold\">0.979726</span> valid_loss <span style=\"color: #008080; text-decoration-color: #008080; font-weight: bold\">0.047275</span> valid_acc <span style=\"color: #008080; text-decoration-color: #008080; font-weight: bold\">0.980011</span>\n",
       "</pre>\n"
      ],
      "text/plain": [
       "epoch \u001b[1;36m10\u001b[0m | train_loss \u001b[1;36m0.049220\u001b[0m train_acc \u001b[1;36m0.979726\u001b[0m valid_loss \u001b[1;36m0.047275\u001b[0m valid_acc \u001b[1;36m0.980011\u001b[0m\n"
      ]
     },
     "metadata": {},
     "output_type": "display_data"
    },
    {
     "name": "stderr",
     "output_type": "stream",
     "text": [
      "training: 100%|████████████████████████████████████████████████████████████████████| 3670/3670 [01:48<00:00, 33.67it/s]\n",
      "validating: 100%|██████████████████████████████████████████████████████████████████| 2151/2151 [00:30<00:00, 70.36it/s]\n"
     ]
    },
    {
     "data": {
      "text/html": [
       "<pre style=\"white-space:pre;overflow-x:auto;line-height:normal;font-family:Menlo,'DejaVu Sans Mono',consolas,'Courier New',monospace\">epoch <span style=\"color: #008080; text-decoration-color: #008080; font-weight: bold\">11</span> | train_loss <span style=\"color: #008080; text-decoration-color: #008080; font-weight: bold\">0.043651</span> train_acc <span style=\"color: #008080; text-decoration-color: #008080; font-weight: bold\">0.981633</span> valid_loss <span style=\"color: #008080; text-decoration-color: #008080; font-weight: bold\">0.046343</span> valid_acc <span style=\"color: #008080; text-decoration-color: #008080; font-weight: bold\">0.981668</span>\n",
       "</pre>\n"
      ],
      "text/plain": [
       "epoch \u001b[1;36m11\u001b[0m | train_loss \u001b[1;36m0.043651\u001b[0m train_acc \u001b[1;36m0.981633\u001b[0m valid_loss \u001b[1;36m0.046343\u001b[0m valid_acc \u001b[1;36m0.981668\u001b[0m\n"
      ]
     },
     "metadata": {},
     "output_type": "display_data"
    },
    {
     "name": "stderr",
     "output_type": "stream",
     "text": [
      "training: 100%|████████████████████████████████████████████████████████████████████| 3670/3670 [01:48<00:00, 33.79it/s]\n",
      "validating: 100%|██████████████████████████████████████████████████████████████████| 2151/2151 [00:31<00:00, 69.20it/s]\n"
     ]
    },
    {
     "data": {
      "text/html": [
       "<pre style=\"white-space:pre;overflow-x:auto;line-height:normal;font-family:Menlo,'DejaVu Sans Mono',consolas,'Courier New',monospace\">epoch <span style=\"color: #008080; text-decoration-color: #008080; font-weight: bold\">12</span> | train_loss <span style=\"color: #008080; text-decoration-color: #008080; font-weight: bold\">0.041099</span> train_acc <span style=\"color: #008080; text-decoration-color: #008080; font-weight: bold\">0.982545</span> valid_loss <span style=\"color: #008080; text-decoration-color: #008080; font-weight: bold\">0.042137</span> valid_acc <span style=\"color: #008080; text-decoration-color: #008080; font-weight: bold\">0.982551</span>\n",
       "</pre>\n"
      ],
      "text/plain": [
       "epoch \u001b[1;36m12\u001b[0m | train_loss \u001b[1;36m0.041099\u001b[0m train_acc \u001b[1;36m0.982545\u001b[0m valid_loss \u001b[1;36m0.042137\u001b[0m valid_acc \u001b[1;36m0.982551\u001b[0m\n"
      ]
     },
     "metadata": {},
     "output_type": "display_data"
    },
    {
     "name": "stderr",
     "output_type": "stream",
     "text": [
      "training: 100%|████████████████████████████████████████████████████████████████████| 3670/3670 [01:48<00:00, 33.72it/s]\n",
      "validating: 100%|██████████████████████████████████████████████████████████████████| 2151/2151 [00:31<00:00, 69.17it/s]\n"
     ]
    },
    {
     "data": {
      "text/html": [
       "<pre style=\"white-space:pre;overflow-x:auto;line-height:normal;font-family:Menlo,'DejaVu Sans Mono',consolas,'Courier New',monospace\">epoch <span style=\"color: #008080; text-decoration-color: #008080; font-weight: bold\">13</span> | train_loss <span style=\"color: #008080; text-decoration-color: #008080; font-weight: bold\">0.040275</span> train_acc <span style=\"color: #008080; text-decoration-color: #008080; font-weight: bold\">0.982594</span> valid_loss <span style=\"color: #008080; text-decoration-color: #008080; font-weight: bold\">0.090195</span> valid_acc <span style=\"color: #008080; text-decoration-color: #008080; font-weight: bold\">0.966660</span>\n",
       "</pre>\n"
      ],
      "text/plain": [
       "epoch \u001b[1;36m13\u001b[0m | train_loss \u001b[1;36m0.040275\u001b[0m train_acc \u001b[1;36m0.982594\u001b[0m valid_loss \u001b[1;36m0.090195\u001b[0m valid_acc \u001b[1;36m0.966660\u001b[0m\n"
      ]
     },
     "metadata": {},
     "output_type": "display_data"
    },
    {
     "name": "stderr",
     "output_type": "stream",
     "text": [
      "training: 100%|████████████████████████████████████████████████████████████████████| 3670/3670 [01:49<00:00, 33.63it/s]\n",
      "validating: 100%|██████████████████████████████████████████████████████████████████| 2151/2151 [00:31<00:00, 69.14it/s]\n"
     ]
    },
    {
     "data": {
      "text/html": [
       "<pre style=\"white-space:pre;overflow-x:auto;line-height:normal;font-family:Menlo,'DejaVu Sans Mono',consolas,'Courier New',monospace\">epoch <span style=\"color: #008080; text-decoration-color: #008080; font-weight: bold\">14</span> | train_loss <span style=\"color: #008080; text-decoration-color: #008080; font-weight: bold\">0.038382</span> train_acc <span style=\"color: #008080; text-decoration-color: #008080; font-weight: bold\">0.983064</span> valid_loss <span style=\"color: #008080; text-decoration-color: #008080; font-weight: bold\">0.038106</span> valid_acc <span style=\"color: #008080; text-decoration-color: #008080; font-weight: bold\">0.982987</span>\n",
       "</pre>\n"
      ],
      "text/plain": [
       "epoch \u001b[1;36m14\u001b[0m | train_loss \u001b[1;36m0.038382\u001b[0m train_acc \u001b[1;36m0.983064\u001b[0m valid_loss \u001b[1;36m0.038106\u001b[0m valid_acc \u001b[1;36m0.982987\u001b[0m\n"
      ]
     },
     "metadata": {},
     "output_type": "display_data"
    },
    {
     "name": "stderr",
     "output_type": "stream",
     "text": [
      "training: 100%|████████████████████████████████████████████████████████████████████| 3670/3670 [01:48<00:00, 33.75it/s]\n",
      "validating: 100%|██████████████████████████████████████████████████████████████████| 2151/2151 [00:30<00:00, 69.45it/s]\n"
     ]
    },
    {
     "data": {
      "text/html": [
       "<pre style=\"white-space:pre;overflow-x:auto;line-height:normal;font-family:Menlo,'DejaVu Sans Mono',consolas,'Courier New',monospace\">epoch <span style=\"color: #008080; text-decoration-color: #008080; font-weight: bold\">15</span> | train_loss <span style=\"color: #008080; text-decoration-color: #008080; font-weight: bold\">0.037218</span> train_acc <span style=\"color: #008080; text-decoration-color: #008080; font-weight: bold\">0.983281</span> valid_loss <span style=\"color: #008080; text-decoration-color: #008080; font-weight: bold\">0.040720</span> valid_acc <span style=\"color: #008080; text-decoration-color: #008080; font-weight: bold\">0.982053</span>\n",
       "</pre>\n"
      ],
      "text/plain": [
       "epoch \u001b[1;36m15\u001b[0m | train_loss \u001b[1;36m0.037218\u001b[0m train_acc \u001b[1;36m0.983281\u001b[0m valid_loss \u001b[1;36m0.040720\u001b[0m valid_acc \u001b[1;36m0.982053\u001b[0m\n"
      ]
     },
     "metadata": {},
     "output_type": "display_data"
    },
    {
     "name": "stderr",
     "output_type": "stream",
     "text": [
      "training: 100%|████████████████████████████████████████████████████████████████████| 3670/3670 [01:48<00:00, 33.79it/s]\n",
      "validating: 100%|██████████████████████████████████████████████████████████████████| 2151/2151 [00:30<00:00, 69.43it/s]\n"
     ]
    },
    {
     "data": {
      "text/html": [
       "<pre style=\"white-space:pre;overflow-x:auto;line-height:normal;font-family:Menlo,'DejaVu Sans Mono',consolas,'Courier New',monospace\">epoch <span style=\"color: #008080; text-decoration-color: #008080; font-weight: bold\">16</span> | train_loss <span style=\"color: #008080; text-decoration-color: #008080; font-weight: bold\">0.038696</span> train_acc <span style=\"color: #008080; text-decoration-color: #008080; font-weight: bold\">0.983168</span> valid_loss <span style=\"color: #008080; text-decoration-color: #008080; font-weight: bold\">0.039240</span> valid_acc <span style=\"color: #008080; text-decoration-color: #008080; font-weight: bold\">0.983612</span>\n",
       "</pre>\n"
      ],
      "text/plain": [
       "epoch \u001b[1;36m16\u001b[0m | train_loss \u001b[1;36m0.038696\u001b[0m train_acc \u001b[1;36m0.983168\u001b[0m valid_loss \u001b[1;36m0.039240\u001b[0m valid_acc \u001b[1;36m0.983612\u001b[0m\n"
      ]
     },
     "metadata": {},
     "output_type": "display_data"
    },
    {
     "name": "stderr",
     "output_type": "stream",
     "text": [
      "training: 100%|████████████████████████████████████████████████████████████████████| 3670/3670 [01:48<00:00, 33.83it/s]\n",
      "validating: 100%|██████████████████████████████████████████████████████████████████| 2151/2151 [00:30<00:00, 69.70it/s]\n"
     ]
    },
    {
     "data": {
      "text/html": [
       "<pre style=\"white-space:pre;overflow-x:auto;line-height:normal;font-family:Menlo,'DejaVu Sans Mono',consolas,'Courier New',monospace\">epoch <span style=\"color: #008080; text-decoration-color: #008080; font-weight: bold\">17</span> | train_loss <span style=\"color: #008080; text-decoration-color: #008080; font-weight: bold\">0.035620</span> train_acc <span style=\"color: #008080; text-decoration-color: #008080; font-weight: bold\">0.983875</span> valid_loss <span style=\"color: #008080; text-decoration-color: #008080; font-weight: bold\">0.036262</span> valid_acc <span style=\"color: #008080; text-decoration-color: #008080; font-weight: bold\">0.983779</span>\n",
       "</pre>\n"
      ],
      "text/plain": [
       "epoch \u001b[1;36m17\u001b[0m | train_loss \u001b[1;36m0.035620\u001b[0m train_acc \u001b[1;36m0.983875\u001b[0m valid_loss \u001b[1;36m0.036262\u001b[0m valid_acc \u001b[1;36m0.983779\u001b[0m\n"
      ]
     },
     "metadata": {},
     "output_type": "display_data"
    },
    {
     "name": "stderr",
     "output_type": "stream",
     "text": [
      "training: 100%|████████████████████████████████████████████████████████████████████| 3670/3670 [01:47<00:00, 34.04it/s]\n",
      "validating: 100%|██████████████████████████████████████████████████████████████████| 2151/2151 [00:30<00:00, 69.92it/s]\n"
     ]
    },
    {
     "data": {
      "text/html": [
       "<pre style=\"white-space:pre;overflow-x:auto;line-height:normal;font-family:Menlo,'DejaVu Sans Mono',consolas,'Courier New',monospace\">epoch <span style=\"color: #008080; text-decoration-color: #008080; font-weight: bold\">18</span> | train_loss <span style=\"color: #008080; text-decoration-color: #008080; font-weight: bold\">0.034376</span> train_acc <span style=\"color: #008080; text-decoration-color: #008080; font-weight: bold\">0.984099</span> valid_loss <span style=\"color: #008080; text-decoration-color: #008080; font-weight: bold\">0.037066</span> valid_acc <span style=\"color: #008080; text-decoration-color: #008080; font-weight: bold\">0.983637</span>\n",
       "</pre>\n"
      ],
      "text/plain": [
       "epoch \u001b[1;36m18\u001b[0m | train_loss \u001b[1;36m0.034376\u001b[0m train_acc \u001b[1;36m0.984099\u001b[0m valid_loss \u001b[1;36m0.037066\u001b[0m valid_acc \u001b[1;36m0.983637\u001b[0m\n"
      ]
     },
     "metadata": {},
     "output_type": "display_data"
    },
    {
     "name": "stderr",
     "output_type": "stream",
     "text": [
      "training: 100%|████████████████████████████████████████████████████████████████████| 3670/3670 [01:47<00:00, 34.16it/s]\n",
      "validating: 100%|██████████████████████████████████████████████████████████████████| 2151/2151 [00:30<00:00, 69.63it/s]\n"
     ]
    },
    {
     "data": {
      "text/html": [
       "<pre style=\"white-space:pre;overflow-x:auto;line-height:normal;font-family:Menlo,'DejaVu Sans Mono',consolas,'Courier New',monospace\">epoch <span style=\"color: #008080; text-decoration-color: #008080; font-weight: bold\">19</span> | train_loss <span style=\"color: #008080; text-decoration-color: #008080; font-weight: bold\">0.033933</span> train_acc <span style=\"color: #008080; text-decoration-color: #008080; font-weight: bold\">0.984212</span> valid_loss <span style=\"color: #008080; text-decoration-color: #008080; font-weight: bold\">0.034564</span> valid_acc <span style=\"color: #008080; text-decoration-color: #008080; font-weight: bold\">0.983833</span>\n",
       "</pre>\n"
      ],
      "text/plain": [
       "epoch \u001b[1;36m19\u001b[0m | train_loss \u001b[1;36m0.033933\u001b[0m train_acc \u001b[1;36m0.984212\u001b[0m valid_loss \u001b[1;36m0.034564\u001b[0m valid_acc \u001b[1;36m0.983833\u001b[0m\n"
      ]
     },
     "metadata": {},
     "output_type": "display_data"
    },
    {
     "name": "stderr",
     "output_type": "stream",
     "text": [
      "training: 100%|████████████████████████████████████████████████████████████████████| 3670/3670 [01:48<00:00, 33.87it/s]\n",
      "validating: 100%|██████████████████████████████████████████████████████████████████| 2151/2151 [00:30<00:00, 69.55it/s]\n"
     ]
    },
    {
     "data": {
      "text/html": [
       "<pre style=\"white-space:pre;overflow-x:auto;line-height:normal;font-family:Menlo,'DejaVu Sans Mono',consolas,'Courier New',monospace\">epoch <span style=\"color: #008080; text-decoration-color: #008080; font-weight: bold\">20</span> | train_loss <span style=\"color: #008080; text-decoration-color: #008080; font-weight: bold\">0.032739</span> train_acc <span style=\"color: #008080; text-decoration-color: #008080; font-weight: bold\">0.984588</span> valid_loss <span style=\"color: #008080; text-decoration-color: #008080; font-weight: bold\">0.044498</span> valid_acc <span style=\"color: #008080; text-decoration-color: #008080; font-weight: bold\">0.977127</span>\n",
       "</pre>\n"
      ],
      "text/plain": [
       "epoch \u001b[1;36m20\u001b[0m | train_loss \u001b[1;36m0.032739\u001b[0m train_acc \u001b[1;36m0.984588\u001b[0m valid_loss \u001b[1;36m0.044498\u001b[0m valid_acc \u001b[1;36m0.977127\u001b[0m\n"
      ]
     },
     "metadata": {},
     "output_type": "display_data"
    },
    {
     "name": "stderr",
     "output_type": "stream",
     "text": [
      "training: 100%|████████████████████████████████████████████████████████████████████| 3670/3670 [01:48<00:00, 33.93it/s]\n",
      "validating: 100%|██████████████████████████████████████████████████████████████████| 2151/2151 [00:30<00:00, 69.90it/s]\n"
     ]
    },
    {
     "data": {
      "text/html": [
       "<pre style=\"white-space:pre;overflow-x:auto;line-height:normal;font-family:Menlo,'DejaVu Sans Mono',consolas,'Courier New',monospace\">epoch <span style=\"color: #008080; text-decoration-color: #008080; font-weight: bold\">21</span> | train_loss <span style=\"color: #008080; text-decoration-color: #008080; font-weight: bold\">0.032430</span> train_acc <span style=\"color: #008080; text-decoration-color: #008080; font-weight: bold\">0.984784</span> valid_loss <span style=\"color: #008080; text-decoration-color: #008080; font-weight: bold\">0.040836</span> valid_acc <span style=\"color: #008080; text-decoration-color: #008080; font-weight: bold\">0.978130</span>\n",
       "</pre>\n"
      ],
      "text/plain": [
       "epoch \u001b[1;36m21\u001b[0m | train_loss \u001b[1;36m0.032430\u001b[0m train_acc \u001b[1;36m0.984784\u001b[0m valid_loss \u001b[1;36m0.040836\u001b[0m valid_acc \u001b[1;36m0.978130\u001b[0m\n"
      ]
     },
     "metadata": {},
     "output_type": "display_data"
    },
    {
     "name": "stderr",
     "output_type": "stream",
     "text": [
      "training: 100%|████████████████████████████████████████████████████████████████████| 3670/3670 [01:48<00:00, 33.93it/s]\n",
      "validating: 100%|██████████████████████████████████████████████████████████████████| 2151/2151 [00:30<00:00, 69.58it/s]\n"
     ]
    },
    {
     "data": {
      "text/html": [
       "<pre style=\"white-space:pre;overflow-x:auto;line-height:normal;font-family:Menlo,'DejaVu Sans Mono',consolas,'Courier New',monospace\">epoch <span style=\"color: #008080; text-decoration-color: #008080; font-weight: bold\">22</span> | train_loss <span style=\"color: #008080; text-decoration-color: #008080; font-weight: bold\">0.033455</span> train_acc <span style=\"color: #008080; text-decoration-color: #008080; font-weight: bold\">0.984429</span> valid_loss <span style=\"color: #008080; text-decoration-color: #008080; font-weight: bold\">0.034604</span> valid_acc <span style=\"color: #008080; text-decoration-color: #008080; font-weight: bold\">0.984433</span>\n",
       "</pre>\n"
      ],
      "text/plain": [
       "epoch \u001b[1;36m22\u001b[0m | train_loss \u001b[1;36m0.033455\u001b[0m train_acc \u001b[1;36m0.984429\u001b[0m valid_loss \u001b[1;36m0.034604\u001b[0m valid_acc \u001b[1;36m0.984433\u001b[0m\n"
      ]
     },
     "metadata": {},
     "output_type": "display_data"
    },
    {
     "name": "stderr",
     "output_type": "stream",
     "text": [
      "training: 100%|████████████████████████████████████████████████████████████████████| 3670/3670 [01:47<00:00, 34.16it/s]\n",
      "validating: 100%|██████████████████████████████████████████████████████████████████| 2151/2151 [00:30<00:00, 69.61it/s]\n"
     ]
    },
    {
     "data": {
      "text/html": [
       "<pre style=\"white-space:pre;overflow-x:auto;line-height:normal;font-family:Menlo,'DejaVu Sans Mono',consolas,'Courier New',monospace\">epoch <span style=\"color: #008080; text-decoration-color: #008080; font-weight: bold\">23</span> | train_loss <span style=\"color: #008080; text-decoration-color: #008080; font-weight: bold\">0.030672</span> train_acc <span style=\"color: #008080; text-decoration-color: #008080; font-weight: bold\">0.985189</span> valid_loss <span style=\"color: #008080; text-decoration-color: #008080; font-weight: bold\">0.041020</span> valid_acc <span style=\"color: #008080; text-decoration-color: #008080; font-weight: bold\">0.976502</span>\n",
       "</pre>\n"
      ],
      "text/plain": [
       "epoch \u001b[1;36m23\u001b[0m | train_loss \u001b[1;36m0.030672\u001b[0m train_acc \u001b[1;36m0.985189\u001b[0m valid_loss \u001b[1;36m0.041020\u001b[0m valid_acc \u001b[1;36m0.976502\u001b[0m\n"
      ]
     },
     "metadata": {},
     "output_type": "display_data"
    },
    {
     "name": "stderr",
     "output_type": "stream",
     "text": [
      "training: 100%|████████████████████████████████████████████████████████████████████| 3670/3670 [01:48<00:00, 33.95it/s]\n",
      "validating: 100%|██████████████████████████████████████████████████████████████████| 2151/2151 [00:30<00:00, 69.80it/s]\n"
     ]
    },
    {
     "data": {
      "text/html": [
       "<pre style=\"white-space:pre;overflow-x:auto;line-height:normal;font-family:Menlo,'DejaVu Sans Mono',consolas,'Courier New',monospace\">epoch <span style=\"color: #008080; text-decoration-color: #008080; font-weight: bold\">24</span> | train_loss <span style=\"color: #008080; text-decoration-color: #008080; font-weight: bold\">0.030966</span> train_acc <span style=\"color: #008080; text-decoration-color: #008080; font-weight: bold\">0.985138</span> valid_loss <span style=\"color: #008080; text-decoration-color: #008080; font-weight: bold\">0.038117</span> valid_acc <span style=\"color: #008080; text-decoration-color: #008080; font-weight: bold\">0.983942</span>\n",
       "</pre>\n"
      ],
      "text/plain": [
       "epoch \u001b[1;36m24\u001b[0m | train_loss \u001b[1;36m0.030966\u001b[0m train_acc \u001b[1;36m0.985138\u001b[0m valid_loss \u001b[1;36m0.038117\u001b[0m valid_acc \u001b[1;36m0.983942\u001b[0m\n"
      ]
     },
     "metadata": {},
     "output_type": "display_data"
    },
    {
     "name": "stderr",
     "output_type": "stream",
     "text": [
      "training: 100%|████████████████████████████████████████████████████████████████████| 3670/3670 [01:47<00:00, 34.12it/s]\n",
      "validating: 100%|██████████████████████████████████████████████████████████████████| 2151/2151 [00:30<00:00, 69.86it/s]\n"
     ]
    },
    {
     "data": {
      "text/html": [
       "<pre style=\"white-space:pre;overflow-x:auto;line-height:normal;font-family:Menlo,'DejaVu Sans Mono',consolas,'Courier New',monospace\">epoch <span style=\"color: #008080; text-decoration-color: #008080; font-weight: bold\">25</span> | train_loss <span style=\"color: #008080; text-decoration-color: #008080; font-weight: bold\">0.030479</span> train_acc <span style=\"color: #008080; text-decoration-color: #008080; font-weight: bold\">0.985304</span> valid_loss <span style=\"color: #008080; text-decoration-color: #008080; font-weight: bold\">0.034389</span> valid_acc <span style=\"color: #008080; text-decoration-color: #008080; font-weight: bold\">0.984059</span>\n",
       "</pre>\n"
      ],
      "text/plain": [
       "epoch \u001b[1;36m25\u001b[0m | train_loss \u001b[1;36m0.030479\u001b[0m train_acc \u001b[1;36m0.985304\u001b[0m valid_loss \u001b[1;36m0.034389\u001b[0m valid_acc \u001b[1;36m0.984059\u001b[0m\n"
      ]
     },
     "metadata": {},
     "output_type": "display_data"
    },
    {
     "name": "stderr",
     "output_type": "stream",
     "text": [
      "training: 100%|████████████████████████████████████████████████████████████████████| 3670/3670 [01:48<00:00, 33.96it/s]\n",
      "validating: 100%|██████████████████████████████████████████████████████████████████| 2151/2151 [00:30<00:00, 69.55it/s]\n"
     ]
    },
    {
     "data": {
      "text/html": [
       "<pre style=\"white-space:pre;overflow-x:auto;line-height:normal;font-family:Menlo,'DejaVu Sans Mono',consolas,'Courier New',monospace\">epoch <span style=\"color: #008080; text-decoration-color: #008080; font-weight: bold\">26</span> | train_loss <span style=\"color: #008080; text-decoration-color: #008080; font-weight: bold\">0.034612</span> train_acc <span style=\"color: #008080; text-decoration-color: #008080; font-weight: bold\">0.984505</span> valid_loss <span style=\"color: #008080; text-decoration-color: #008080; font-weight: bold\">0.033938</span> valid_acc <span style=\"color: #008080; text-decoration-color: #008080; font-weight: bold\">0.984687</span>\n",
       "</pre>\n"
      ],
      "text/plain": [
       "epoch \u001b[1;36m26\u001b[0m | train_loss \u001b[1;36m0.034612\u001b[0m train_acc \u001b[1;36m0.984505\u001b[0m valid_loss \u001b[1;36m0.033938\u001b[0m valid_acc \u001b[1;36m0.984687\u001b[0m\n"
      ]
     },
     "metadata": {},
     "output_type": "display_data"
    },
    {
     "name": "stderr",
     "output_type": "stream",
     "text": [
      "training: 100%|████████████████████████████████████████████████████████████████████| 3670/3670 [01:47<00:00, 34.03it/s]\n",
      "validating: 100%|██████████████████████████████████████████████████████████████████| 2151/2151 [00:30<00:00, 69.58it/s]\n"
     ]
    },
    {
     "data": {
      "text/html": [
       "<pre style=\"white-space:pre;overflow-x:auto;line-height:normal;font-family:Menlo,'DejaVu Sans Mono',consolas,'Courier New',monospace\">epoch <span style=\"color: #008080; text-decoration-color: #008080; font-weight: bold\">27</span> | train_loss <span style=\"color: #008080; text-decoration-color: #008080; font-weight: bold\">0.028937</span> train_acc <span style=\"color: #008080; text-decoration-color: #008080; font-weight: bold\">0.985879</span> valid_loss <span style=\"color: #008080; text-decoration-color: #008080; font-weight: bold\">0.034894</span> valid_acc <span style=\"color: #008080; text-decoration-color: #008080; font-weight: bold\">0.984789</span>\n",
       "</pre>\n"
      ],
      "text/plain": [
       "epoch \u001b[1;36m27\u001b[0m | train_loss \u001b[1;36m0.028937\u001b[0m train_acc \u001b[1;36m0.985879\u001b[0m valid_loss \u001b[1;36m0.034894\u001b[0m valid_acc \u001b[1;36m0.984789\u001b[0m\n"
      ]
     },
     "metadata": {},
     "output_type": "display_data"
    },
    {
     "name": "stderr",
     "output_type": "stream",
     "text": [
      "training: 100%|████████████████████████████████████████████████████████████████████| 3670/3670 [01:47<00:00, 34.02it/s]\n",
      "validating: 100%|██████████████████████████████████████████████████████████████████| 2151/2151 [00:30<00:00, 69.69it/s]\n"
     ]
    },
    {
     "data": {
      "text/html": [
       "<pre style=\"white-space:pre;overflow-x:auto;line-height:normal;font-family:Menlo,'DejaVu Sans Mono',consolas,'Courier New',monospace\">epoch <span style=\"color: #008080; text-decoration-color: #008080; font-weight: bold\">28</span> | train_loss <span style=\"color: #008080; text-decoration-color: #008080; font-weight: bold\">0.029606</span> train_acc <span style=\"color: #008080; text-decoration-color: #008080; font-weight: bold\">0.985538</span> valid_loss <span style=\"color: #008080; text-decoration-color: #008080; font-weight: bold\">0.033831</span> valid_acc <span style=\"color: #008080; text-decoration-color: #008080; font-weight: bold\">0.983975</span>\n",
       "</pre>\n"
      ],
      "text/plain": [
       "epoch \u001b[1;36m28\u001b[0m | train_loss \u001b[1;36m0.029606\u001b[0m train_acc \u001b[1;36m0.985538\u001b[0m valid_loss \u001b[1;36m0.033831\u001b[0m valid_acc \u001b[1;36m0.983975\u001b[0m\n"
      ]
     },
     "metadata": {},
     "output_type": "display_data"
    },
    {
     "name": "stderr",
     "output_type": "stream",
     "text": [
      "training: 100%|████████████████████████████████████████████████████████████████████| 3670/3670 [01:48<00:00, 33.87it/s]\n",
      "validating: 100%|██████████████████████████████████████████████████████████████████| 2151/2151 [00:30<00:00, 69.55it/s]\n"
     ]
    },
    {
     "data": {
      "text/html": [
       "<pre style=\"white-space:pre;overflow-x:auto;line-height:normal;font-family:Menlo,'DejaVu Sans Mono',consolas,'Courier New',monospace\">epoch <span style=\"color: #008080; text-decoration-color: #008080; font-weight: bold\">29</span> | train_loss <span style=\"color: #008080; text-decoration-color: #008080; font-weight: bold\">0.029070</span> train_acc <span style=\"color: #008080; text-decoration-color: #008080; font-weight: bold\">0.985776</span> valid_loss <span style=\"color: #008080; text-decoration-color: #008080; font-weight: bold\">0.032084</span> valid_acc <span style=\"color: #008080; text-decoration-color: #008080; font-weight: bold\">0.984912</span>\n",
       "</pre>\n"
      ],
      "text/plain": [
       "epoch \u001b[1;36m29\u001b[0m | train_loss \u001b[1;36m0.029070\u001b[0m train_acc \u001b[1;36m0.985776\u001b[0m valid_loss \u001b[1;36m0.032084\u001b[0m valid_acc \u001b[1;36m0.984912\u001b[0m\n"
      ]
     },
     "metadata": {},
     "output_type": "display_data"
    },
    {
     "name": "stderr",
     "output_type": "stream",
     "text": [
      "training: 100%|████████████████████████████████████████████████████████████████████| 3670/3670 [01:48<00:00, 33.95it/s]\n",
      "validating: 100%|██████████████████████████████████████████████████████████████████| 2151/2151 [00:30<00:00, 69.59it/s]\n"
     ]
    },
    {
     "data": {
      "text/html": [
       "<pre style=\"white-space:pre;overflow-x:auto;line-height:normal;font-family:Menlo,'DejaVu Sans Mono',consolas,'Courier New',monospace\">epoch <span style=\"color: #008080; text-decoration-color: #008080; font-weight: bold\">30</span> | train_loss <span style=\"color: #008080; text-decoration-color: #008080; font-weight: bold\">0.029347</span> train_acc <span style=\"color: #008080; text-decoration-color: #008080; font-weight: bold\">0.985825</span> valid_loss <span style=\"color: #008080; text-decoration-color: #008080; font-weight: bold\">0.061685</span> valid_acc <span style=\"color: #008080; text-decoration-color: #008080; font-weight: bold\">0.978137</span>\n",
       "</pre>\n"
      ],
      "text/plain": [
       "epoch \u001b[1;36m30\u001b[0m | train_loss \u001b[1;36m0.029347\u001b[0m train_acc \u001b[1;36m0.985825\u001b[0m valid_loss \u001b[1;36m0.061685\u001b[0m valid_acc \u001b[1;36m0.978137\u001b[0m\n"
      ]
     },
     "metadata": {},
     "output_type": "display_data"
    },
    {
     "name": "stderr",
     "output_type": "stream",
     "text": [
      "training: 100%|████████████████████████████████████████████████████████████████████| 3670/3670 [01:48<00:00, 33.95it/s]\n",
      "validating: 100%|██████████████████████████████████████████████████████████████████| 2151/2151 [00:30<00:00, 69.74it/s]\n"
     ]
    },
    {
     "data": {
      "text/html": [
       "<pre style=\"white-space:pre;overflow-x:auto;line-height:normal;font-family:Menlo,'DejaVu Sans Mono',consolas,'Courier New',monospace\">epoch <span style=\"color: #008080; text-decoration-color: #008080; font-weight: bold\">31</span> | train_loss <span style=\"color: #008080; text-decoration-color: #008080; font-weight: bold\">0.027767</span> train_acc <span style=\"color: #008080; text-decoration-color: #008080; font-weight: bold\">0.986306</span> valid_loss <span style=\"color: #008080; text-decoration-color: #008080; font-weight: bold\">0.032848</span> valid_acc <span style=\"color: #008080; text-decoration-color: #008080; font-weight: bold\">0.984378</span>\n",
       "</pre>\n"
      ],
      "text/plain": [
       "epoch \u001b[1;36m31\u001b[0m | train_loss \u001b[1;36m0.027767\u001b[0m train_acc \u001b[1;36m0.986306\u001b[0m valid_loss \u001b[1;36m0.032848\u001b[0m valid_acc \u001b[1;36m0.984378\u001b[0m\n"
      ]
     },
     "metadata": {},
     "output_type": "display_data"
    },
    {
     "name": "stderr",
     "output_type": "stream",
     "text": [
      "training: 100%|████████████████████████████████████████████████████████████████████| 3670/3670 [01:47<00:00, 34.18it/s]\n",
      "validating: 100%|██████████████████████████████████████████████████████████████████| 2151/2151 [00:30<00:00, 69.74it/s]\n"
     ]
    },
    {
     "data": {
      "text/html": [
       "<pre style=\"white-space:pre;overflow-x:auto;line-height:normal;font-family:Menlo,'DejaVu Sans Mono',consolas,'Courier New',monospace\">epoch <span style=\"color: #008080; text-decoration-color: #008080; font-weight: bold\">32</span> | train_loss <span style=\"color: #008080; text-decoration-color: #008080; font-weight: bold\">0.029417</span> train_acc <span style=\"color: #008080; text-decoration-color: #008080; font-weight: bold\">0.985776</span> valid_loss <span style=\"color: #008080; text-decoration-color: #008080; font-weight: bold\">0.032035</span> valid_acc <span style=\"color: #008080; text-decoration-color: #008080; font-weight: bold\">0.985141</span>\n",
       "</pre>\n"
      ],
      "text/plain": [
       "epoch \u001b[1;36m32\u001b[0m | train_loss \u001b[1;36m0.029417\u001b[0m train_acc \u001b[1;36m0.985776\u001b[0m valid_loss \u001b[1;36m0.032035\u001b[0m valid_acc \u001b[1;36m0.985141\u001b[0m\n"
      ]
     },
     "metadata": {},
     "output_type": "display_data"
    },
    {
     "name": "stderr",
     "output_type": "stream",
     "text": [
      "training: 100%|████████████████████████████████████████████████████████████████████| 3670/3670 [01:48<00:00, 33.87it/s]\n",
      "validating: 100%|██████████████████████████████████████████████████████████████████| 2151/2151 [00:30<00:00, 69.56it/s]\n"
     ]
    },
    {
     "data": {
      "text/html": [
       "<pre style=\"white-space:pre;overflow-x:auto;line-height:normal;font-family:Menlo,'DejaVu Sans Mono',consolas,'Courier New',monospace\">epoch <span style=\"color: #008080; text-decoration-color: #008080; font-weight: bold\">33</span> | train_loss <span style=\"color: #008080; text-decoration-color: #008080; font-weight: bold\">0.027745</span> train_acc <span style=\"color: #008080; text-decoration-color: #008080; font-weight: bold\">0.986411</span> valid_loss <span style=\"color: #008080; text-decoration-color: #008080; font-weight: bold\">0.031401</span> valid_acc <span style=\"color: #008080; text-decoration-color: #008080; font-weight: bold\">0.985043</span>\n",
       "</pre>\n"
      ],
      "text/plain": [
       "epoch \u001b[1;36m33\u001b[0m | train_loss \u001b[1;36m0.027745\u001b[0m train_acc \u001b[1;36m0.986411\u001b[0m valid_loss \u001b[1;36m0.031401\u001b[0m valid_acc \u001b[1;36m0.985043\u001b[0m\n"
      ]
     },
     "metadata": {},
     "output_type": "display_data"
    },
    {
     "name": "stderr",
     "output_type": "stream",
     "text": [
      "training: 100%|████████████████████████████████████████████████████████████████████| 3670/3670 [01:48<00:00, 33.97it/s]\n",
      "validating: 100%|██████████████████████████████████████████████████████████████████| 2151/2151 [00:30<00:00, 69.60it/s]\n"
     ]
    },
    {
     "data": {
      "text/html": [
       "<pre style=\"white-space:pre;overflow-x:auto;line-height:normal;font-family:Menlo,'DejaVu Sans Mono',consolas,'Courier New',monospace\">epoch <span style=\"color: #008080; text-decoration-color: #008080; font-weight: bold\">34</span> | train_loss <span style=\"color: #008080; text-decoration-color: #008080; font-weight: bold\">0.027395</span> train_acc <span style=\"color: #008080; text-decoration-color: #008080; font-weight: bold\">0.986417</span> valid_loss <span style=\"color: #008080; text-decoration-color: #008080; font-weight: bold\">0.032804</span> valid_acc <span style=\"color: #008080; text-decoration-color: #008080; font-weight: bold\">0.984596</span>\n",
       "</pre>\n"
      ],
      "text/plain": [
       "epoch \u001b[1;36m34\u001b[0m | train_loss \u001b[1;36m0.027395\u001b[0m train_acc \u001b[1;36m0.986417\u001b[0m valid_loss \u001b[1;36m0.032804\u001b[0m valid_acc \u001b[1;36m0.984596\u001b[0m\n"
      ]
     },
     "metadata": {},
     "output_type": "display_data"
    },
    {
     "name": "stderr",
     "output_type": "stream",
     "text": [
      "training: 100%|████████████████████████████████████████████████████████████████████| 3670/3670 [01:48<00:00, 33.93it/s]\n",
      "validating: 100%|██████████████████████████████████████████████████████████████████| 2151/2151 [00:30<00:00, 69.85it/s]\n"
     ]
    },
    {
     "data": {
      "text/html": [
       "<pre style=\"white-space:pre;overflow-x:auto;line-height:normal;font-family:Menlo,'DejaVu Sans Mono',consolas,'Courier New',monospace\">epoch <span style=\"color: #008080; text-decoration-color: #008080; font-weight: bold\">35</span> | train_loss <span style=\"color: #008080; text-decoration-color: #008080; font-weight: bold\">0.027094</span> train_acc <span style=\"color: #008080; text-decoration-color: #008080; font-weight: bold\">0.986407</span> valid_loss <span style=\"color: #008080; text-decoration-color: #008080; font-weight: bold\">0.033971</span> valid_acc <span style=\"color: #008080; text-decoration-color: #008080; font-weight: bold\">0.984233</span>\n",
       "</pre>\n"
      ],
      "text/plain": [
       "epoch \u001b[1;36m35\u001b[0m | train_loss \u001b[1;36m0.027094\u001b[0m train_acc \u001b[1;36m0.986407\u001b[0m valid_loss \u001b[1;36m0.033971\u001b[0m valid_acc \u001b[1;36m0.984233\u001b[0m\n"
      ]
     },
     "metadata": {},
     "output_type": "display_data"
    },
    {
     "name": "stderr",
     "output_type": "stream",
     "text": [
      "training: 100%|████████████████████████████████████████████████████████████████████| 3670/3670 [01:47<00:00, 34.08it/s]\n",
      "validating: 100%|██████████████████████████████████████████████████████████████████| 2151/2151 [00:30<00:00, 69.69it/s]\n"
     ]
    },
    {
     "data": {
      "text/html": [
       "<pre style=\"white-space:pre;overflow-x:auto;line-height:normal;font-family:Menlo,'DejaVu Sans Mono',consolas,'Courier New',monospace\">epoch <span style=\"color: #008080; text-decoration-color: #008080; font-weight: bold\">36</span> | train_loss <span style=\"color: #008080; text-decoration-color: #008080; font-weight: bold\">0.026898</span> train_acc <span style=\"color: #008080; text-decoration-color: #008080; font-weight: bold\">0.986534</span> valid_loss <span style=\"color: #008080; text-decoration-color: #008080; font-weight: bold\">0.031985</span> valid_acc <span style=\"color: #008080; text-decoration-color: #008080; font-weight: bold\">0.984538</span>\n",
       "</pre>\n"
      ],
      "text/plain": [
       "epoch \u001b[1;36m36\u001b[0m | train_loss \u001b[1;36m0.026898\u001b[0m train_acc \u001b[1;36m0.986534\u001b[0m valid_loss \u001b[1;36m0.031985\u001b[0m valid_acc \u001b[1;36m0.984538\u001b[0m\n"
      ]
     },
     "metadata": {},
     "output_type": "display_data"
    },
    {
     "name": "stderr",
     "output_type": "stream",
     "text": [
      "training: 100%|████████████████████████████████████████████████████████████████████| 3670/3670 [01:47<00:00, 33.99it/s]\n",
      "validating: 100%|██████████████████████████████████████████████████████████████████| 2151/2151 [00:30<00:00, 69.56it/s]\n"
     ]
    },
    {
     "data": {
      "text/html": [
       "<pre style=\"white-space:pre;overflow-x:auto;line-height:normal;font-family:Menlo,'DejaVu Sans Mono',consolas,'Courier New',monospace\">epoch <span style=\"color: #008080; text-decoration-color: #008080; font-weight: bold\">37</span> | train_loss <span style=\"color: #008080; text-decoration-color: #008080; font-weight: bold\">0.026623</span> train_acc <span style=\"color: #008080; text-decoration-color: #008080; font-weight: bold\">0.986762</span> valid_loss <span style=\"color: #008080; text-decoration-color: #008080; font-weight: bold\">0.035398</span> valid_acc <span style=\"color: #008080; text-decoration-color: #008080; font-weight: bold\">0.983782</span>\n",
       "</pre>\n"
      ],
      "text/plain": [
       "epoch \u001b[1;36m37\u001b[0m | train_loss \u001b[1;36m0.026623\u001b[0m train_acc \u001b[1;36m0.986762\u001b[0m valid_loss \u001b[1;36m0.035398\u001b[0m valid_acc \u001b[1;36m0.983782\u001b[0m\n"
      ]
     },
     "metadata": {},
     "output_type": "display_data"
    },
    {
     "name": "stderr",
     "output_type": "stream",
     "text": [
      "training: 100%|████████████████████████████████████████████████████████████████████| 3670/3670 [01:47<00:00, 34.03it/s]\n",
      "validating: 100%|██████████████████████████████████████████████████████████████████| 2151/2151 [00:30<00:00, 70.71it/s]\n"
     ]
    },
    {
     "data": {
      "text/html": [
       "<pre style=\"white-space:pre;overflow-x:auto;line-height:normal;font-family:Menlo,'DejaVu Sans Mono',consolas,'Courier New',monospace\">epoch <span style=\"color: #008080; text-decoration-color: #008080; font-weight: bold\">38</span> | train_loss <span style=\"color: #008080; text-decoration-color: #008080; font-weight: bold\">0.026626</span> train_acc <span style=\"color: #008080; text-decoration-color: #008080; font-weight: bold\">0.986724</span> valid_loss <span style=\"color: #008080; text-decoration-color: #008080; font-weight: bold\">0.032070</span> valid_acc <span style=\"color: #008080; text-decoration-color: #008080; font-weight: bold\">0.984723</span>\n",
       "</pre>\n"
      ],
      "text/plain": [
       "epoch \u001b[1;36m38\u001b[0m | train_loss \u001b[1;36m0.026626\u001b[0m train_acc \u001b[1;36m0.986724\u001b[0m valid_loss \u001b[1;36m0.032070\u001b[0m valid_acc \u001b[1;36m0.984723\u001b[0m\n"
      ]
     },
     "metadata": {},
     "output_type": "display_data"
    },
    {
     "name": "stderr",
     "output_type": "stream",
     "text": [
      "training: 100%|████████████████████████████████████████████████████████████████████| 3670/3670 [01:48<00:00, 33.88it/s]\n",
      "validating: 100%|██████████████████████████████████████████████████████████████████| 2151/2151 [00:30<00:00, 70.60it/s]\n"
     ]
    },
    {
     "data": {
      "text/html": [
       "<pre style=\"white-space:pre;overflow-x:auto;line-height:normal;font-family:Menlo,'DejaVu Sans Mono',consolas,'Courier New',monospace\">epoch <span style=\"color: #008080; text-decoration-color: #008080; font-weight: bold\">39</span> | train_loss <span style=\"color: #008080; text-decoration-color: #008080; font-weight: bold\">0.025798</span> train_acc <span style=\"color: #008080; text-decoration-color: #008080; font-weight: bold\">0.986883</span> valid_loss <span style=\"color: #008080; text-decoration-color: #008080; font-weight: bold\">0.041698</span> valid_acc <span style=\"color: #008080; text-decoration-color: #008080; font-weight: bold\">0.981541</span>\n",
       "</pre>\n"
      ],
      "text/plain": [
       "epoch \u001b[1;36m39\u001b[0m | train_loss \u001b[1;36m0.025798\u001b[0m train_acc \u001b[1;36m0.986883\u001b[0m valid_loss \u001b[1;36m0.041698\u001b[0m valid_acc \u001b[1;36m0.981541\u001b[0m\n"
      ]
     },
     "metadata": {},
     "output_type": "display_data"
    },
    {
     "name": "stderr",
     "output_type": "stream",
     "text": [
      "training: 100%|████████████████████████████████████████████████████████████████████| 3670/3670 [01:48<00:00, 33.80it/s]\n",
      "validating: 100%|██████████████████████████████████████████████████████████████████| 2151/2151 [00:30<00:00, 70.39it/s]\n"
     ]
    },
    {
     "data": {
      "text/html": [
       "<pre style=\"white-space:pre;overflow-x:auto;line-height:normal;font-family:Menlo,'DejaVu Sans Mono',consolas,'Courier New',monospace\">epoch <span style=\"color: #008080; text-decoration-color: #008080; font-weight: bold\">40</span> | train_loss <span style=\"color: #008080; text-decoration-color: #008080; font-weight: bold\">0.026376</span> train_acc <span style=\"color: #008080; text-decoration-color: #008080; font-weight: bold\">0.986915</span> valid_loss <span style=\"color: #008080; text-decoration-color: #008080; font-weight: bold\">0.030604</span> valid_acc <span style=\"color: #008080; text-decoration-color: #008080; font-weight: bold\">0.985236</span>\n",
       "</pre>\n"
      ],
      "text/plain": [
       "epoch \u001b[1;36m40\u001b[0m | train_loss \u001b[1;36m0.026376\u001b[0m train_acc \u001b[1;36m0.986915\u001b[0m valid_loss \u001b[1;36m0.030604\u001b[0m valid_acc \u001b[1;36m0.985236\u001b[0m\n"
      ]
     },
     "metadata": {},
     "output_type": "display_data"
    },
    {
     "name": "stderr",
     "output_type": "stream",
     "text": [
      "training: 100%|████████████████████████████████████████████████████████████████████| 3670/3670 [01:47<00:00, 34.13it/s]\n",
      "validating: 100%|██████████████████████████████████████████████████████████████████| 2151/2151 [00:30<00:00, 69.77it/s]\n"
     ]
    },
    {
     "data": {
      "text/html": [
       "<pre style=\"white-space:pre;overflow-x:auto;line-height:normal;font-family:Menlo,'DejaVu Sans Mono',consolas,'Courier New',monospace\">epoch <span style=\"color: #008080; text-decoration-color: #008080; font-weight: bold\">41</span> | train_loss <span style=\"color: #008080; text-decoration-color: #008080; font-weight: bold\">0.025386</span> train_acc <span style=\"color: #008080; text-decoration-color: #008080; font-weight: bold\">0.987311</span> valid_loss <span style=\"color: #008080; text-decoration-color: #008080; font-weight: bold\">0.031397</span> valid_acc <span style=\"color: #008080; text-decoration-color: #008080; font-weight: bold\">0.985192</span>\n",
       "</pre>\n"
      ],
      "text/plain": [
       "epoch \u001b[1;36m41\u001b[0m | train_loss \u001b[1;36m0.025386\u001b[0m train_acc \u001b[1;36m0.987311\u001b[0m valid_loss \u001b[1;36m0.031397\u001b[0m valid_acc \u001b[1;36m0.985192\u001b[0m\n"
      ]
     },
     "metadata": {},
     "output_type": "display_data"
    },
    {
     "name": "stderr",
     "output_type": "stream",
     "text": [
      "training: 100%|████████████████████████████████████████████████████████████████████| 3670/3670 [01:48<00:00, 33.83it/s]\n",
      "validating: 100%|██████████████████████████████████████████████████████████████████| 2151/2151 [00:30<00:00, 70.56it/s]\n"
     ]
    },
    {
     "data": {
      "text/html": [
       "<pre style=\"white-space:pre;overflow-x:auto;line-height:normal;font-family:Menlo,'DejaVu Sans Mono',consolas,'Courier New',monospace\">epoch <span style=\"color: #008080; text-decoration-color: #008080; font-weight: bold\">42</span> | train_loss <span style=\"color: #008080; text-decoration-color: #008080; font-weight: bold\">0.025272</span> train_acc <span style=\"color: #008080; text-decoration-color: #008080; font-weight: bold\">0.987292</span> valid_loss <span style=\"color: #008080; text-decoration-color: #008080; font-weight: bold\">0.030605</span> valid_acc <span style=\"color: #008080; text-decoration-color: #008080; font-weight: bold\">0.985076</span>\n",
       "</pre>\n"
      ],
      "text/plain": [
       "epoch \u001b[1;36m42\u001b[0m | train_loss \u001b[1;36m0.025272\u001b[0m train_acc \u001b[1;36m0.987292\u001b[0m valid_loss \u001b[1;36m0.030605\u001b[0m valid_acc \u001b[1;36m0.985076\u001b[0m\n"
      ]
     },
     "metadata": {},
     "output_type": "display_data"
    },
    {
     "name": "stderr",
     "output_type": "stream",
     "text": [
      "training: 100%|████████████████████████████████████████████████████████████████████| 3670/3670 [01:48<00:00, 33.79it/s]\n",
      "validating: 100%|██████████████████████████████████████████████████████████████████| 2151/2151 [00:30<00:00, 70.09it/s]\n"
     ]
    },
    {
     "data": {
      "text/html": [
       "<pre style=\"white-space:pre;overflow-x:auto;line-height:normal;font-family:Menlo,'DejaVu Sans Mono',consolas,'Courier New',monospace\">epoch <span style=\"color: #008080; text-decoration-color: #008080; font-weight: bold\">43</span> | train_loss <span style=\"color: #008080; text-decoration-color: #008080; font-weight: bold\">0.024727</span> train_acc <span style=\"color: #008080; text-decoration-color: #008080; font-weight: bold\">0.987330</span> valid_loss <span style=\"color: #008080; text-decoration-color: #008080; font-weight: bold\">0.031439</span> valid_acc <span style=\"color: #008080; text-decoration-color: #008080; font-weight: bold\">0.984785</span>\n",
       "</pre>\n"
      ],
      "text/plain": [
       "epoch \u001b[1;36m43\u001b[0m | train_loss \u001b[1;36m0.024727\u001b[0m train_acc \u001b[1;36m0.987330\u001b[0m valid_loss \u001b[1;36m0.031439\u001b[0m valid_acc \u001b[1;36m0.984785\u001b[0m\n"
      ]
     },
     "metadata": {},
     "output_type": "display_data"
    },
    {
     "name": "stderr",
     "output_type": "stream",
     "text": [
      "training: 100%|████████████████████████████████████████████████████████████████████| 3670/3670 [01:48<00:00, 33.74it/s]\n",
      "validating: 100%|██████████████████████████████████████████████████████████████████| 2151/2151 [00:30<00:00, 69.94it/s]\n"
     ]
    },
    {
     "data": {
      "text/html": [
       "<pre style=\"white-space:pre;overflow-x:auto;line-height:normal;font-family:Menlo,'DejaVu Sans Mono',consolas,'Courier New',monospace\">epoch <span style=\"color: #008080; text-decoration-color: #008080; font-weight: bold\">44</span> | train_loss <span style=\"color: #008080; text-decoration-color: #008080; font-weight: bold\">0.024664</span> train_acc <span style=\"color: #008080; text-decoration-color: #008080; font-weight: bold\">0.987499</span> valid_loss <span style=\"color: #008080; text-decoration-color: #008080; font-weight: bold\">0.032591</span> valid_acc <span style=\"color: #008080; text-decoration-color: #008080; font-weight: bold\">0.984596</span>\n",
       "</pre>\n"
      ],
      "text/plain": [
       "epoch \u001b[1;36m44\u001b[0m | train_loss \u001b[1;36m0.024664\u001b[0m train_acc \u001b[1;36m0.987499\u001b[0m valid_loss \u001b[1;36m0.032591\u001b[0m valid_acc \u001b[1;36m0.984596\u001b[0m\n"
      ]
     },
     "metadata": {},
     "output_type": "display_data"
    },
    {
     "name": "stderr",
     "output_type": "stream",
     "text": [
      "training: 100%|████████████████████████████████████████████████████████████████████| 3670/3670 [01:48<00:00, 33.98it/s]\n",
      "validating: 100%|██████████████████████████████████████████████████████████████████| 2151/2151 [00:30<00:00, 70.54it/s]\n"
     ]
    },
    {
     "data": {
      "text/html": [
       "<pre style=\"white-space:pre;overflow-x:auto;line-height:normal;font-family:Menlo,'DejaVu Sans Mono',consolas,'Courier New',monospace\">epoch <span style=\"color: #008080; text-decoration-color: #008080; font-weight: bold\">45</span> | train_loss <span style=\"color: #008080; text-decoration-color: #008080; font-weight: bold\">0.024700</span> train_acc <span style=\"color: #008080; text-decoration-color: #008080; font-weight: bold\">0.987522</span> valid_loss <span style=\"color: #008080; text-decoration-color: #008080; font-weight: bold\">0.031723</span> valid_acc <span style=\"color: #008080; text-decoration-color: #008080; font-weight: bold\">0.984789</span>\n",
       "</pre>\n"
      ],
      "text/plain": [
       "epoch \u001b[1;36m45\u001b[0m | train_loss \u001b[1;36m0.024700\u001b[0m train_acc \u001b[1;36m0.987522\u001b[0m valid_loss \u001b[1;36m0.031723\u001b[0m valid_acc \u001b[1;36m0.984789\u001b[0m\n"
      ]
     },
     "metadata": {},
     "output_type": "display_data"
    },
    {
     "name": "stderr",
     "output_type": "stream",
     "text": [
      "training: 100%|████████████████████████████████████████████████████████████████████| 3670/3670 [01:48<00:00, 33.85it/s]\n",
      "validating: 100%|██████████████████████████████████████████████████████████████████| 2151/2151 [00:30<00:00, 70.63it/s]\n"
     ]
    },
    {
     "data": {
      "text/html": [
       "<pre style=\"white-space:pre;overflow-x:auto;line-height:normal;font-family:Menlo,'DejaVu Sans Mono',consolas,'Courier New',monospace\">epoch <span style=\"color: #008080; text-decoration-color: #008080; font-weight: bold\">46</span> | train_loss <span style=\"color: #008080; text-decoration-color: #008080; font-weight: bold\">0.024363</span> train_acc <span style=\"color: #008080; text-decoration-color: #008080; font-weight: bold\">0.987612</span> valid_loss <span style=\"color: #008080; text-decoration-color: #008080; font-weight: bold\">0.030395</span> valid_acc <span style=\"color: #008080; text-decoration-color: #008080; font-weight: bold\">0.985490</span>\n",
       "</pre>\n"
      ],
      "text/plain": [
       "epoch \u001b[1;36m46\u001b[0m | train_loss \u001b[1;36m0.024363\u001b[0m train_acc \u001b[1;36m0.987612\u001b[0m valid_loss \u001b[1;36m0.030395\u001b[0m valid_acc \u001b[1;36m0.985490\u001b[0m\n"
      ]
     },
     "metadata": {},
     "output_type": "display_data"
    },
    {
     "name": "stderr",
     "output_type": "stream",
     "text": [
      "training: 100%|████████████████████████████████████████████████████████████████████| 3670/3670 [01:48<00:00, 33.82it/s]\n",
      "validating: 100%|██████████████████████████████████████████████████████████████████| 2151/2151 [00:30<00:00, 70.34it/s]\n"
     ]
    },
    {
     "data": {
      "text/html": [
       "<pre style=\"white-space:pre;overflow-x:auto;line-height:normal;font-family:Menlo,'DejaVu Sans Mono',consolas,'Courier New',monospace\">epoch <span style=\"color: #008080; text-decoration-color: #008080; font-weight: bold\">47</span> | train_loss <span style=\"color: #008080; text-decoration-color: #008080; font-weight: bold\">0.023925</span> train_acc <span style=\"color: #008080; text-decoration-color: #008080; font-weight: bold\">0.987714</span> valid_loss <span style=\"color: #008080; text-decoration-color: #008080; font-weight: bold\">0.029908</span> valid_acc <span style=\"color: #008080; text-decoration-color: #008080; font-weight: bold\">0.985515</span>\n",
       "</pre>\n"
      ],
      "text/plain": [
       "epoch \u001b[1;36m47\u001b[0m | train_loss \u001b[1;36m0.023925\u001b[0m train_acc \u001b[1;36m0.987714\u001b[0m valid_loss \u001b[1;36m0.029908\u001b[0m valid_acc \u001b[1;36m0.985515\u001b[0m\n"
      ]
     },
     "metadata": {},
     "output_type": "display_data"
    },
    {
     "name": "stderr",
     "output_type": "stream",
     "text": [
      "training: 100%|████████████████████████████████████████████████████████████████████| 3670/3670 [01:50<00:00, 33.16it/s]\n",
      "validating: 100%|██████████████████████████████████████████████████████████████████| 2151/2151 [00:31<00:00, 68.47it/s]\n"
     ]
    },
    {
     "data": {
      "text/html": [
       "<pre style=\"white-space:pre;overflow-x:auto;line-height:normal;font-family:Menlo,'DejaVu Sans Mono',consolas,'Courier New',monospace\">epoch <span style=\"color: #008080; text-decoration-color: #008080; font-weight: bold\">48</span> | train_loss <span style=\"color: #008080; text-decoration-color: #008080; font-weight: bold\">0.024034</span> train_acc <span style=\"color: #008080; text-decoration-color: #008080; font-weight: bold\">0.987748</span> valid_loss <span style=\"color: #008080; text-decoration-color: #008080; font-weight: bold\">0.029926</span> valid_acc <span style=\"color: #008080; text-decoration-color: #008080; font-weight: bold\">0.985450</span>\n",
       "</pre>\n"
      ],
      "text/plain": [
       "epoch \u001b[1;36m48\u001b[0m | train_loss \u001b[1;36m0.024034\u001b[0m train_acc \u001b[1;36m0.987748\u001b[0m valid_loss \u001b[1;36m0.029926\u001b[0m valid_acc \u001b[1;36m0.985450\u001b[0m\n"
      ]
     },
     "metadata": {},
     "output_type": "display_data"
    },
    {
     "name": "stderr",
     "output_type": "stream",
     "text": [
      "training: 100%|████████████████████████████████████████████████████████████████████| 3670/3670 [01:50<00:00, 33.16it/s]\n",
      "validating: 100%|██████████████████████████████████████████████████████████████████| 2151/2151 [00:31<00:00, 67.34it/s]\n"
     ]
    },
    {
     "data": {
      "text/html": [
       "<pre style=\"white-space:pre;overflow-x:auto;line-height:normal;font-family:Menlo,'DejaVu Sans Mono',consolas,'Courier New',monospace\">epoch <span style=\"color: #008080; text-decoration-color: #008080; font-weight: bold\">49</span> | train_loss <span style=\"color: #008080; text-decoration-color: #008080; font-weight: bold\">0.023561</span> train_acc <span style=\"color: #008080; text-decoration-color: #008080; font-weight: bold\">0.987948</span> valid_loss <span style=\"color: #008080; text-decoration-color: #008080; font-weight: bold\">0.030458</span> valid_acc <span style=\"color: #008080; text-decoration-color: #008080; font-weight: bold\">0.985762</span>\n",
       "</pre>\n"
      ],
      "text/plain": [
       "epoch \u001b[1;36m49\u001b[0m | train_loss \u001b[1;36m0.023561\u001b[0m train_acc \u001b[1;36m0.987948\u001b[0m valid_loss \u001b[1;36m0.030458\u001b[0m valid_acc \u001b[1;36m0.985762\u001b[0m\n"
      ]
     },
     "metadata": {},
     "output_type": "display_data"
    },
    {
     "name": "stderr",
     "output_type": "stream",
     "text": [
      "training: 100%|████████████████████████████████████████████████████████████████████| 3670/3670 [01:54<00:00, 31.95it/s]\n",
      "validating: 100%|██████████████████████████████████████████████████████████████████| 2151/2151 [00:31<00:00, 67.93it/s]\n"
     ]
    },
    {
     "data": {
      "text/html": [
       "<pre style=\"white-space:pre;overflow-x:auto;line-height:normal;font-family:Menlo,'DejaVu Sans Mono',consolas,'Courier New',monospace\">epoch <span style=\"color: #008080; text-decoration-color: #008080; font-weight: bold\">50</span> | train_loss <span style=\"color: #008080; text-decoration-color: #008080; font-weight: bold\">0.023836</span> train_acc <span style=\"color: #008080; text-decoration-color: #008080; font-weight: bold\">0.987829</span> valid_loss <span style=\"color: #008080; text-decoration-color: #008080; font-weight: bold\">0.030768</span> valid_acc <span style=\"color: #008080; text-decoration-color: #008080; font-weight: bold\">0.985061</span>\n",
       "</pre>\n"
      ],
      "text/plain": [
       "epoch \u001b[1;36m50\u001b[0m | train_loss \u001b[1;36m0.023836\u001b[0m train_acc \u001b[1;36m0.987829\u001b[0m valid_loss \u001b[1;36m0.030768\u001b[0m valid_acc \u001b[1;36m0.985061\u001b[0m\n"
      ]
     },
     "metadata": {},
     "output_type": "display_data"
    },
    {
     "name": "stderr",
     "output_type": "stream",
     "text": [
      "training: 100%|████████████████████████████████████████████████████████████████████| 3670/3670 [01:47<00:00, 34.05it/s]\n",
      "validating: 100%|██████████████████████████████████████████████████████████████████| 2151/2151 [00:30<00:00, 70.41it/s]\n"
     ]
    },
    {
     "data": {
      "text/html": [
       "<pre style=\"white-space:pre;overflow-x:auto;line-height:normal;font-family:Menlo,'DejaVu Sans Mono',consolas,'Courier New',monospace\">epoch <span style=\"color: #008080; text-decoration-color: #008080; font-weight: bold\">51</span> | train_loss <span style=\"color: #008080; text-decoration-color: #008080; font-weight: bold\">0.022852</span> train_acc <span style=\"color: #008080; text-decoration-color: #008080; font-weight: bold\">0.988274</span> valid_loss <span style=\"color: #008080; text-decoration-color: #008080; font-weight: bold\">0.030960</span> valid_acc <span style=\"color: #008080; text-decoration-color: #008080; font-weight: bold\">0.985366</span>\n",
       "</pre>\n"
      ],
      "text/plain": [
       "epoch \u001b[1;36m51\u001b[0m | train_loss \u001b[1;36m0.022852\u001b[0m train_acc \u001b[1;36m0.988274\u001b[0m valid_loss \u001b[1;36m0.030960\u001b[0m valid_acc \u001b[1;36m0.985366\u001b[0m\n"
      ]
     },
     "metadata": {},
     "output_type": "display_data"
    },
    {
     "name": "stderr",
     "output_type": "stream",
     "text": [
      "training: 100%|████████████████████████████████████████████████████████████████████| 3670/3670 [01:48<00:00, 33.82it/s]\n",
      "validating: 100%|██████████████████████████████████████████████████████████████████| 2151/2151 [00:30<00:00, 70.52it/s]\n"
     ]
    },
    {
     "data": {
      "text/html": [
       "<pre style=\"white-space:pre;overflow-x:auto;line-height:normal;font-family:Menlo,'DejaVu Sans Mono',consolas,'Courier New',monospace\">epoch <span style=\"color: #008080; text-decoration-color: #008080; font-weight: bold\">52</span> | train_loss <span style=\"color: #008080; text-decoration-color: #008080; font-weight: bold\">0.023482</span> train_acc <span style=\"color: #008080; text-decoration-color: #008080; font-weight: bold\">0.988165</span> valid_loss <span style=\"color: #008080; text-decoration-color: #008080; font-weight: bold\">0.029507</span> valid_acc <span style=\"color: #008080; text-decoration-color: #008080; font-weight: bold\">0.985479</span>\n",
       "</pre>\n"
      ],
      "text/plain": [
       "epoch \u001b[1;36m52\u001b[0m | train_loss \u001b[1;36m0.023482\u001b[0m train_acc \u001b[1;36m0.988165\u001b[0m valid_loss \u001b[1;36m0.029507\u001b[0m valid_acc \u001b[1;36m0.985479\u001b[0m\n"
      ]
     },
     "metadata": {},
     "output_type": "display_data"
    },
    {
     "name": "stderr",
     "output_type": "stream",
     "text": [
      "training: 100%|████████████████████████████████████████████████████████████████████| 3670/3670 [01:48<00:00, 33.81it/s]\n",
      "validating: 100%|██████████████████████████████████████████████████████████████████| 2151/2151 [00:30<00:00, 70.75it/s]\n"
     ]
    },
    {
     "data": {
      "text/html": [
       "<pre style=\"white-space:pre;overflow-x:auto;line-height:normal;font-family:Menlo,'DejaVu Sans Mono',consolas,'Courier New',monospace\">epoch <span style=\"color: #008080; text-decoration-color: #008080; font-weight: bold\">53</span> | train_loss <span style=\"color: #008080; text-decoration-color: #008080; font-weight: bold\">0.022975</span> train_acc <span style=\"color: #008080; text-decoration-color: #008080; font-weight: bold\">0.988271</span> valid_loss <span style=\"color: #008080; text-decoration-color: #008080; font-weight: bold\">0.030697</span> valid_acc <span style=\"color: #008080; text-decoration-color: #008080; font-weight: bold\">0.985523</span>\n",
       "</pre>\n"
      ],
      "text/plain": [
       "epoch \u001b[1;36m53\u001b[0m | train_loss \u001b[1;36m0.022975\u001b[0m train_acc \u001b[1;36m0.988271\u001b[0m valid_loss \u001b[1;36m0.030697\u001b[0m valid_acc \u001b[1;36m0.985523\u001b[0m\n"
      ]
     },
     "metadata": {},
     "output_type": "display_data"
    },
    {
     "name": "stderr",
     "output_type": "stream",
     "text": [
      "training: 100%|████████████████████████████████████████████████████████████████████| 3670/3670 [01:48<00:00, 33.95it/s]\n",
      "validating: 100%|██████████████████████████████████████████████████████████████████| 2151/2151 [00:30<00:00, 70.47it/s]\n"
     ]
    },
    {
     "data": {
      "text/html": [
       "<pre style=\"white-space:pre;overflow-x:auto;line-height:normal;font-family:Menlo,'DejaVu Sans Mono',consolas,'Courier New',monospace\">epoch <span style=\"color: #008080; text-decoration-color: #008080; font-weight: bold\">54</span> | train_loss <span style=\"color: #008080; text-decoration-color: #008080; font-weight: bold\">0.023657</span> train_acc <span style=\"color: #008080; text-decoration-color: #008080; font-weight: bold\">0.988227</span> valid_loss <span style=\"color: #008080; text-decoration-color: #008080; font-weight: bold\">0.030059</span> valid_acc <span style=\"color: #008080; text-decoration-color: #008080; font-weight: bold\">0.985109</span>\n",
       "</pre>\n"
      ],
      "text/plain": [
       "epoch \u001b[1;36m54\u001b[0m | train_loss \u001b[1;36m0.023657\u001b[0m train_acc \u001b[1;36m0.988227\u001b[0m valid_loss \u001b[1;36m0.030059\u001b[0m valid_acc \u001b[1;36m0.985109\u001b[0m\n"
      ]
     },
     "metadata": {},
     "output_type": "display_data"
    },
    {
     "name": "stderr",
     "output_type": "stream",
     "text": [
      "training: 100%|████████████████████████████████████████████████████████████████████| 3670/3670 [01:48<00:00, 33.95it/s]\n",
      "validating: 100%|██████████████████████████████████████████████████████████████████| 2151/2151 [00:30<00:00, 70.42it/s]\n"
     ]
    },
    {
     "data": {
      "text/html": [
       "<pre style=\"white-space:pre;overflow-x:auto;line-height:normal;font-family:Menlo,'DejaVu Sans Mono',consolas,'Courier New',monospace\">epoch <span style=\"color: #008080; text-decoration-color: #008080; font-weight: bold\">55</span> | train_loss <span style=\"color: #008080; text-decoration-color: #008080; font-weight: bold\">0.022537</span> train_acc <span style=\"color: #008080; text-decoration-color: #008080; font-weight: bold\">0.988533</span> valid_loss <span style=\"color: #008080; text-decoration-color: #008080; font-weight: bold\">0.029766</span> valid_acc <span style=\"color: #008080; text-decoration-color: #008080; font-weight: bold\">0.985570</span>\n",
       "</pre>\n"
      ],
      "text/plain": [
       "epoch \u001b[1;36m55\u001b[0m | train_loss \u001b[1;36m0.022537\u001b[0m train_acc \u001b[1;36m0.988533\u001b[0m valid_loss \u001b[1;36m0.029766\u001b[0m valid_acc \u001b[1;36m0.985570\u001b[0m\n"
      ]
     },
     "metadata": {},
     "output_type": "display_data"
    },
    {
     "name": "stderr",
     "output_type": "stream",
     "text": [
      "training: 100%|████████████████████████████████████████████████████████████████████| 3670/3670 [01:48<00:00, 33.95it/s]\n",
      "validating: 100%|██████████████████████████████████████████████████████████████████| 2151/2151 [00:30<00:00, 70.58it/s]\n"
     ]
    },
    {
     "data": {
      "text/html": [
       "<pre style=\"white-space:pre;overflow-x:auto;line-height:normal;font-family:Menlo,'DejaVu Sans Mono',consolas,'Courier New',monospace\">epoch <span style=\"color: #008080; text-decoration-color: #008080; font-weight: bold\">56</span> | train_loss <span style=\"color: #008080; text-decoration-color: #008080; font-weight: bold\">0.023078</span> train_acc <span style=\"color: #008080; text-decoration-color: #008080; font-weight: bold\">0.988508</span> valid_loss <span style=\"color: #008080; text-decoration-color: #008080; font-weight: bold\">0.030626</span> valid_acc <span style=\"color: #008080; text-decoration-color: #008080; font-weight: bold\">0.985726</span>\n",
       "</pre>\n"
      ],
      "text/plain": [
       "epoch \u001b[1;36m56\u001b[0m | train_loss \u001b[1;36m0.023078\u001b[0m train_acc \u001b[1;36m0.988508\u001b[0m valid_loss \u001b[1;36m0.030626\u001b[0m valid_acc \u001b[1;36m0.985726\u001b[0m\n"
      ]
     },
     "metadata": {},
     "output_type": "display_data"
    },
    {
     "name": "stderr",
     "output_type": "stream",
     "text": [
      "training: 100%|████████████████████████████████████████████████████████████████████| 3670/3670 [01:48<00:00, 33.80it/s]\n",
      "validating: 100%|██████████████████████████████████████████████████████████████████| 2151/2151 [00:30<00:00, 70.51it/s]\n"
     ]
    },
    {
     "data": {
      "text/html": [
       "<pre style=\"white-space:pre;overflow-x:auto;line-height:normal;font-family:Menlo,'DejaVu Sans Mono',consolas,'Courier New',monospace\">epoch <span style=\"color: #008080; text-decoration-color: #008080; font-weight: bold\">57</span> | train_loss <span style=\"color: #008080; text-decoration-color: #008080; font-weight: bold\">0.022219</span> train_acc <span style=\"color: #008080; text-decoration-color: #008080; font-weight: bold\">0.988621</span> valid_loss <span style=\"color: #008080; text-decoration-color: #008080; font-weight: bold\">0.029936</span> valid_acc <span style=\"color: #008080; text-decoration-color: #008080; font-weight: bold\">0.985530</span>\n",
       "</pre>\n"
      ],
      "text/plain": [
       "epoch \u001b[1;36m57\u001b[0m | train_loss \u001b[1;36m0.022219\u001b[0m train_acc \u001b[1;36m0.988621\u001b[0m valid_loss \u001b[1;36m0.029936\u001b[0m valid_acc \u001b[1;36m0.985530\u001b[0m\n"
      ]
     },
     "metadata": {},
     "output_type": "display_data"
    },
    {
     "name": "stderr",
     "output_type": "stream",
     "text": [
      "training: 100%|████████████████████████████████████████████████████████████████████| 3670/3670 [01:48<00:00, 33.82it/s]\n",
      "validating: 100%|██████████████████████████████████████████████████████████████████| 2151/2151 [00:30<00:00, 70.40it/s]\n"
     ]
    },
    {
     "data": {
      "text/html": [
       "<pre style=\"white-space:pre;overflow-x:auto;line-height:normal;font-family:Menlo,'DejaVu Sans Mono',consolas,'Courier New',monospace\">epoch <span style=\"color: #008080; text-decoration-color: #008080; font-weight: bold\">58</span> | train_loss <span style=\"color: #008080; text-decoration-color: #008080; font-weight: bold\">0.022519</span> train_acc <span style=\"color: #008080; text-decoration-color: #008080; font-weight: bold\">0.988619</span> valid_loss <span style=\"color: #008080; text-decoration-color: #008080; font-weight: bold\">0.029552</span> valid_acc <span style=\"color: #008080; text-decoration-color: #008080; font-weight: bold\">0.985733</span>\n",
       "</pre>\n"
      ],
      "text/plain": [
       "epoch \u001b[1;36m58\u001b[0m | train_loss \u001b[1;36m0.022519\u001b[0m train_acc \u001b[1;36m0.988619\u001b[0m valid_loss \u001b[1;36m0.029552\u001b[0m valid_acc \u001b[1;36m0.985733\u001b[0m\n"
      ]
     },
     "metadata": {},
     "output_type": "display_data"
    },
    {
     "name": "stderr",
     "output_type": "stream",
     "text": [
      "training: 100%|████████████████████████████████████████████████████████████████████| 3670/3670 [01:48<00:00, 33.92it/s]\n",
      "validating: 100%|██████████████████████████████████████████████████████████████████| 2151/2151 [00:30<00:00, 70.75it/s]\n"
     ]
    },
    {
     "data": {
      "text/html": [
       "<pre style=\"white-space:pre;overflow-x:auto;line-height:normal;font-family:Menlo,'DejaVu Sans Mono',consolas,'Courier New',monospace\">epoch <span style=\"color: #008080; text-decoration-color: #008080; font-weight: bold\">59</span> | train_loss <span style=\"color: #008080; text-decoration-color: #008080; font-weight: bold\">0.021605</span> train_acc <span style=\"color: #008080; text-decoration-color: #008080; font-weight: bold\">0.988821</span> valid_loss <span style=\"color: #008080; text-decoration-color: #008080; font-weight: bold\">0.031128</span> valid_acc <span style=\"color: #008080; text-decoration-color: #008080; font-weight: bold\">0.985116</span>\n",
       "</pre>\n"
      ],
      "text/plain": [
       "epoch \u001b[1;36m59\u001b[0m | train_loss \u001b[1;36m0.021605\u001b[0m train_acc \u001b[1;36m0.988821\u001b[0m valid_loss \u001b[1;36m0.031128\u001b[0m valid_acc \u001b[1;36m0.985116\u001b[0m\n"
      ]
     },
     "metadata": {},
     "output_type": "display_data"
    },
    {
     "name": "stderr",
     "output_type": "stream",
     "text": [
      "training: 100%|████████████████████████████████████████████████████████████████████| 3670/3670 [01:47<00:00, 34.19it/s]\n",
      "validating: 100%|██████████████████████████████████████████████████████████████████| 2151/2151 [00:30<00:00, 70.43it/s]\n"
     ]
    },
    {
     "data": {
      "text/html": [
       "<pre style=\"white-space:pre;overflow-x:auto;line-height:normal;font-family:Menlo,'DejaVu Sans Mono',consolas,'Courier New',monospace\">epoch <span style=\"color: #008080; text-decoration-color: #008080; font-weight: bold\">60</span> | train_loss <span style=\"color: #008080; text-decoration-color: #008080; font-weight: bold\">0.021797</span> train_acc <span style=\"color: #008080; text-decoration-color: #008080; font-weight: bold\">0.988923</span> valid_loss <span style=\"color: #008080; text-decoration-color: #008080; font-weight: bold\">0.029847</span> valid_acc <span style=\"color: #008080; text-decoration-color: #008080; font-weight: bold\">0.985693</span>\n",
       "</pre>\n"
      ],
      "text/plain": [
       "epoch \u001b[1;36m60\u001b[0m | train_loss \u001b[1;36m0.021797\u001b[0m train_acc \u001b[1;36m0.988923\u001b[0m valid_loss \u001b[1;36m0.029847\u001b[0m valid_acc \u001b[1;36m0.985693\u001b[0m\n"
      ]
     },
     "metadata": {},
     "output_type": "display_data"
    },
    {
     "name": "stderr",
     "output_type": "stream",
     "text": [
      "training: 100%|████████████████████████████████████████████████████████████████████| 3670/3670 [01:48<00:00, 33.81it/s]\n",
      "validating: 100%|██████████████████████████████████████████████████████████████████| 2151/2151 [00:30<00:00, 70.46it/s]\n"
     ]
    },
    {
     "data": {
      "text/html": [
       "<pre style=\"white-space:pre;overflow-x:auto;line-height:normal;font-family:Menlo,'DejaVu Sans Mono',consolas,'Courier New',monospace\">epoch <span style=\"color: #008080; text-decoration-color: #008080; font-weight: bold\">61</span> | train_loss <span style=\"color: #008080; text-decoration-color: #008080; font-weight: bold\">0.021367</span> train_acc <span style=\"color: #008080; text-decoration-color: #008080; font-weight: bold\">0.989029</span> valid_loss <span style=\"color: #008080; text-decoration-color: #008080; font-weight: bold\">0.029594</span> valid_acc <span style=\"color: #008080; text-decoration-color: #008080; font-weight: bold\">0.985606</span>\n",
       "</pre>\n"
      ],
      "text/plain": [
       "epoch \u001b[1;36m61\u001b[0m | train_loss \u001b[1;36m0.021367\u001b[0m train_acc \u001b[1;36m0.989029\u001b[0m valid_loss \u001b[1;36m0.029594\u001b[0m valid_acc \u001b[1;36m0.985606\u001b[0m\n"
      ]
     },
     "metadata": {},
     "output_type": "display_data"
    },
    {
     "name": "stderr",
     "output_type": "stream",
     "text": [
      "training: 100%|████████████████████████████████████████████████████████████████████| 3670/3670 [01:48<00:00, 33.82it/s]\n",
      "validating: 100%|██████████████████████████████████████████████████████████████████| 2151/2151 [00:30<00:00, 70.42it/s]\n"
     ]
    },
    {
     "data": {
      "text/html": [
       "<pre style=\"white-space:pre;overflow-x:auto;line-height:normal;font-family:Menlo,'DejaVu Sans Mono',consolas,'Courier New',monospace\">epoch <span style=\"color: #008080; text-decoration-color: #008080; font-weight: bold\">62</span> | train_loss <span style=\"color: #008080; text-decoration-color: #008080; font-weight: bold\">0.021807</span> train_acc <span style=\"color: #008080; text-decoration-color: #008080; font-weight: bold\">0.988961</span> valid_loss <span style=\"color: #008080; text-decoration-color: #008080; font-weight: bold\">0.029615</span> valid_acc <span style=\"color: #008080; text-decoration-color: #008080; font-weight: bold\">0.985748</span>\n",
       "</pre>\n"
      ],
      "text/plain": [
       "epoch \u001b[1;36m62\u001b[0m | train_loss \u001b[1;36m0.021807\u001b[0m train_acc \u001b[1;36m0.988961\u001b[0m valid_loss \u001b[1;36m0.029615\u001b[0m valid_acc \u001b[1;36m0.985748\u001b[0m\n"
      ]
     },
     "metadata": {},
     "output_type": "display_data"
    },
    {
     "name": "stderr",
     "output_type": "stream",
     "text": [
      "training: 100%|████████████████████████████████████████████████████████████████████| 3670/3670 [01:48<00:00, 33.84it/s]\n",
      "validating: 100%|██████████████████████████████████████████████████████████████████| 2151/2151 [00:30<00:00, 69.87it/s]\n"
     ]
    },
    {
     "data": {
      "text/html": [
       "<pre style=\"white-space:pre;overflow-x:auto;line-height:normal;font-family:Menlo,'DejaVu Sans Mono',consolas,'Courier New',monospace\">epoch <span style=\"color: #008080; text-decoration-color: #008080; font-weight: bold\">63</span> | train_loss <span style=\"color: #008080; text-decoration-color: #008080; font-weight: bold\">0.021172</span> train_acc <span style=\"color: #008080; text-decoration-color: #008080; font-weight: bold\">0.989178</span> valid_loss <span style=\"color: #008080; text-decoration-color: #008080; font-weight: bold\">0.029842</span> valid_acc <span style=\"color: #008080; text-decoration-color: #008080; font-weight: bold\">0.985396</span>\n",
       "</pre>\n"
      ],
      "text/plain": [
       "epoch \u001b[1;36m63\u001b[0m | train_loss \u001b[1;36m0.021172\u001b[0m train_acc \u001b[1;36m0.989178\u001b[0m valid_loss \u001b[1;36m0.029842\u001b[0m valid_acc \u001b[1;36m0.985396\u001b[0m\n"
      ]
     },
     "metadata": {},
     "output_type": "display_data"
    },
    {
     "name": "stderr",
     "output_type": "stream",
     "text": [
      "training: 100%|████████████████████████████████████████████████████████████████████| 3670/3670 [01:47<00:00, 34.02it/s]\n",
      "validating: 100%|██████████████████████████████████████████████████████████████████| 2151/2151 [00:30<00:00, 69.65it/s]\n"
     ]
    },
    {
     "data": {
      "text/html": [
       "<pre style=\"white-space:pre;overflow-x:auto;line-height:normal;font-family:Menlo,'DejaVu Sans Mono',consolas,'Courier New',monospace\">epoch <span style=\"color: #008080; text-decoration-color: #008080; font-weight: bold\">64</span> | train_loss <span style=\"color: #008080; text-decoration-color: #008080; font-weight: bold\">0.021509</span> train_acc <span style=\"color: #008080; text-decoration-color: #008080; font-weight: bold\">0.989134</span> valid_loss <span style=\"color: #008080; text-decoration-color: #008080; font-weight: bold\">0.030996</span> valid_acc <span style=\"color: #008080; text-decoration-color: #008080; font-weight: bold\">0.985817</span>\n",
       "</pre>\n"
      ],
      "text/plain": [
       "epoch \u001b[1;36m64\u001b[0m | train_loss \u001b[1;36m0.021509\u001b[0m train_acc \u001b[1;36m0.989134\u001b[0m valid_loss \u001b[1;36m0.030996\u001b[0m valid_acc \u001b[1;36m0.985817\u001b[0m\n"
      ]
     },
     "metadata": {},
     "output_type": "display_data"
    },
    {
     "name": "stderr",
     "output_type": "stream",
     "text": [
      "training: 100%|████████████████████████████████████████████████████████████████████| 3670/3670 [01:48<00:00, 33.91it/s]\n",
      "validating: 100%|██████████████████████████████████████████████████████████████████| 2151/2151 [00:30<00:00, 69.83it/s]\n"
     ]
    },
    {
     "data": {
      "text/html": [
       "<pre style=\"white-space:pre;overflow-x:auto;line-height:normal;font-family:Menlo,'DejaVu Sans Mono',consolas,'Courier New',monospace\">epoch <span style=\"color: #008080; text-decoration-color: #008080; font-weight: bold\">65</span> | train_loss <span style=\"color: #008080; text-decoration-color: #008080; font-weight: bold\">0.020670</span> train_acc <span style=\"color: #008080; text-decoration-color: #008080; font-weight: bold\">0.989440</span> valid_loss <span style=\"color: #008080; text-decoration-color: #008080; font-weight: bold\">0.031021</span> valid_acc <span style=\"color: #008080; text-decoration-color: #008080; font-weight: bold\">0.985842</span>\n",
       "</pre>\n"
      ],
      "text/plain": [
       "epoch \u001b[1;36m65\u001b[0m | train_loss \u001b[1;36m0.020670\u001b[0m train_acc \u001b[1;36m0.989440\u001b[0m valid_loss \u001b[1;36m0.031021\u001b[0m valid_acc \u001b[1;36m0.985842\u001b[0m\n"
      ]
     },
     "metadata": {},
     "output_type": "display_data"
    },
    {
     "name": "stderr",
     "output_type": "stream",
     "text": [
      "training: 100%|████████████████████████████████████████████████████████████████████| 3670/3670 [01:48<00:00, 33.90it/s]\n",
      "validating: 100%|██████████████████████████████████████████████████████████████████| 2151/2151 [00:30<00:00, 70.48it/s]\n"
     ]
    },
    {
     "data": {
      "text/html": [
       "<pre style=\"white-space:pre;overflow-x:auto;line-height:normal;font-family:Menlo,'DejaVu Sans Mono',consolas,'Courier New',monospace\">epoch <span style=\"color: #008080; text-decoration-color: #008080; font-weight: bold\">66</span> | train_loss <span style=\"color: #008080; text-decoration-color: #008080; font-weight: bold\">0.021025</span> train_acc <span style=\"color: #008080; text-decoration-color: #008080; font-weight: bold\">0.989359</span> valid_loss <span style=\"color: #008080; text-decoration-color: #008080; font-weight: bold\">0.034907</span> valid_acc <span style=\"color: #008080; text-decoration-color: #008080; font-weight: bold\">0.984542</span>\n",
       "</pre>\n"
      ],
      "text/plain": [
       "epoch \u001b[1;36m66\u001b[0m | train_loss \u001b[1;36m0.021025\u001b[0m train_acc \u001b[1;36m0.989359\u001b[0m valid_loss \u001b[1;36m0.034907\u001b[0m valid_acc \u001b[1;36m0.984542\u001b[0m\n"
      ]
     },
     "metadata": {},
     "output_type": "display_data"
    },
    {
     "name": "stderr",
     "output_type": "stream",
     "text": [
      "training: 100%|████████████████████████████████████████████████████████████████████| 3670/3670 [01:48<00:00, 33.77it/s]\n",
      "validating: 100%|██████████████████████████████████████████████████████████████████| 2151/2151 [00:30<00:00, 70.53it/s]\n"
     ]
    },
    {
     "data": {
      "text/html": [
       "<pre style=\"white-space:pre;overflow-x:auto;line-height:normal;font-family:Menlo,'DejaVu Sans Mono',consolas,'Courier New',monospace\">epoch <span style=\"color: #008080; text-decoration-color: #008080; font-weight: bold\">67</span> | train_loss <span style=\"color: #008080; text-decoration-color: #008080; font-weight: bold\">0.020760</span> train_acc <span style=\"color: #008080; text-decoration-color: #008080; font-weight: bold\">0.989451</span> valid_loss <span style=\"color: #008080; text-decoration-color: #008080; font-weight: bold\">0.030295</span> valid_acc <span style=\"color: #008080; text-decoration-color: #008080; font-weight: bold\">0.985799</span>\n",
       "</pre>\n"
      ],
      "text/plain": [
       "epoch \u001b[1;36m67\u001b[0m | train_loss \u001b[1;36m0.020760\u001b[0m train_acc \u001b[1;36m0.989451\u001b[0m valid_loss \u001b[1;36m0.030295\u001b[0m valid_acc \u001b[1;36m0.985799\u001b[0m\n"
      ]
     },
     "metadata": {},
     "output_type": "display_data"
    },
    {
     "name": "stderr",
     "output_type": "stream",
     "text": [
      "training: 100%|████████████████████████████████████████████████████████████████████| 3670/3670 [01:48<00:00, 33.97it/s]\n",
      "validating: 100%|██████████████████████████████████████████████████████████████████| 2151/2151 [00:30<00:00, 69.79it/s]\n"
     ]
    },
    {
     "data": {
      "text/html": [
       "<pre style=\"white-space:pre;overflow-x:auto;line-height:normal;font-family:Menlo,'DejaVu Sans Mono',consolas,'Courier New',monospace\">epoch <span style=\"color: #008080; text-decoration-color: #008080; font-weight: bold\">68</span> | train_loss <span style=\"color: #008080; text-decoration-color: #008080; font-weight: bold\">0.020561</span> train_acc <span style=\"color: #008080; text-decoration-color: #008080; font-weight: bold\">0.989621</span> valid_loss <span style=\"color: #008080; text-decoration-color: #008080; font-weight: bold\">0.030845</span> valid_acc <span style=\"color: #008080; text-decoration-color: #008080; font-weight: bold\">0.985297</span>\n",
       "</pre>\n"
      ],
      "text/plain": [
       "epoch \u001b[1;36m68\u001b[0m | train_loss \u001b[1;36m0.020561\u001b[0m train_acc \u001b[1;36m0.989621\u001b[0m valid_loss \u001b[1;36m0.030845\u001b[0m valid_acc \u001b[1;36m0.985297\u001b[0m\n"
      ]
     },
     "metadata": {},
     "output_type": "display_data"
    },
    {
     "name": "stderr",
     "output_type": "stream",
     "text": [
      "training: 100%|████████████████████████████████████████████████████████████████████| 3670/3670 [01:47<00:00, 34.13it/s]\n",
      "validating: 100%|██████████████████████████████████████████████████████████████████| 2151/2151 [00:30<00:00, 70.15it/s]\n"
     ]
    },
    {
     "data": {
      "text/html": [
       "<pre style=\"white-space:pre;overflow-x:auto;line-height:normal;font-family:Menlo,'DejaVu Sans Mono',consolas,'Courier New',monospace\">epoch <span style=\"color: #008080; text-decoration-color: #008080; font-weight: bold\">69</span> | train_loss <span style=\"color: #008080; text-decoration-color: #008080; font-weight: bold\">0.020176</span> train_acc <span style=\"color: #008080; text-decoration-color: #008080; font-weight: bold\">0.989713</span> valid_loss <span style=\"color: #008080; text-decoration-color: #008080; font-weight: bold\">0.033022</span> valid_acc <span style=\"color: #008080; text-decoration-color: #008080; font-weight: bold\">0.984019</span>\n",
       "</pre>\n"
      ],
      "text/plain": [
       "epoch \u001b[1;36m69\u001b[0m | train_loss \u001b[1;36m0.020176\u001b[0m train_acc \u001b[1;36m0.989713\u001b[0m valid_loss \u001b[1;36m0.033022\u001b[0m valid_acc \u001b[1;36m0.984019\u001b[0m\n"
      ]
     },
     "metadata": {},
     "output_type": "display_data"
    },
    {
     "name": "stderr",
     "output_type": "stream",
     "text": [
      "training: 100%|████████████████████████████████████████████████████████████████████| 3670/3670 [01:48<00:00, 33.97it/s]\n",
      "validating: 100%|██████████████████████████████████████████████████████████████████| 2151/2151 [00:30<00:00, 70.21it/s]\n"
     ]
    },
    {
     "data": {
      "text/html": [
       "<pre style=\"white-space:pre;overflow-x:auto;line-height:normal;font-family:Menlo,'DejaVu Sans Mono',consolas,'Courier New',monospace\">epoch <span style=\"color: #008080; text-decoration-color: #008080; font-weight: bold\">70</span> | train_loss <span style=\"color: #008080; text-decoration-color: #008080; font-weight: bold\">0.020444</span> train_acc <span style=\"color: #008080; text-decoration-color: #008080; font-weight: bold\">0.989692</span> valid_loss <span style=\"color: #008080; text-decoration-color: #008080; font-weight: bold\">0.029512</span> valid_acc <span style=\"color: #008080; text-decoration-color: #008080; font-weight: bold\">0.985366</span>\n",
       "</pre>\n"
      ],
      "text/plain": [
       "epoch \u001b[1;36m70\u001b[0m | train_loss \u001b[1;36m0.020444\u001b[0m train_acc \u001b[1;36m0.989692\u001b[0m valid_loss \u001b[1;36m0.029512\u001b[0m valid_acc \u001b[1;36m0.985366\u001b[0m\n"
      ]
     },
     "metadata": {},
     "output_type": "display_data"
    },
    {
     "name": "stderr",
     "output_type": "stream",
     "text": [
      "training: 100%|████████████████████████████████████████████████████████████████████| 3670/3670 [01:48<00:00, 33.83it/s]\n",
      "validating: 100%|██████████████████████████████████████████████████████████████████| 2151/2151 [00:30<00:00, 69.91it/s]\n"
     ]
    },
    {
     "data": {
      "text/html": [
       "<pre style=\"white-space:pre;overflow-x:auto;line-height:normal;font-family:Menlo,'DejaVu Sans Mono',consolas,'Courier New',monospace\">epoch <span style=\"color: #008080; text-decoration-color: #008080; font-weight: bold\">71</span> | train_loss <span style=\"color: #008080; text-decoration-color: #008080; font-weight: bold\">0.020754</span> train_acc <span style=\"color: #008080; text-decoration-color: #008080; font-weight: bold\">0.989681</span> valid_loss <span style=\"color: #008080; text-decoration-color: #008080; font-weight: bold\">0.029168</span> valid_acc <span style=\"color: #008080; text-decoration-color: #008080; font-weight: bold\">0.985795</span>\n",
       "</pre>\n"
      ],
      "text/plain": [
       "epoch \u001b[1;36m71\u001b[0m | train_loss \u001b[1;36m0.020754\u001b[0m train_acc \u001b[1;36m0.989681\u001b[0m valid_loss \u001b[1;36m0.029168\u001b[0m valid_acc \u001b[1;36m0.985795\u001b[0m\n"
      ]
     },
     "metadata": {},
     "output_type": "display_data"
    },
    {
     "name": "stderr",
     "output_type": "stream",
     "text": [
      "training: 100%|████████████████████████████████████████████████████████████████████| 3670/3670 [01:48<00:00, 33.96it/s]\n",
      "validating: 100%|██████████████████████████████████████████████████████████████████| 2151/2151 [00:30<00:00, 70.01it/s]\n"
     ]
    },
    {
     "data": {
      "text/html": [
       "<pre style=\"white-space:pre;overflow-x:auto;line-height:normal;font-family:Menlo,'DejaVu Sans Mono',consolas,'Courier New',monospace\">epoch <span style=\"color: #008080; text-decoration-color: #008080; font-weight: bold\">72</span> | train_loss <span style=\"color: #008080; text-decoration-color: #008080; font-weight: bold\">0.019818</span> train_acc <span style=\"color: #008080; text-decoration-color: #008080; font-weight: bold\">0.990011</span> valid_loss <span style=\"color: #008080; text-decoration-color: #008080; font-weight: bold\">0.030317</span> valid_acc <span style=\"color: #008080; text-decoration-color: #008080; font-weight: bold\">0.985544</span>\n",
       "</pre>\n"
      ],
      "text/plain": [
       "epoch \u001b[1;36m72\u001b[0m | train_loss \u001b[1;36m0.019818\u001b[0m train_acc \u001b[1;36m0.990011\u001b[0m valid_loss \u001b[1;36m0.030317\u001b[0m valid_acc \u001b[1;36m0.985544\u001b[0m\n"
      ]
     },
     "metadata": {},
     "output_type": "display_data"
    },
    {
     "name": "stderr",
     "output_type": "stream",
     "text": [
      "training: 100%|████████████████████████████████████████████████████████████████████| 3670/3670 [01:47<00:00, 34.15it/s]\n",
      "validating: 100%|██████████████████████████████████████████████████████████████████| 2151/2151 [00:30<00:00, 70.46it/s]\n"
     ]
    },
    {
     "data": {
      "text/html": [
       "<pre style=\"white-space:pre;overflow-x:auto;line-height:normal;font-family:Menlo,'DejaVu Sans Mono',consolas,'Courier New',monospace\">epoch <span style=\"color: #008080; text-decoration-color: #008080; font-weight: bold\">73</span> | train_loss <span style=\"color: #008080; text-decoration-color: #008080; font-weight: bold\">0.020018</span> train_acc <span style=\"color: #008080; text-decoration-color: #008080; font-weight: bold\">0.989926</span> valid_loss <span style=\"color: #008080; text-decoration-color: #008080; font-weight: bold\">0.029742</span> valid_acc <span style=\"color: #008080; text-decoration-color: #008080; font-weight: bold\">0.985672</span>\n",
       "</pre>\n"
      ],
      "text/plain": [
       "epoch \u001b[1;36m73\u001b[0m | train_loss \u001b[1;36m0.020018\u001b[0m train_acc \u001b[1;36m0.989926\u001b[0m valid_loss \u001b[1;36m0.029742\u001b[0m valid_acc \u001b[1;36m0.985672\u001b[0m\n"
      ]
     },
     "metadata": {},
     "output_type": "display_data"
    },
    {
     "name": "stderr",
     "output_type": "stream",
     "text": [
      "training: 100%|████████████████████████████████████████████████████████████████████| 3670/3670 [01:47<00:00, 34.21it/s]\n",
      "validating: 100%|██████████████████████████████████████████████████████████████████| 2151/2151 [00:30<00:00, 70.52it/s]\n"
     ]
    },
    {
     "data": {
      "text/html": [
       "<pre style=\"white-space:pre;overflow-x:auto;line-height:normal;font-family:Menlo,'DejaVu Sans Mono',consolas,'Courier New',monospace\">epoch <span style=\"color: #008080; text-decoration-color: #008080; font-weight: bold\">74</span> | train_loss <span style=\"color: #008080; text-decoration-color: #008080; font-weight: bold\">0.019701</span> train_acc <span style=\"color: #008080; text-decoration-color: #008080; font-weight: bold\">0.990056</span> valid_loss <span style=\"color: #008080; text-decoration-color: #008080; font-weight: bold\">0.031433</span> valid_acc <span style=\"color: #008080; text-decoration-color: #008080; font-weight: bold\">0.985559</span>\n",
       "</pre>\n"
      ],
      "text/plain": [
       "epoch \u001b[1;36m74\u001b[0m | train_loss \u001b[1;36m0.019701\u001b[0m train_acc \u001b[1;36m0.990056\u001b[0m valid_loss \u001b[1;36m0.031433\u001b[0m valid_acc \u001b[1;36m0.985559\u001b[0m\n"
      ]
     },
     "metadata": {},
     "output_type": "display_data"
    },
    {
     "name": "stderr",
     "output_type": "stream",
     "text": [
      "training: 100%|████████████████████████████████████████████████████████████████████| 3670/3670 [01:47<00:00, 33.99it/s]\n",
      "validating: 100%|██████████████████████████████████████████████████████████████████| 2151/2151 [00:30<00:00, 70.32it/s]\n"
     ]
    },
    {
     "data": {
      "text/html": [
       "<pre style=\"white-space:pre;overflow-x:auto;line-height:normal;font-family:Menlo,'DejaVu Sans Mono',consolas,'Courier New',monospace\">epoch <span style=\"color: #008080; text-decoration-color: #008080; font-weight: bold\">75</span> | train_loss <span style=\"color: #008080; text-decoration-color: #008080; font-weight: bold\">0.019701</span> train_acc <span style=\"color: #008080; text-decoration-color: #008080; font-weight: bold\">0.990128</span> valid_loss <span style=\"color: #008080; text-decoration-color: #008080; font-weight: bold\">0.032794</span> valid_acc <span style=\"color: #008080; text-decoration-color: #008080; font-weight: bold\">0.985069</span>\n",
       "</pre>\n"
      ],
      "text/plain": [
       "epoch \u001b[1;36m75\u001b[0m | train_loss \u001b[1;36m0.019701\u001b[0m train_acc \u001b[1;36m0.990128\u001b[0m valid_loss \u001b[1;36m0.032794\u001b[0m valid_acc \u001b[1;36m0.985069\u001b[0m\n"
      ]
     },
     "metadata": {},
     "output_type": "display_data"
    },
    {
     "name": "stderr",
     "output_type": "stream",
     "text": [
      "training: 100%|████████████████████████████████████████████████████████████████████| 3670/3670 [01:47<00:00, 34.04it/s]\n",
      "validating: 100%|██████████████████████████████████████████████████████████████████| 2151/2151 [00:30<00:00, 70.31it/s]\n"
     ]
    },
    {
     "data": {
      "text/html": [
       "<pre style=\"white-space:pre;overflow-x:auto;line-height:normal;font-family:Menlo,'DejaVu Sans Mono',consolas,'Courier New',monospace\">epoch <span style=\"color: #008080; text-decoration-color: #008080; font-weight: bold\">76</span> | train_loss <span style=\"color: #008080; text-decoration-color: #008080; font-weight: bold\">0.019470</span> train_acc <span style=\"color: #008080; text-decoration-color: #008080; font-weight: bold\">0.990211</span> valid_loss <span style=\"color: #008080; text-decoration-color: #008080; font-weight: bold\">0.030073</span> valid_acc <span style=\"color: #008080; text-decoration-color: #008080; font-weight: bold\">0.985414</span>\n",
       "</pre>\n"
      ],
      "text/plain": [
       "epoch \u001b[1;36m76\u001b[0m | train_loss \u001b[1;36m0.019470\u001b[0m train_acc \u001b[1;36m0.990211\u001b[0m valid_loss \u001b[1;36m0.030073\u001b[0m valid_acc \u001b[1;36m0.985414\u001b[0m\n"
      ]
     },
     "metadata": {},
     "output_type": "display_data"
    },
    {
     "name": "stderr",
     "output_type": "stream",
     "text": [
      "training: 100%|████████████████████████████████████████████████████████████████████| 3670/3670 [01:47<00:00, 34.10it/s]\n",
      "validating: 100%|██████████████████████████████████████████████████████████████████| 2151/2151 [00:30<00:00, 70.53it/s]\n"
     ]
    },
    {
     "data": {
      "text/html": [
       "<pre style=\"white-space:pre;overflow-x:auto;line-height:normal;font-family:Menlo,'DejaVu Sans Mono',consolas,'Courier New',monospace\">epoch <span style=\"color: #008080; text-decoration-color: #008080; font-weight: bold\">77</span> | train_loss <span style=\"color: #008080; text-decoration-color: #008080; font-weight: bold\">0.019324</span> train_acc <span style=\"color: #008080; text-decoration-color: #008080; font-weight: bold\">0.990349</span> valid_loss <span style=\"color: #008080; text-decoration-color: #008080; font-weight: bold\">0.029260</span> valid_acc <span style=\"color: #008080; text-decoration-color: #008080; font-weight: bold\">0.986344</span>\n",
       "</pre>\n"
      ],
      "text/plain": [
       "epoch \u001b[1;36m77\u001b[0m | train_loss \u001b[1;36m0.019324\u001b[0m train_acc \u001b[1;36m0.990349\u001b[0m valid_loss \u001b[1;36m0.029260\u001b[0m valid_acc \u001b[1;36m0.986344\u001b[0m\n"
      ]
     },
     "metadata": {},
     "output_type": "display_data"
    },
    {
     "name": "stderr",
     "output_type": "stream",
     "text": [
      "training: 100%|████████████████████████████████████████████████████████████████████| 3670/3670 [01:47<00:00, 34.10it/s]\n",
      "validating: 100%|██████████████████████████████████████████████████████████████████| 2151/2151 [00:30<00:00, 70.19it/s]\n"
     ]
    },
    {
     "data": {
      "text/html": [
       "<pre style=\"white-space:pre;overflow-x:auto;line-height:normal;font-family:Menlo,'DejaVu Sans Mono',consolas,'Courier New',monospace\">epoch <span style=\"color: #008080; text-decoration-color: #008080; font-weight: bold\">78</span> | train_loss <span style=\"color: #008080; text-decoration-color: #008080; font-weight: bold\">0.019037</span> train_acc <span style=\"color: #008080; text-decoration-color: #008080; font-weight: bold\">0.990496</span> valid_loss <span style=\"color: #008080; text-decoration-color: #008080; font-weight: bold\">0.032388</span> valid_acc <span style=\"color: #008080; text-decoration-color: #008080; font-weight: bold\">0.985018</span>\n",
       "</pre>\n"
      ],
      "text/plain": [
       "epoch \u001b[1;36m78\u001b[0m | train_loss \u001b[1;36m0.019037\u001b[0m train_acc \u001b[1;36m0.990496\u001b[0m valid_loss \u001b[1;36m0.032388\u001b[0m valid_acc \u001b[1;36m0.985018\u001b[0m\n"
      ]
     },
     "metadata": {},
     "output_type": "display_data"
    },
    {
     "name": "stderr",
     "output_type": "stream",
     "text": [
      "training: 100%|████████████████████████████████████████████████████████████████████| 3670/3670 [01:47<00:00, 33.99it/s]\n",
      "validating: 100%|██████████████████████████████████████████████████████████████████| 2151/2151 [00:29<00:00, 71.94it/s]\n"
     ]
    },
    {
     "data": {
      "text/html": [
       "<pre style=\"white-space:pre;overflow-x:auto;line-height:normal;font-family:Menlo,'DejaVu Sans Mono',consolas,'Courier New',monospace\">epoch <span style=\"color: #008080; text-decoration-color: #008080; font-weight: bold\">79</span> | train_loss <span style=\"color: #008080; text-decoration-color: #008080; font-weight: bold\">0.019199</span> train_acc <span style=\"color: #008080; text-decoration-color: #008080; font-weight: bold\">0.990379</span> valid_loss <span style=\"color: #008080; text-decoration-color: #008080; font-weight: bold\">0.029633</span> valid_acc <span style=\"color: #008080; text-decoration-color: #008080; font-weight: bold\">0.985759</span>\n",
       "</pre>\n"
      ],
      "text/plain": [
       "epoch \u001b[1;36m79\u001b[0m | train_loss \u001b[1;36m0.019199\u001b[0m train_acc \u001b[1;36m0.990379\u001b[0m valid_loss \u001b[1;36m0.029633\u001b[0m valid_acc \u001b[1;36m0.985759\u001b[0m\n"
      ]
     },
     "metadata": {},
     "output_type": "display_data"
    },
    {
     "name": "stderr",
     "output_type": "stream",
     "text": [
      "training: 100%|████████████████████████████████████████████████████████████████████| 3670/3670 [01:45<00:00, 34.72it/s]\n",
      "validating: 100%|██████████████████████████████████████████████████████████████████| 2151/2151 [00:30<00:00, 70.50it/s]\n"
     ]
    },
    {
     "data": {
      "text/html": [
       "<pre style=\"white-space:pre;overflow-x:auto;line-height:normal;font-family:Menlo,'DejaVu Sans Mono',consolas,'Courier New',monospace\">epoch <span style=\"color: #008080; text-decoration-color: #008080; font-weight: bold\">80</span> | train_loss <span style=\"color: #008080; text-decoration-color: #008080; font-weight: bold\">0.019005</span> train_acc <span style=\"color: #008080; text-decoration-color: #008080; font-weight: bold\">0.990596</span> valid_loss <span style=\"color: #008080; text-decoration-color: #008080; font-weight: bold\">0.030408</span> valid_acc <span style=\"color: #008080; text-decoration-color: #008080; font-weight: bold\">0.985773</span>\n",
       "</pre>\n"
      ],
      "text/plain": [
       "epoch \u001b[1;36m80\u001b[0m | train_loss \u001b[1;36m0.019005\u001b[0m train_acc \u001b[1;36m0.990596\u001b[0m valid_loss \u001b[1;36m0.030408\u001b[0m valid_acc \u001b[1;36m0.985773\u001b[0m\n"
      ]
     },
     "metadata": {},
     "output_type": "display_data"
    },
    {
     "name": "stderr",
     "output_type": "stream",
     "text": [
      "training: 100%|████████████████████████████████████████████████████████████████████| 3670/3670 [01:47<00:00, 34.02it/s]\n",
      "validating: 100%|██████████████████████████████████████████████████████████████████| 2151/2151 [00:30<00:00, 70.51it/s]\n"
     ]
    },
    {
     "data": {
      "text/html": [
       "<pre style=\"white-space:pre;overflow-x:auto;line-height:normal;font-family:Menlo,'DejaVu Sans Mono',consolas,'Courier New',monospace\">epoch <span style=\"color: #008080; text-decoration-color: #008080; font-weight: bold\">81</span> | train_loss <span style=\"color: #008080; text-decoration-color: #008080; font-weight: bold\">0.018696</span> train_acc <span style=\"color: #008080; text-decoration-color: #008080; font-weight: bold\">0.990567</span> valid_loss <span style=\"color: #008080; text-decoration-color: #008080; font-weight: bold\">0.028985</span> valid_acc <span style=\"color: #008080; text-decoration-color: #008080; font-weight: bold\">0.986100</span>\n",
       "</pre>\n"
      ],
      "text/plain": [
       "epoch \u001b[1;36m81\u001b[0m | train_loss \u001b[1;36m0.018696\u001b[0m train_acc \u001b[1;36m0.990567\u001b[0m valid_loss \u001b[1;36m0.028985\u001b[0m valid_acc \u001b[1;36m0.986100\u001b[0m\n"
      ]
     },
     "metadata": {},
     "output_type": "display_data"
    },
    {
     "name": "stderr",
     "output_type": "stream",
     "text": [
      "training: 100%|████████████████████████████████████████████████████████████████████| 3670/3670 [01:47<00:00, 34.08it/s]\n",
      "validating: 100%|██████████████████████████████████████████████████████████████████| 2151/2151 [00:30<00:00, 70.25it/s]\n"
     ]
    },
    {
     "data": {
      "text/html": [
       "<pre style=\"white-space:pre;overflow-x:auto;line-height:normal;font-family:Menlo,'DejaVu Sans Mono',consolas,'Courier New',monospace\">epoch <span style=\"color: #008080; text-decoration-color: #008080; font-weight: bold\">82</span> | train_loss <span style=\"color: #008080; text-decoration-color: #008080; font-weight: bold\">0.019226</span> train_acc <span style=\"color: #008080; text-decoration-color: #008080; font-weight: bold\">0.990596</span> valid_loss <span style=\"color: #008080; text-decoration-color: #008080; font-weight: bold\">0.034073</span> valid_acc <span style=\"color: #008080; text-decoration-color: #008080; font-weight: bold\">0.984789</span>\n",
       "</pre>\n"
      ],
      "text/plain": [
       "epoch \u001b[1;36m82\u001b[0m | train_loss \u001b[1;36m0.019226\u001b[0m train_acc \u001b[1;36m0.990596\u001b[0m valid_loss \u001b[1;36m0.034073\u001b[0m valid_acc \u001b[1;36m0.984789\u001b[0m\n"
      ]
     },
     "metadata": {},
     "output_type": "display_data"
    },
    {
     "name": "stderr",
     "output_type": "stream",
     "text": [
      "training: 100%|████████████████████████████████████████████████████████████████████| 3670/3670 [01:47<00:00, 34.08it/s]\n",
      "validating: 100%|██████████████████████████████████████████████████████████████████| 2151/2151 [00:30<00:00, 70.26it/s]\n"
     ]
    },
    {
     "data": {
      "text/html": [
       "<pre style=\"white-space:pre;overflow-x:auto;line-height:normal;font-family:Menlo,'DejaVu Sans Mono',consolas,'Courier New',monospace\">epoch <span style=\"color: #008080; text-decoration-color: #008080; font-weight: bold\">83</span> | train_loss <span style=\"color: #008080; text-decoration-color: #008080; font-weight: bold\">0.019002</span> train_acc <span style=\"color: #008080; text-decoration-color: #008080; font-weight: bold\">0.990720</span> valid_loss <span style=\"color: #008080; text-decoration-color: #008080; font-weight: bold\">0.034597</span> valid_acc <span style=\"color: #008080; text-decoration-color: #008080; font-weight: bold\">0.983975</span>\n",
       "</pre>\n"
      ],
      "text/plain": [
       "epoch \u001b[1;36m83\u001b[0m | train_loss \u001b[1;36m0.019002\u001b[0m train_acc \u001b[1;36m0.990720\u001b[0m valid_loss \u001b[1;36m0.034597\u001b[0m valid_acc \u001b[1;36m0.983975\u001b[0m\n"
      ]
     },
     "metadata": {},
     "output_type": "display_data"
    },
    {
     "name": "stderr",
     "output_type": "stream",
     "text": [
      "training: 100%|████████████████████████████████████████████████████████████████████| 3670/3670 [01:47<00:00, 34.02it/s]\n",
      "validating: 100%|██████████████████████████████████████████████████████████████████| 2151/2151 [00:30<00:00, 70.42it/s]\n"
     ]
    },
    {
     "data": {
      "text/html": [
       "<pre style=\"white-space:pre;overflow-x:auto;line-height:normal;font-family:Menlo,'DejaVu Sans Mono',consolas,'Courier New',monospace\">epoch <span style=\"color: #008080; text-decoration-color: #008080; font-weight: bold\">84</span> | train_loss <span style=\"color: #008080; text-decoration-color: #008080; font-weight: bold\">0.018516</span> train_acc <span style=\"color: #008080; text-decoration-color: #008080; font-weight: bold\">0.990894</span> valid_loss <span style=\"color: #008080; text-decoration-color: #008080; font-weight: bold\">0.033495</span> valid_acc <span style=\"color: #008080; text-decoration-color: #008080; font-weight: bold\">0.984992</span>\n",
       "</pre>\n"
      ],
      "text/plain": [
       "epoch \u001b[1;36m84\u001b[0m | train_loss \u001b[1;36m0.018516\u001b[0m train_acc \u001b[1;36m0.990894\u001b[0m valid_loss \u001b[1;36m0.033495\u001b[0m valid_acc \u001b[1;36m0.984992\u001b[0m\n"
      ]
     },
     "metadata": {},
     "output_type": "display_data"
    },
    {
     "name": "stderr",
     "output_type": "stream",
     "text": [
      "training: 100%|████████████████████████████████████████████████████████████████████| 3670/3670 [01:47<00:00, 34.01it/s]\n",
      "validating: 100%|██████████████████████████████████████████████████████████████████| 2151/2151 [00:30<00:00, 70.22it/s]\n"
     ]
    },
    {
     "data": {
      "text/html": [
       "<pre style=\"white-space:pre;overflow-x:auto;line-height:normal;font-family:Menlo,'DejaVu Sans Mono',consolas,'Courier New',monospace\">epoch <span style=\"color: #008080; text-decoration-color: #008080; font-weight: bold\">85</span> | train_loss <span style=\"color: #008080; text-decoration-color: #008080; font-weight: bold\">0.018458</span> train_acc <span style=\"color: #008080; text-decoration-color: #008080; font-weight: bold\">0.990841</span> valid_loss <span style=\"color: #008080; text-decoration-color: #008080; font-weight: bold\">0.029605</span> valid_acc <span style=\"color: #008080; text-decoration-color: #008080; font-weight: bold\">0.985944</span>\n",
       "</pre>\n"
      ],
      "text/plain": [
       "epoch \u001b[1;36m85\u001b[0m | train_loss \u001b[1;36m0.018458\u001b[0m train_acc \u001b[1;36m0.990841\u001b[0m valid_loss \u001b[1;36m0.029605\u001b[0m valid_acc \u001b[1;36m0.985944\u001b[0m\n"
      ]
     },
     "metadata": {},
     "output_type": "display_data"
    },
    {
     "name": "stderr",
     "output_type": "stream",
     "text": [
      "training: 100%|████████████████████████████████████████████████████████████████████| 3670/3670 [01:47<00:00, 34.18it/s]\n",
      "validating: 100%|██████████████████████████████████████████████████████████████████| 2151/2151 [00:30<00:00, 70.24it/s]\n"
     ]
    },
    {
     "data": {
      "text/html": [
       "<pre style=\"white-space:pre;overflow-x:auto;line-height:normal;font-family:Menlo,'DejaVu Sans Mono',consolas,'Courier New',monospace\">epoch <span style=\"color: #008080; text-decoration-color: #008080; font-weight: bold\">86</span> | train_loss <span style=\"color: #008080; text-decoration-color: #008080; font-weight: bold\">0.019189</span> train_acc <span style=\"color: #008080; text-decoration-color: #008080; font-weight: bold\">0.990584</span> valid_loss <span style=\"color: #008080; text-decoration-color: #008080; font-weight: bold\">0.029056</span> valid_acc <span style=\"color: #008080; text-decoration-color: #008080; font-weight: bold\">0.985999</span>\n",
       "</pre>\n"
      ],
      "text/plain": [
       "epoch \u001b[1;36m86\u001b[0m | train_loss \u001b[1;36m0.019189\u001b[0m train_acc \u001b[1;36m0.990584\u001b[0m valid_loss \u001b[1;36m0.029056\u001b[0m valid_acc \u001b[1;36m0.985999\u001b[0m\n"
      ]
     },
     "metadata": {},
     "output_type": "display_data"
    },
    {
     "name": "stderr",
     "output_type": "stream",
     "text": [
      "training: 100%|████████████████████████████████████████████████████████████████████| 3670/3670 [01:46<00:00, 34.34it/s]\n",
      "validating: 100%|██████████████████████████████████████████████████████████████████| 2151/2151 [00:30<00:00, 70.53it/s]\n"
     ]
    },
    {
     "data": {
      "text/html": [
       "<pre style=\"white-space:pre;overflow-x:auto;line-height:normal;font-family:Menlo,'DejaVu Sans Mono',consolas,'Courier New',monospace\">epoch <span style=\"color: #008080; text-decoration-color: #008080; font-weight: bold\">87</span> | train_loss <span style=\"color: #008080; text-decoration-color: #008080; font-weight: bold\">0.018534</span> train_acc <span style=\"color: #008080; text-decoration-color: #008080; font-weight: bold\">0.990954</span> valid_loss <span style=\"color: #008080; text-decoration-color: #008080; font-weight: bold\">0.028967</span> valid_acc <span style=\"color: #008080; text-decoration-color: #008080; font-weight: bold\">0.986511</span>\n",
       "</pre>\n"
      ],
      "text/plain": [
       "epoch \u001b[1;36m87\u001b[0m | train_loss \u001b[1;36m0.018534\u001b[0m train_acc \u001b[1;36m0.990954\u001b[0m valid_loss \u001b[1;36m0.028967\u001b[0m valid_acc \u001b[1;36m0.986511\u001b[0m\n"
      ]
     },
     "metadata": {},
     "output_type": "display_data"
    },
    {
     "name": "stderr",
     "output_type": "stream",
     "text": [
      "training: 100%|████████████████████████████████████████████████████████████████████| 3670/3670 [01:47<00:00, 34.11it/s]\n",
      "validating: 100%|██████████████████████████████████████████████████████████████████| 2151/2151 [00:30<00:00, 70.47it/s]\n"
     ]
    },
    {
     "data": {
      "text/html": [
       "<pre style=\"white-space:pre;overflow-x:auto;line-height:normal;font-family:Menlo,'DejaVu Sans Mono',consolas,'Courier New',monospace\">epoch <span style=\"color: #008080; text-decoration-color: #008080; font-weight: bold\">88</span> | train_loss <span style=\"color: #008080; text-decoration-color: #008080; font-weight: bold\">0.017905</span> train_acc <span style=\"color: #008080; text-decoration-color: #008080; font-weight: bold\">0.991167</span> valid_loss <span style=\"color: #008080; text-decoration-color: #008080; font-weight: bold\">0.030711</span> valid_acc <span style=\"color: #008080; text-decoration-color: #008080; font-weight: bold\">0.985657</span>\n",
       "</pre>\n"
      ],
      "text/plain": [
       "epoch \u001b[1;36m88\u001b[0m | train_loss \u001b[1;36m0.017905\u001b[0m train_acc \u001b[1;36m0.991167\u001b[0m valid_loss \u001b[1;36m0.030711\u001b[0m valid_acc \u001b[1;36m0.985657\u001b[0m\n"
      ]
     },
     "metadata": {},
     "output_type": "display_data"
    },
    {
     "name": "stderr",
     "output_type": "stream",
     "text": [
      "training: 100%|████████████████████████████████████████████████████████████████████| 3670/3670 [01:47<00:00, 34.06it/s]\n",
      "validating: 100%|██████████████████████████████████████████████████████████████████| 2151/2151 [00:30<00:00, 70.26it/s]\n"
     ]
    },
    {
     "data": {
      "text/html": [
       "<pre style=\"white-space:pre;overflow-x:auto;line-height:normal;font-family:Menlo,'DejaVu Sans Mono',consolas,'Courier New',monospace\">epoch <span style=\"color: #008080; text-decoration-color: #008080; font-weight: bold\">89</span> | train_loss <span style=\"color: #008080; text-decoration-color: #008080; font-weight: bold\">0.018503</span> train_acc <span style=\"color: #008080; text-decoration-color: #008080; font-weight: bold\">0.991003</span> valid_loss <span style=\"color: #008080; text-decoration-color: #008080; font-weight: bold\">0.029113</span> valid_acc <span style=\"color: #008080; text-decoration-color: #008080; font-weight: bold\">0.986213</span>\n",
       "</pre>\n"
      ],
      "text/plain": [
       "epoch \u001b[1;36m89\u001b[0m | train_loss \u001b[1;36m0.018503\u001b[0m train_acc \u001b[1;36m0.991003\u001b[0m valid_loss \u001b[1;36m0.029113\u001b[0m valid_acc \u001b[1;36m0.986213\u001b[0m\n"
      ]
     },
     "metadata": {},
     "output_type": "display_data"
    },
    {
     "name": "stderr",
     "output_type": "stream",
     "text": [
      "training: 100%|████████████████████████████████████████████████████████████████████| 3670/3670 [01:47<00:00, 34.11it/s]\n",
      "validating: 100%|██████████████████████████████████████████████████████████████████| 2151/2151 [00:30<00:00, 70.21it/s]\n"
     ]
    },
    {
     "data": {
      "text/html": [
       "<pre style=\"white-space:pre;overflow-x:auto;line-height:normal;font-family:Menlo,'DejaVu Sans Mono',consolas,'Courier New',monospace\">epoch <span style=\"color: #008080; text-decoration-color: #008080; font-weight: bold\">90</span> | train_loss <span style=\"color: #008080; text-decoration-color: #008080; font-weight: bold\">0.017861</span> train_acc <span style=\"color: #008080; text-decoration-color: #008080; font-weight: bold\">0.991324</span> valid_loss <span style=\"color: #008080; text-decoration-color: #008080; font-weight: bold\">0.034209</span> valid_acc <span style=\"color: #008080; text-decoration-color: #008080; font-weight: bold\">0.985257</span>\n",
       "</pre>\n"
      ],
      "text/plain": [
       "epoch \u001b[1;36m90\u001b[0m | train_loss \u001b[1;36m0.017861\u001b[0m train_acc \u001b[1;36m0.991324\u001b[0m valid_loss \u001b[1;36m0.034209\u001b[0m valid_acc \u001b[1;36m0.985257\u001b[0m\n"
      ]
     },
     "metadata": {},
     "output_type": "display_data"
    },
    {
     "name": "stderr",
     "output_type": "stream",
     "text": [
      "training: 100%|████████████████████████████████████████████████████████████████████| 3670/3670 [01:47<00:00, 34.26it/s]\n",
      "validating: 100%|██████████████████████████████████████████████████████████████████| 2151/2151 [00:30<00:00, 70.52it/s]\n"
     ]
    },
    {
     "data": {
      "text/html": [
       "<pre style=\"white-space:pre;overflow-x:auto;line-height:normal;font-family:Menlo,'DejaVu Sans Mono',consolas,'Courier New',monospace\">epoch <span style=\"color: #008080; text-decoration-color: #008080; font-weight: bold\">91</span> | train_loss <span style=\"color: #008080; text-decoration-color: #008080; font-weight: bold\">0.017927</span> train_acc <span style=\"color: #008080; text-decoration-color: #008080; font-weight: bold\">0.991182</span> valid_loss <span style=\"color: #008080; text-decoration-color: #008080; font-weight: bold\">0.029161</span> valid_acc <span style=\"color: #008080; text-decoration-color: #008080; font-weight: bold\">0.985926</span>\n",
       "</pre>\n"
      ],
      "text/plain": [
       "epoch \u001b[1;36m91\u001b[0m | train_loss \u001b[1;36m0.017927\u001b[0m train_acc \u001b[1;36m0.991182\u001b[0m valid_loss \u001b[1;36m0.029161\u001b[0m valid_acc \u001b[1;36m0.985926\u001b[0m\n"
      ]
     },
     "metadata": {},
     "output_type": "display_data"
    },
    {
     "name": "stderr",
     "output_type": "stream",
     "text": [
      "training: 100%|████████████████████████████████████████████████████████████████████| 3670/3670 [01:47<00:00, 34.03it/s]\n",
      "validating: 100%|██████████████████████████████████████████████████████████████████| 2151/2151 [00:30<00:00, 70.28it/s]\n"
     ]
    },
    {
     "data": {
      "text/html": [
       "<pre style=\"white-space:pre;overflow-x:auto;line-height:normal;font-family:Menlo,'DejaVu Sans Mono',consolas,'Courier New',monospace\">epoch <span style=\"color: #008080; text-decoration-color: #008080; font-weight: bold\">92</span> | train_loss <span style=\"color: #008080; text-decoration-color: #008080; font-weight: bold\">0.017812</span> train_acc <span style=\"color: #008080; text-decoration-color: #008080; font-weight: bold\">0.991405</span> valid_loss <span style=\"color: #008080; text-decoration-color: #008080; font-weight: bold\">0.029322</span> valid_acc <span style=\"color: #008080; text-decoration-color: #008080; font-weight: bold\">0.985817</span>\n",
       "</pre>\n"
      ],
      "text/plain": [
       "epoch \u001b[1;36m92\u001b[0m | train_loss \u001b[1;36m0.017812\u001b[0m train_acc \u001b[1;36m0.991405\u001b[0m valid_loss \u001b[1;36m0.029322\u001b[0m valid_acc \u001b[1;36m0.985817\u001b[0m\n"
      ]
     },
     "metadata": {},
     "output_type": "display_data"
    },
    {
     "name": "stderr",
     "output_type": "stream",
     "text": [
      "training: 100%|████████████████████████████████████████████████████████████████████| 3670/3670 [01:47<00:00, 34.24it/s]\n",
      "validating: 100%|██████████████████████████████████████████████████████████████████| 2151/2151 [00:30<00:00, 70.32it/s]\n"
     ]
    },
    {
     "data": {
      "text/html": [
       "<pre style=\"white-space:pre;overflow-x:auto;line-height:normal;font-family:Menlo,'DejaVu Sans Mono',consolas,'Courier New',monospace\">epoch <span style=\"color: #008080; text-decoration-color: #008080; font-weight: bold\">93</span> | train_loss <span style=\"color: #008080; text-decoration-color: #008080; font-weight: bold\">0.017717</span> train_acc <span style=\"color: #008080; text-decoration-color: #008080; font-weight: bold\">0.991337</span> valid_loss <span style=\"color: #008080; text-decoration-color: #008080; font-weight: bold\">0.029590</span> valid_acc <span style=\"color: #008080; text-decoration-color: #008080; font-weight: bold\">0.986002</span>\n",
       "</pre>\n"
      ],
      "text/plain": [
       "epoch \u001b[1;36m93\u001b[0m | train_loss \u001b[1;36m0.017717\u001b[0m train_acc \u001b[1;36m0.991337\u001b[0m valid_loss \u001b[1;36m0.029590\u001b[0m valid_acc \u001b[1;36m0.986002\u001b[0m\n"
      ]
     },
     "metadata": {},
     "output_type": "display_data"
    },
    {
     "name": "stderr",
     "output_type": "stream",
     "text": [
      "training: 100%|████████████████████████████████████████████████████████████████████| 3670/3670 [01:47<00:00, 34.12it/s]\n",
      "validating: 100%|██████████████████████████████████████████████████████████████████| 2151/2151 [00:30<00:00, 70.50it/s]\n"
     ]
    },
    {
     "data": {
      "text/html": [
       "<pre style=\"white-space:pre;overflow-x:auto;line-height:normal;font-family:Menlo,'DejaVu Sans Mono',consolas,'Courier New',monospace\">epoch <span style=\"color: #008080; text-decoration-color: #008080; font-weight: bold\">94</span> | train_loss <span style=\"color: #008080; text-decoration-color: #008080; font-weight: bold\">0.017366</span> train_acc <span style=\"color: #008080; text-decoration-color: #008080; font-weight: bold\">0.991488</span> valid_loss <span style=\"color: #008080; text-decoration-color: #008080; font-weight: bold\">0.029697</span> valid_acc <span style=\"color: #008080; text-decoration-color: #008080; font-weight: bold\">0.986097</span>\n",
       "</pre>\n"
      ],
      "text/plain": [
       "epoch \u001b[1;36m94\u001b[0m | train_loss \u001b[1;36m0.017366\u001b[0m train_acc \u001b[1;36m0.991488\u001b[0m valid_loss \u001b[1;36m0.029697\u001b[0m valid_acc \u001b[1;36m0.986097\u001b[0m\n"
      ]
     },
     "metadata": {},
     "output_type": "display_data"
    },
    {
     "name": "stderr",
     "output_type": "stream",
     "text": [
      "training: 100%|████████████████████████████████████████████████████████████████████| 3670/3670 [01:48<00:00, 33.80it/s]\n",
      "validating: 100%|██████████████████████████████████████████████████████████████████| 2151/2151 [00:30<00:00, 70.67it/s]\n"
     ]
    },
    {
     "data": {
      "text/html": [
       "<pre style=\"white-space:pre;overflow-x:auto;line-height:normal;font-family:Menlo,'DejaVu Sans Mono',consolas,'Courier New',monospace\">epoch <span style=\"color: #008080; text-decoration-color: #008080; font-weight: bold\">95</span> | train_loss <span style=\"color: #008080; text-decoration-color: #008080; font-weight: bold\">0.017976</span> train_acc <span style=\"color: #008080; text-decoration-color: #008080; font-weight: bold\">0.991380</span> valid_loss <span style=\"color: #008080; text-decoration-color: #008080; font-weight: bold\">0.029243</span> valid_acc <span style=\"color: #008080; text-decoration-color: #008080; font-weight: bold\">0.986031</span>\n",
       "</pre>\n"
      ],
      "text/plain": [
       "epoch \u001b[1;36m95\u001b[0m | train_loss \u001b[1;36m0.017976\u001b[0m train_acc \u001b[1;36m0.991380\u001b[0m valid_loss \u001b[1;36m0.029243\u001b[0m valid_acc \u001b[1;36m0.986031\u001b[0m\n"
      ]
     },
     "metadata": {},
     "output_type": "display_data"
    },
    {
     "name": "stderr",
     "output_type": "stream",
     "text": [
      "training: 100%|████████████████████████████████████████████████████████████████████| 3670/3670 [01:47<00:00, 33.99it/s]\n",
      "validating: 100%|██████████████████████████████████████████████████████████████████| 2151/2151 [00:30<00:00, 70.41it/s]\n"
     ]
    },
    {
     "data": {
      "text/html": [
       "<pre style=\"white-space:pre;overflow-x:auto;line-height:normal;font-family:Menlo,'DejaVu Sans Mono',consolas,'Courier New',monospace\">epoch <span style=\"color: #008080; text-decoration-color: #008080; font-weight: bold\">96</span> | train_loss <span style=\"color: #008080; text-decoration-color: #008080; font-weight: bold\">0.017407</span> train_acc <span style=\"color: #008080; text-decoration-color: #008080; font-weight: bold\">0.991697</span> valid_loss <span style=\"color: #008080; text-decoration-color: #008080; font-weight: bold\">0.029005</span> valid_acc <span style=\"color: #008080; text-decoration-color: #008080; font-weight: bold\">0.986151</span>\n",
       "</pre>\n"
      ],
      "text/plain": [
       "epoch \u001b[1;36m96\u001b[0m | train_loss \u001b[1;36m0.017407\u001b[0m train_acc \u001b[1;36m0.991697\u001b[0m valid_loss \u001b[1;36m0.029005\u001b[0m valid_acc \u001b[1;36m0.986151\u001b[0m\n"
      ]
     },
     "metadata": {},
     "output_type": "display_data"
    },
    {
     "name": "stderr",
     "output_type": "stream",
     "text": [
      "training: 100%|████████████████████████████████████████████████████████████████████| 3670/3670 [01:48<00:00, 33.82it/s]\n",
      "validating: 100%|██████████████████████████████████████████████████████████████████| 2151/2151 [00:30<00:00, 70.68it/s]\n"
     ]
    },
    {
     "data": {
      "text/html": [
       "<pre style=\"white-space:pre;overflow-x:auto;line-height:normal;font-family:Menlo,'DejaVu Sans Mono',consolas,'Courier New',monospace\">epoch <span style=\"color: #008080; text-decoration-color: #008080; font-weight: bold\">97</span> | train_loss <span style=\"color: #008080; text-decoration-color: #008080; font-weight: bold\">0.017751</span> train_acc <span style=\"color: #008080; text-decoration-color: #008080; font-weight: bold\">0.991582</span> valid_loss <span style=\"color: #008080; text-decoration-color: #008080; font-weight: bold\">0.029448</span> valid_acc <span style=\"color: #008080; text-decoration-color: #008080; font-weight: bold\">0.986064</span>\n",
       "</pre>\n"
      ],
      "text/plain": [
       "epoch \u001b[1;36m97\u001b[0m | train_loss \u001b[1;36m0.017751\u001b[0m train_acc \u001b[1;36m0.991582\u001b[0m valid_loss \u001b[1;36m0.029448\u001b[0m valid_acc \u001b[1;36m0.986064\u001b[0m\n"
      ]
     },
     "metadata": {},
     "output_type": "display_data"
    },
    {
     "name": "stderr",
     "output_type": "stream",
     "text": [
      "training: 100%|████████████████████████████████████████████████████████████████████| 3670/3670 [01:48<00:00, 33.88it/s]\n",
      "validating: 100%|██████████████████████████████████████████████████████████████████| 2151/2151 [00:30<00:00, 70.43it/s]\n"
     ]
    },
    {
     "data": {
      "text/html": [
       "<pre style=\"white-space:pre;overflow-x:auto;line-height:normal;font-family:Menlo,'DejaVu Sans Mono',consolas,'Courier New',monospace\">epoch <span style=\"color: #008080; text-decoration-color: #008080; font-weight: bold\">98</span> | train_loss <span style=\"color: #008080; text-decoration-color: #008080; font-weight: bold\">0.017704</span> train_acc <span style=\"color: #008080; text-decoration-color: #008080; font-weight: bold\">0.991571</span> valid_loss <span style=\"color: #008080; text-decoration-color: #008080; font-weight: bold\">0.032523</span> valid_acc <span style=\"color: #008080; text-decoration-color: #008080; font-weight: bold\">0.985566</span>\n",
       "</pre>\n"
      ],
      "text/plain": [
       "epoch \u001b[1;36m98\u001b[0m | train_loss \u001b[1;36m0.017704\u001b[0m train_acc \u001b[1;36m0.991571\u001b[0m valid_loss \u001b[1;36m0.032523\u001b[0m valid_acc \u001b[1;36m0.985566\u001b[0m\n"
      ]
     },
     "metadata": {},
     "output_type": "display_data"
    },
    {
     "name": "stderr",
     "output_type": "stream",
     "text": [
      "training: 100%|████████████████████████████████████████████████████████████████████| 3670/3670 [01:48<00:00, 33.90it/s]\n",
      "validating: 100%|██████████████████████████████████████████████████████████████████| 2151/2151 [00:30<00:00, 70.25it/s]\n"
     ]
    },
    {
     "data": {
      "text/html": [
       "<pre style=\"white-space:pre;overflow-x:auto;line-height:normal;font-family:Menlo,'DejaVu Sans Mono',consolas,'Courier New',monospace\">epoch <span style=\"color: #008080; text-decoration-color: #008080; font-weight: bold\">99</span> | train_loss <span style=\"color: #008080; text-decoration-color: #008080; font-weight: bold\">0.016991</span> train_acc <span style=\"color: #008080; text-decoration-color: #008080; font-weight: bold\">0.991955</span> valid_loss <span style=\"color: #008080; text-decoration-color: #008080; font-weight: bold\">0.030137</span> valid_acc <span style=\"color: #008080; text-decoration-color: #008080; font-weight: bold\">0.986133</span>\n",
       "</pre>\n"
      ],
      "text/plain": [
       "epoch \u001b[1;36m99\u001b[0m | train_loss \u001b[1;36m0.016991\u001b[0m train_acc \u001b[1;36m0.991955\u001b[0m valid_loss \u001b[1;36m0.030137\u001b[0m valid_acc \u001b[1;36m0.986133\u001b[0m\n"
      ]
     },
     "metadata": {},
     "output_type": "display_data"
    },
    {
     "name": "stderr",
     "output_type": "stream",
     "text": [
      "training: 100%|████████████████████████████████████████████████████████████████████| 3670/3670 [01:47<00:00, 34.13it/s]\n",
      "validating: 100%|██████████████████████████████████████████████████████████████████| 2151/2151 [00:30<00:00, 69.79it/s]\n"
     ]
    },
    {
     "data": {
      "text/html": [
       "<pre style=\"white-space:pre;overflow-x:auto;line-height:normal;font-family:Menlo,'DejaVu Sans Mono',consolas,'Courier New',monospace\">epoch <span style=\"color: #008080; text-decoration-color: #008080; font-weight: bold\">100</span> | train_loss <span style=\"color: #008080; text-decoration-color: #008080; font-weight: bold\">0.017758</span> train_acc <span style=\"color: #008080; text-decoration-color: #008080; font-weight: bold\">0.991818</span> valid_loss <span style=\"color: #008080; text-decoration-color: #008080; font-weight: bold\">0.029546</span> valid_acc <span style=\"color: #008080; text-decoration-color: #008080; font-weight: bold\">0.985999</span>\n",
       "</pre>\n"
      ],
      "text/plain": [
       "epoch \u001b[1;36m100\u001b[0m | train_loss \u001b[1;36m0.017758\u001b[0m train_acc \u001b[1;36m0.991818\u001b[0m valid_loss \u001b[1;36m0.029546\u001b[0m valid_acc \u001b[1;36m0.985999\u001b[0m\n"
      ]
     },
     "metadata": {},
     "output_type": "display_data"
    },
    {
     "name": "stderr",
     "output_type": "stream",
     "text": [
      "training: 100%|████████████████████████████████████████████████████████████████████| 3670/3670 [01:48<00:00, 33.90it/s]\n",
      "validating: 100%|██████████████████████████████████████████████████████████████████| 2151/2151 [00:30<00:00, 70.49it/s]\n"
     ]
    },
    {
     "data": {
      "text/html": [
       "<pre style=\"white-space:pre;overflow-x:auto;line-height:normal;font-family:Menlo,'DejaVu Sans Mono',consolas,'Courier New',monospace\">epoch <span style=\"color: #008080; text-decoration-color: #008080; font-weight: bold\">101</span> | train_loss <span style=\"color: #008080; text-decoration-color: #008080; font-weight: bold\">0.016777</span> train_acc <span style=\"color: #008080; text-decoration-color: #008080; font-weight: bold\">0.992044</span> valid_loss <span style=\"color: #008080; text-decoration-color: #008080; font-weight: bold\">0.030511</span> valid_acc <span style=\"color: #008080; text-decoration-color: #008080; font-weight: bold\">0.985530</span>\n",
       "</pre>\n"
      ],
      "text/plain": [
       "epoch \u001b[1;36m101\u001b[0m | train_loss \u001b[1;36m0.016777\u001b[0m train_acc \u001b[1;36m0.992044\u001b[0m valid_loss \u001b[1;36m0.030511\u001b[0m valid_acc \u001b[1;36m0.985530\u001b[0m\n"
      ]
     },
     "metadata": {},
     "output_type": "display_data"
    },
    {
     "name": "stderr",
     "output_type": "stream",
     "text": [
      "training: 100%|████████████████████████████████████████████████████████████████████| 3670/3670 [01:48<00:00, 33.88it/s]\n",
      "validating: 100%|██████████████████████████████████████████████████████████████████| 2151/2151 [00:30<00:00, 69.99it/s]\n"
     ]
    },
    {
     "data": {
      "text/html": [
       "<pre style=\"white-space:pre;overflow-x:auto;line-height:normal;font-family:Menlo,'DejaVu Sans Mono',consolas,'Courier New',monospace\">epoch <span style=\"color: #008080; text-decoration-color: #008080; font-weight: bold\">102</span> | train_loss <span style=\"color: #008080; text-decoration-color: #008080; font-weight: bold\">0.017209</span> train_acc <span style=\"color: #008080; text-decoration-color: #008080; font-weight: bold\">0.991923</span> valid_loss <span style=\"color: #008080; text-decoration-color: #008080; font-weight: bold\">0.029189</span> valid_acc <span style=\"color: #008080; text-decoration-color: #008080; font-weight: bold\">0.986180</span>\n",
       "</pre>\n"
      ],
      "text/plain": [
       "epoch \u001b[1;36m102\u001b[0m | train_loss \u001b[1;36m0.017209\u001b[0m train_acc \u001b[1;36m0.991923\u001b[0m valid_loss \u001b[1;36m0.029189\u001b[0m valid_acc \u001b[1;36m0.986180\u001b[0m\n"
      ]
     },
     "metadata": {},
     "output_type": "display_data"
    },
    {
     "name": "stderr",
     "output_type": "stream",
     "text": [
      "training: 100%|████████████████████████████████████████████████████████████████████| 3670/3670 [01:48<00:00, 33.92it/s]\n",
      "validating: 100%|██████████████████████████████████████████████████████████████████| 2151/2151 [00:30<00:00, 70.45it/s]\n"
     ]
    },
    {
     "data": {
      "text/html": [
       "<pre style=\"white-space:pre;overflow-x:auto;line-height:normal;font-family:Menlo,'DejaVu Sans Mono',consolas,'Courier New',monospace\">epoch <span style=\"color: #008080; text-decoration-color: #008080; font-weight: bold\">103</span> | train_loss <span style=\"color: #008080; text-decoration-color: #008080; font-weight: bold\">0.017244</span> train_acc <span style=\"color: #008080; text-decoration-color: #008080; font-weight: bold\">0.991899</span> valid_loss <span style=\"color: #008080; text-decoration-color: #008080; font-weight: bold\">0.030126</span> valid_acc <span style=\"color: #008080; text-decoration-color: #008080; font-weight: bold\">0.986024</span>\n",
       "</pre>\n"
      ],
      "text/plain": [
       "epoch \u001b[1;36m103\u001b[0m | train_loss \u001b[1;36m0.017244\u001b[0m train_acc \u001b[1;36m0.991899\u001b[0m valid_loss \u001b[1;36m0.030126\u001b[0m valid_acc \u001b[1;36m0.986024\u001b[0m\n"
      ]
     },
     "metadata": {},
     "output_type": "display_data"
    },
    {
     "name": "stderr",
     "output_type": "stream",
     "text": [
      "training: 100%|████████████████████████████████████████████████████████████████████| 3670/3670 [01:47<00:00, 34.04it/s]\n",
      "validating: 100%|██████████████████████████████████████████████████████████████████| 2151/2151 [00:30<00:00, 70.23it/s]\n"
     ]
    },
    {
     "data": {
      "text/html": [
       "<pre style=\"white-space:pre;overflow-x:auto;line-height:normal;font-family:Menlo,'DejaVu Sans Mono',consolas,'Courier New',monospace\">epoch <span style=\"color: #008080; text-decoration-color: #008080; font-weight: bold\">104</span> | train_loss <span style=\"color: #008080; text-decoration-color: #008080; font-weight: bold\">0.016736</span> train_acc <span style=\"color: #008080; text-decoration-color: #008080; font-weight: bold\">0.992091</span> valid_loss <span style=\"color: #008080; text-decoration-color: #008080; font-weight: bold\">0.030295</span> valid_acc <span style=\"color: #008080; text-decoration-color: #008080; font-weight: bold\">0.985973</span>\n",
       "</pre>\n"
      ],
      "text/plain": [
       "epoch \u001b[1;36m104\u001b[0m | train_loss \u001b[1;36m0.016736\u001b[0m train_acc \u001b[1;36m0.992091\u001b[0m valid_loss \u001b[1;36m0.030295\u001b[0m valid_acc \u001b[1;36m0.985973\u001b[0m\n"
      ]
     },
     "metadata": {},
     "output_type": "display_data"
    },
    {
     "name": "stderr",
     "output_type": "stream",
     "text": [
      "training: 100%|████████████████████████████████████████████████████████████████████| 3670/3670 [01:48<00:00, 33.91it/s]\n",
      "validating: 100%|██████████████████████████████████████████████████████████████████| 2151/2151 [00:30<00:00, 70.62it/s]\n"
     ]
    },
    {
     "data": {
      "text/html": [
       "<pre style=\"white-space:pre;overflow-x:auto;line-height:normal;font-family:Menlo,'DejaVu Sans Mono',consolas,'Courier New',monospace\">epoch <span style=\"color: #008080; text-decoration-color: #008080; font-weight: bold\">105</span> | train_loss <span style=\"color: #008080; text-decoration-color: #008080; font-weight: bold\">0.016712</span> train_acc <span style=\"color: #008080; text-decoration-color: #008080; font-weight: bold\">0.992059</span> valid_loss <span style=\"color: #008080; text-decoration-color: #008080; font-weight: bold\">0.031734</span> valid_acc <span style=\"color: #008080; text-decoration-color: #008080; font-weight: bold\">0.985497</span>\n",
       "</pre>\n"
      ],
      "text/plain": [
       "epoch \u001b[1;36m105\u001b[0m | train_loss \u001b[1;36m0.016712\u001b[0m train_acc \u001b[1;36m0.992059\u001b[0m valid_loss \u001b[1;36m0.031734\u001b[0m valid_acc \u001b[1;36m0.985497\u001b[0m\n"
      ]
     },
     "metadata": {},
     "output_type": "display_data"
    },
    {
     "name": "stderr",
     "output_type": "stream",
     "text": [
      "training: 100%|████████████████████████████████████████████████████████████████████| 3670/3670 [01:48<00:00, 33.87it/s]\n",
      "validating: 100%|██████████████████████████████████████████████████████████████████| 2151/2151 [00:30<00:00, 70.44it/s]\n"
     ]
    },
    {
     "data": {
      "text/html": [
       "<pre style=\"white-space:pre;overflow-x:auto;line-height:normal;font-family:Menlo,'DejaVu Sans Mono',consolas,'Courier New',monospace\">epoch <span style=\"color: #008080; text-decoration-color: #008080; font-weight: bold\">106</span> | train_loss <span style=\"color: #008080; text-decoration-color: #008080; font-weight: bold\">0.016797</span> train_acc <span style=\"color: #008080; text-decoration-color: #008080; font-weight: bold\">0.992082</span> valid_loss <span style=\"color: #008080; text-decoration-color: #008080; font-weight: bold\">0.032420</span> valid_acc <span style=\"color: #008080; text-decoration-color: #008080; font-weight: bold\">0.985399</span>\n",
       "</pre>\n"
      ],
      "text/plain": [
       "epoch \u001b[1;36m106\u001b[0m | train_loss \u001b[1;36m0.016797\u001b[0m train_acc \u001b[1;36m0.992082\u001b[0m valid_loss \u001b[1;36m0.032420\u001b[0m valid_acc \u001b[1;36m0.985399\u001b[0m\n"
      ]
     },
     "metadata": {},
     "output_type": "display_data"
    },
    {
     "name": "stderr",
     "output_type": "stream",
     "text": [
      "training: 100%|████████████████████████████████████████████████████████████████████| 3670/3670 [01:48<00:00, 33.89it/s]\n",
      "validating: 100%|██████████████████████████████████████████████████████████████████| 2151/2151 [00:30<00:00, 69.79it/s]\n"
     ]
    },
    {
     "data": {
      "text/html": [
       "<pre style=\"white-space:pre;overflow-x:auto;line-height:normal;font-family:Menlo,'DejaVu Sans Mono',consolas,'Courier New',monospace\">epoch <span style=\"color: #008080; text-decoration-color: #008080; font-weight: bold\">107</span> | train_loss <span style=\"color: #008080; text-decoration-color: #008080; font-weight: bold\">0.016515</span> train_acc <span style=\"color: #008080; text-decoration-color: #008080; font-weight: bold\">0.992212</span> valid_loss <span style=\"color: #008080; text-decoration-color: #008080; font-weight: bold\">0.029829</span> valid_acc <span style=\"color: #008080; text-decoration-color: #008080; font-weight: bold\">0.985810</span>\n",
       "</pre>\n"
      ],
      "text/plain": [
       "epoch \u001b[1;36m107\u001b[0m | train_loss \u001b[1;36m0.016515\u001b[0m train_acc \u001b[1;36m0.992212\u001b[0m valid_loss \u001b[1;36m0.029829\u001b[0m valid_acc \u001b[1;36m0.985810\u001b[0m\n"
      ]
     },
     "metadata": {},
     "output_type": "display_data"
    },
    {
     "name": "stderr",
     "output_type": "stream",
     "text": [
      "training: 100%|████████████████████████████████████████████████████████████████████| 3670/3670 [01:47<00:00, 34.00it/s]\n",
      "validating: 100%|██████████████████████████████████████████████████████████████████| 2151/2151 [00:30<00:00, 70.59it/s]\n"
     ]
    },
    {
     "data": {
      "text/html": [
       "<pre style=\"white-space:pre;overflow-x:auto;line-height:normal;font-family:Menlo,'DejaVu Sans Mono',consolas,'Courier New',monospace\">epoch <span style=\"color: #008080; text-decoration-color: #008080; font-weight: bold\">108</span> | train_loss <span style=\"color: #008080; text-decoration-color: #008080; font-weight: bold\">0.016468</span> train_acc <span style=\"color: #008080; text-decoration-color: #008080; font-weight: bold\">0.992353</span> valid_loss <span style=\"color: #008080; text-decoration-color: #008080; font-weight: bold\">0.028922</span> valid_acc <span style=\"color: #008080; text-decoration-color: #008080; font-weight: bold\">0.986376</span>\n",
       "</pre>\n"
      ],
      "text/plain": [
       "epoch \u001b[1;36m108\u001b[0m | train_loss \u001b[1;36m0.016468\u001b[0m train_acc \u001b[1;36m0.992353\u001b[0m valid_loss \u001b[1;36m0.028922\u001b[0m valid_acc \u001b[1;36m0.986376\u001b[0m\n"
      ]
     },
     "metadata": {},
     "output_type": "display_data"
    },
    {
     "name": "stderr",
     "output_type": "stream",
     "text": [
      "training: 100%|████████████████████████████████████████████████████████████████████| 3670/3670 [01:47<00:00, 34.08it/s]\n",
      "validating: 100%|██████████████████████████████████████████████████████████████████| 2151/2151 [00:30<00:00, 70.14it/s]\n"
     ]
    },
    {
     "data": {
      "text/html": [
       "<pre style=\"white-space:pre;overflow-x:auto;line-height:normal;font-family:Menlo,'DejaVu Sans Mono',consolas,'Courier New',monospace\">epoch <span style=\"color: #008080; text-decoration-color: #008080; font-weight: bold\">109</span> | train_loss <span style=\"color: #008080; text-decoration-color: #008080; font-weight: bold\">0.016907</span> train_acc <span style=\"color: #008080; text-decoration-color: #008080; font-weight: bold\">0.992251</span> valid_loss <span style=\"color: #008080; text-decoration-color: #008080; font-weight: bold\">0.029444</span> valid_acc <span style=\"color: #008080; text-decoration-color: #008080; font-weight: bold\">0.985919</span>\n",
       "</pre>\n"
      ],
      "text/plain": [
       "epoch \u001b[1;36m109\u001b[0m | train_loss \u001b[1;36m0.016907\u001b[0m train_acc \u001b[1;36m0.992251\u001b[0m valid_loss \u001b[1;36m0.029444\u001b[0m valid_acc \u001b[1;36m0.985919\u001b[0m\n"
      ]
     },
     "metadata": {},
     "output_type": "display_data"
    },
    {
     "name": "stderr",
     "output_type": "stream",
     "text": [
      "training: 100%|████████████████████████████████████████████████████████████████████| 3670/3670 [01:48<00:00, 33.81it/s]\n",
      "validating: 100%|██████████████████████████████████████████████████████████████████| 2151/2151 [00:30<00:00, 69.69it/s]\n"
     ]
    },
    {
     "data": {
      "text/html": [
       "<pre style=\"white-space:pre;overflow-x:auto;line-height:normal;font-family:Menlo,'DejaVu Sans Mono',consolas,'Courier New',monospace\">epoch <span style=\"color: #008080; text-decoration-color: #008080; font-weight: bold\">110</span> | train_loss <span style=\"color: #008080; text-decoration-color: #008080; font-weight: bold\">0.016491</span> train_acc <span style=\"color: #008080; text-decoration-color: #008080; font-weight: bold\">0.992327</span> valid_loss <span style=\"color: #008080; text-decoration-color: #008080; font-weight: bold\">0.029891</span> valid_acc <span style=\"color: #008080; text-decoration-color: #008080; font-weight: bold\">0.985781</span>\n",
       "</pre>\n"
      ],
      "text/plain": [
       "epoch \u001b[1;36m110\u001b[0m | train_loss \u001b[1;36m0.016491\u001b[0m train_acc \u001b[1;36m0.992327\u001b[0m valid_loss \u001b[1;36m0.029891\u001b[0m valid_acc \u001b[1;36m0.985781\u001b[0m\n"
      ]
     },
     "metadata": {},
     "output_type": "display_data"
    },
    {
     "name": "stderr",
     "output_type": "stream",
     "text": [
      "training: 100%|████████████████████████████████████████████████████████████████████| 3670/3670 [01:48<00:00, 33.87it/s]\n",
      "validating: 100%|██████████████████████████████████████████████████████████████████| 2151/2151 [00:30<00:00, 70.53it/s]\n"
     ]
    },
    {
     "data": {
      "text/html": [
       "<pre style=\"white-space:pre;overflow-x:auto;line-height:normal;font-family:Menlo,'DejaVu Sans Mono',consolas,'Courier New',monospace\">epoch <span style=\"color: #008080; text-decoration-color: #008080; font-weight: bold\">111</span> | train_loss <span style=\"color: #008080; text-decoration-color: #008080; font-weight: bold\">0.016232</span> train_acc <span style=\"color: #008080; text-decoration-color: #008080; font-weight: bold\">0.992383</span> valid_loss <span style=\"color: #008080; text-decoration-color: #008080; font-weight: bold\">0.029037</span> valid_acc <span style=\"color: #008080; text-decoration-color: #008080; font-weight: bold\">0.986271</span>\n",
       "</pre>\n"
      ],
      "text/plain": [
       "epoch \u001b[1;36m111\u001b[0m | train_loss \u001b[1;36m0.016232\u001b[0m train_acc \u001b[1;36m0.992383\u001b[0m valid_loss \u001b[1;36m0.029037\u001b[0m valid_acc \u001b[1;36m0.986271\u001b[0m\n"
      ]
     },
     "metadata": {},
     "output_type": "display_data"
    },
    {
     "name": "stderr",
     "output_type": "stream",
     "text": [
      "training: 100%|████████████████████████████████████████████████████████████████████| 3670/3670 [01:48<00:00, 33.87it/s]\n",
      "validating: 100%|██████████████████████████████████████████████████████████████████| 2151/2151 [00:30<00:00, 70.55it/s]\n"
     ]
    },
    {
     "data": {
      "text/html": [
       "<pre style=\"white-space:pre;overflow-x:auto;line-height:normal;font-family:Menlo,'DejaVu Sans Mono',consolas,'Courier New',monospace\">epoch <span style=\"color: #008080; text-decoration-color: #008080; font-weight: bold\">112</span> | train_loss <span style=\"color: #008080; text-decoration-color: #008080; font-weight: bold\">0.016198</span> train_acc <span style=\"color: #008080; text-decoration-color: #008080; font-weight: bold\">0.992446</span> valid_loss <span style=\"color: #008080; text-decoration-color: #008080; font-weight: bold\">0.036655</span> valid_acc <span style=\"color: #008080; text-decoration-color: #008080; font-weight: bold\">0.984505</span>\n",
       "</pre>\n"
      ],
      "text/plain": [
       "epoch \u001b[1;36m112\u001b[0m | train_loss \u001b[1;36m0.016198\u001b[0m train_acc \u001b[1;36m0.992446\u001b[0m valid_loss \u001b[1;36m0.036655\u001b[0m valid_acc \u001b[1;36m0.984505\u001b[0m\n"
      ]
     },
     "metadata": {},
     "output_type": "display_data"
    },
    {
     "name": "stderr",
     "output_type": "stream",
     "text": [
      "training: 100%|████████████████████████████████████████████████████████████████████| 3670/3670 [01:47<00:00, 34.13it/s]\n",
      "validating: 100%|██████████████████████████████████████████████████████████████████| 2151/2151 [00:30<00:00, 69.77it/s]\n"
     ]
    },
    {
     "data": {
      "text/html": [
       "<pre style=\"white-space:pre;overflow-x:auto;line-height:normal;font-family:Menlo,'DejaVu Sans Mono',consolas,'Courier New',monospace\">epoch <span style=\"color: #008080; text-decoration-color: #008080; font-weight: bold\">113</span> | train_loss <span style=\"color: #008080; text-decoration-color: #008080; font-weight: bold\">0.016223</span> train_acc <span style=\"color: #008080; text-decoration-color: #008080; font-weight: bold\">0.992551</span> valid_loss <span style=\"color: #008080; text-decoration-color: #008080; font-weight: bold\">0.029109</span> valid_acc <span style=\"color: #008080; text-decoration-color: #008080; font-weight: bold\">0.986267</span>\n",
       "</pre>\n"
      ],
      "text/plain": [
       "epoch \u001b[1;36m113\u001b[0m | train_loss \u001b[1;36m0.016223\u001b[0m train_acc \u001b[1;36m0.992551\u001b[0m valid_loss \u001b[1;36m0.029109\u001b[0m valid_acc \u001b[1;36m0.986267\u001b[0m\n"
      ]
     },
     "metadata": {},
     "output_type": "display_data"
    },
    {
     "name": "stderr",
     "output_type": "stream",
     "text": [
      "training: 100%|████████████████████████████████████████████████████████████████████| 3670/3670 [01:48<00:00, 33.91it/s]\n",
      "validating: 100%|██████████████████████████████████████████████████████████████████| 2151/2151 [00:30<00:00, 70.41it/s]\n"
     ]
    },
    {
     "data": {
      "text/html": [
       "<pre style=\"white-space:pre;overflow-x:auto;line-height:normal;font-family:Menlo,'DejaVu Sans Mono',consolas,'Courier New',monospace\">epoch <span style=\"color: #008080; text-decoration-color: #008080; font-weight: bold\">114</span> | train_loss <span style=\"color: #008080; text-decoration-color: #008080; font-weight: bold\">0.015972</span> train_acc <span style=\"color: #008080; text-decoration-color: #008080; font-weight: bold\">0.992676</span> valid_loss <span style=\"color: #008080; text-decoration-color: #008080; font-weight: bold\">0.029661</span> valid_acc <span style=\"color: #008080; text-decoration-color: #008080; font-weight: bold\">0.986097</span>\n",
       "</pre>\n"
      ],
      "text/plain": [
       "epoch \u001b[1;36m114\u001b[0m | train_loss \u001b[1;36m0.015972\u001b[0m train_acc \u001b[1;36m0.992676\u001b[0m valid_loss \u001b[1;36m0.029661\u001b[0m valid_acc \u001b[1;36m0.986097\u001b[0m\n"
      ]
     },
     "metadata": {},
     "output_type": "display_data"
    },
    {
     "name": "stderr",
     "output_type": "stream",
     "text": [
      "training: 100%|████████████████████████████████████████████████████████████████████| 3670/3670 [01:47<00:00, 33.98it/s]\n",
      "validating: 100%|██████████████████████████████████████████████████████████████████| 2151/2151 [00:30<00:00, 70.55it/s]\n"
     ]
    },
    {
     "data": {
      "text/html": [
       "<pre style=\"white-space:pre;overflow-x:auto;line-height:normal;font-family:Menlo,'DejaVu Sans Mono',consolas,'Courier New',monospace\">epoch <span style=\"color: #008080; text-decoration-color: #008080; font-weight: bold\">115</span> | train_loss <span style=\"color: #008080; text-decoration-color: #008080; font-weight: bold\">0.016469</span> train_acc <span style=\"color: #008080; text-decoration-color: #008080; font-weight: bold\">0.992523</span> valid_loss <span style=\"color: #008080; text-decoration-color: #008080; font-weight: bold\">0.029755</span> valid_acc <span style=\"color: #008080; text-decoration-color: #008080; font-weight: bold\">0.986009</span>\n",
       "</pre>\n"
      ],
      "text/plain": [
       "epoch \u001b[1;36m115\u001b[0m | train_loss \u001b[1;36m0.016469\u001b[0m train_acc \u001b[1;36m0.992523\u001b[0m valid_loss \u001b[1;36m0.029755\u001b[0m valid_acc \u001b[1;36m0.986009\u001b[0m\n"
      ]
     },
     "metadata": {},
     "output_type": "display_data"
    },
    {
     "name": "stderr",
     "output_type": "stream",
     "text": [
      "training: 100%|████████████████████████████████████████████████████████████████████| 3670/3670 [01:48<00:00, 33.84it/s]\n",
      "validating: 100%|██████████████████████████████████████████████████████████████████| 2151/2151 [00:30<00:00, 70.60it/s]\n"
     ]
    },
    {
     "data": {
      "text/html": [
       "<pre style=\"white-space:pre;overflow-x:auto;line-height:normal;font-family:Menlo,'DejaVu Sans Mono',consolas,'Courier New',monospace\">epoch <span style=\"color: #008080; text-decoration-color: #008080; font-weight: bold\">116</span> | train_loss <span style=\"color: #008080; text-decoration-color: #008080; font-weight: bold\">0.015940</span> train_acc <span style=\"color: #008080; text-decoration-color: #008080; font-weight: bold\">0.992776</span> valid_loss <span style=\"color: #008080; text-decoration-color: #008080; font-weight: bold\">0.030600</span> valid_acc <span style=\"color: #008080; text-decoration-color: #008080; font-weight: bold\">0.985748</span>\n",
       "</pre>\n"
      ],
      "text/plain": [
       "epoch \u001b[1;36m116\u001b[0m | train_loss \u001b[1;36m0.015940\u001b[0m train_acc \u001b[1;36m0.992776\u001b[0m valid_loss \u001b[1;36m0.030600\u001b[0m valid_acc \u001b[1;36m0.985748\u001b[0m\n"
      ]
     },
     "metadata": {},
     "output_type": "display_data"
    },
    {
     "name": "stderr",
     "output_type": "stream",
     "text": [
      "training: 100%|████████████████████████████████████████████████████████████████████| 3670/3670 [01:47<00:00, 34.11it/s]\n",
      "validating: 100%|██████████████████████████████████████████████████████████████████| 2151/2151 [00:30<00:00, 70.20it/s]\n"
     ]
    },
    {
     "data": {
      "text/html": [
       "<pre style=\"white-space:pre;overflow-x:auto;line-height:normal;font-family:Menlo,'DejaVu Sans Mono',consolas,'Courier New',monospace\">epoch <span style=\"color: #008080; text-decoration-color: #008080; font-weight: bold\">117</span> | train_loss <span style=\"color: #008080; text-decoration-color: #008080; font-weight: bold\">0.015942</span> train_acc <span style=\"color: #008080; text-decoration-color: #008080; font-weight: bold\">0.992740</span> valid_loss <span style=\"color: #008080; text-decoration-color: #008080; font-weight: bold\">0.029559</span> valid_acc <span style=\"color: #008080; text-decoration-color: #008080; font-weight: bold\">0.986300</span>\n",
       "</pre>\n"
      ],
      "text/plain": [
       "epoch \u001b[1;36m117\u001b[0m | train_loss \u001b[1;36m0.015942\u001b[0m train_acc \u001b[1;36m0.992740\u001b[0m valid_loss \u001b[1;36m0.029559\u001b[0m valid_acc \u001b[1;36m0.986300\u001b[0m\n"
      ]
     },
     "metadata": {},
     "output_type": "display_data"
    },
    {
     "name": "stderr",
     "output_type": "stream",
     "text": [
      "training: 100%|████████████████████████████████████████████████████████████████████| 3670/3670 [01:47<00:00, 34.02it/s]\n",
      "validating: 100%|██████████████████████████████████████████████████████████████████| 2151/2151 [00:30<00:00, 70.61it/s]\n"
     ]
    },
    {
     "data": {
      "text/html": [
       "<pre style=\"white-space:pre;overflow-x:auto;line-height:normal;font-family:Menlo,'DejaVu Sans Mono',consolas,'Courier New',monospace\">epoch <span style=\"color: #008080; text-decoration-color: #008080; font-weight: bold\">118</span> | train_loss <span style=\"color: #008080; text-decoration-color: #008080; font-weight: bold\">0.016006</span> train_acc <span style=\"color: #008080; text-decoration-color: #008080; font-weight: bold\">0.992808</span> valid_loss <span style=\"color: #008080; text-decoration-color: #008080; font-weight: bold\">0.031379</span> valid_acc <span style=\"color: #008080; text-decoration-color: #008080; font-weight: bold\">0.986100</span>\n",
       "</pre>\n"
      ],
      "text/plain": [
       "epoch \u001b[1;36m118\u001b[0m | train_loss \u001b[1;36m0.016006\u001b[0m train_acc \u001b[1;36m0.992808\u001b[0m valid_loss \u001b[1;36m0.031379\u001b[0m valid_acc \u001b[1;36m0.986100\u001b[0m\n"
      ]
     },
     "metadata": {},
     "output_type": "display_data"
    },
    {
     "name": "stderr",
     "output_type": "stream",
     "text": [
      "training: 100%|████████████████████████████████████████████████████████████████████| 3670/3670 [01:48<00:00, 33.85it/s]\n",
      "validating: 100%|██████████████████████████████████████████████████████████████████| 2151/2151 [00:30<00:00, 70.73it/s]\n"
     ]
    },
    {
     "data": {
      "text/html": [
       "<pre style=\"white-space:pre;overflow-x:auto;line-height:normal;font-family:Menlo,'DejaVu Sans Mono',consolas,'Courier New',monospace\">epoch <span style=\"color: #008080; text-decoration-color: #008080; font-weight: bold\">119</span> | train_loss <span style=\"color: #008080; text-decoration-color: #008080; font-weight: bold\">0.017175</span> train_acc <span style=\"color: #008080; text-decoration-color: #008080; font-weight: bold\">0.992474</span> valid_loss <span style=\"color: #008080; text-decoration-color: #008080; font-weight: bold\">0.029316</span> valid_acc <span style=\"color: #008080; text-decoration-color: #008080; font-weight: bold\">0.986293</span>\n",
       "</pre>\n"
      ],
      "text/plain": [
       "epoch \u001b[1;36m119\u001b[0m | train_loss \u001b[1;36m0.017175\u001b[0m train_acc \u001b[1;36m0.992474\u001b[0m valid_loss \u001b[1;36m0.029316\u001b[0m valid_acc \u001b[1;36m0.986293\u001b[0m\n"
      ]
     },
     "metadata": {},
     "output_type": "display_data"
    },
    {
     "name": "stderr",
     "output_type": "stream",
     "text": [
      "training: 100%|████████████████████████████████████████████████████████████████████| 3670/3670 [01:48<00:00, 33.87it/s]\n",
      "validating: 100%|██████████████████████████████████████████████████████████████████| 2151/2151 [00:30<00:00, 70.21it/s]\n"
     ]
    },
    {
     "data": {
      "text/html": [
       "<pre style=\"white-space:pre;overflow-x:auto;line-height:normal;font-family:Menlo,'DejaVu Sans Mono',consolas,'Courier New',monospace\">epoch <span style=\"color: #008080; text-decoration-color: #008080; font-weight: bold\">120</span> | train_loss <span style=\"color: #008080; text-decoration-color: #008080; font-weight: bold\">0.015490</span> train_acc <span style=\"color: #008080; text-decoration-color: #008080; font-weight: bold\">0.992985</span> valid_loss <span style=\"color: #008080; text-decoration-color: #008080; font-weight: bold\">0.030302</span> valid_acc <span style=\"color: #008080; text-decoration-color: #008080; font-weight: bold\">0.985839</span>\n",
       "</pre>\n"
      ],
      "text/plain": [
       "epoch \u001b[1;36m120\u001b[0m | train_loss \u001b[1;36m0.015490\u001b[0m train_acc \u001b[1;36m0.992985\u001b[0m valid_loss \u001b[1;36m0.030302\u001b[0m valid_acc \u001b[1;36m0.985839\u001b[0m\n"
      ]
     },
     "metadata": {},
     "output_type": "display_data"
    },
    {
     "name": "stderr",
     "output_type": "stream",
     "text": [
      "training: 100%|████████████████████████████████████████████████████████████████████| 3670/3670 [01:47<00:00, 34.25it/s]\n",
      "validating: 100%|██████████████████████████████████████████████████████████████████| 2151/2151 [00:30<00:00, 70.11it/s]\n"
     ]
    },
    {
     "data": {
      "text/html": [
       "<pre style=\"white-space:pre;overflow-x:auto;line-height:normal;font-family:Menlo,'DejaVu Sans Mono',consolas,'Courier New',monospace\">epoch <span style=\"color: #008080; text-decoration-color: #008080; font-weight: bold\">121</span> | train_loss <span style=\"color: #008080; text-decoration-color: #008080; font-weight: bold\">0.015949</span> train_acc <span style=\"color: #008080; text-decoration-color: #008080; font-weight: bold\">0.992889</span> valid_loss <span style=\"color: #008080; text-decoration-color: #008080; font-weight: bold\">0.029732</span> valid_acc <span style=\"color: #008080; text-decoration-color: #008080; font-weight: bold\">0.985973</span>\n",
       "</pre>\n"
      ],
      "text/plain": [
       "epoch \u001b[1;36m121\u001b[0m | train_loss \u001b[1;36m0.015949\u001b[0m train_acc \u001b[1;36m0.992889\u001b[0m valid_loss \u001b[1;36m0.029732\u001b[0m valid_acc \u001b[1;36m0.985973\u001b[0m\n"
      ]
     },
     "metadata": {},
     "output_type": "display_data"
    },
    {
     "name": "stderr",
     "output_type": "stream",
     "text": [
      "training: 100%|████████████████████████████████████████████████████████████████████| 3670/3670 [01:47<00:00, 34.13it/s]\n",
      "validating: 100%|██████████████████████████████████████████████████████████████████| 2151/2151 [00:30<00:00, 70.12it/s]\n"
     ]
    },
    {
     "data": {
      "text/html": [
       "<pre style=\"white-space:pre;overflow-x:auto;line-height:normal;font-family:Menlo,'DejaVu Sans Mono',consolas,'Courier New',monospace\">epoch <span style=\"color: #008080; text-decoration-color: #008080; font-weight: bold\">122</span> | train_loss <span style=\"color: #008080; text-decoration-color: #008080; font-weight: bold\">0.015908</span> train_acc <span style=\"color: #008080; text-decoration-color: #008080; font-weight: bold\">0.992883</span> valid_loss <span style=\"color: #008080; text-decoration-color: #008080; font-weight: bold\">0.029161</span> valid_acc <span style=\"color: #008080; text-decoration-color: #008080; font-weight: bold\">0.986366</span>\n",
       "</pre>\n"
      ],
      "text/plain": [
       "epoch \u001b[1;36m122\u001b[0m | train_loss \u001b[1;36m0.015908\u001b[0m train_acc \u001b[1;36m0.992883\u001b[0m valid_loss \u001b[1;36m0.029161\u001b[0m valid_acc \u001b[1;36m0.986366\u001b[0m\n"
      ]
     },
     "metadata": {},
     "output_type": "display_data"
    },
    {
     "name": "stderr",
     "output_type": "stream",
     "text": [
      "training: 100%|████████████████████████████████████████████████████████████████████| 3670/3670 [01:48<00:00, 33.92it/s]\n",
      "validating: 100%|██████████████████████████████████████████████████████████████████| 2151/2151 [00:30<00:00, 70.20it/s]\n"
     ]
    },
    {
     "data": {
      "text/html": [
       "<pre style=\"white-space:pre;overflow-x:auto;line-height:normal;font-family:Menlo,'DejaVu Sans Mono',consolas,'Courier New',monospace\">epoch <span style=\"color: #008080; text-decoration-color: #008080; font-weight: bold\">123</span> | train_loss <span style=\"color: #008080; text-decoration-color: #008080; font-weight: bold\">0.015420</span> train_acc <span style=\"color: #008080; text-decoration-color: #008080; font-weight: bold\">0.993143</span> valid_loss <span style=\"color: #008080; text-decoration-color: #008080; font-weight: bold\">0.030311</span> valid_acc <span style=\"color: #008080; text-decoration-color: #008080; font-weight: bold\">0.985893</span>\n",
       "</pre>\n"
      ],
      "text/plain": [
       "epoch \u001b[1;36m123\u001b[0m | train_loss \u001b[1;36m0.015420\u001b[0m train_acc \u001b[1;36m0.993143\u001b[0m valid_loss \u001b[1;36m0.030311\u001b[0m valid_acc \u001b[1;36m0.985893\u001b[0m\n"
      ]
     },
     "metadata": {},
     "output_type": "display_data"
    },
    {
     "name": "stderr",
     "output_type": "stream",
     "text": [
      "training: 100%|████████████████████████████████████████████████████████████████████| 3670/3670 [01:48<00:00, 33.88it/s]\n",
      "validating: 100%|██████████████████████████████████████████████████████████████████| 2151/2151 [00:30<00:00, 70.05it/s]\n"
     ]
    },
    {
     "data": {
      "text/html": [
       "<pre style=\"white-space:pre;overflow-x:auto;line-height:normal;font-family:Menlo,'DejaVu Sans Mono',consolas,'Courier New',monospace\">epoch <span style=\"color: #008080; text-decoration-color: #008080; font-weight: bold\">124</span> | train_loss <span style=\"color: #008080; text-decoration-color: #008080; font-weight: bold\">0.015633</span> train_acc <span style=\"color: #008080; text-decoration-color: #008080; font-weight: bold\">0.993019</span> valid_loss <span style=\"color: #008080; text-decoration-color: #008080; font-weight: bold\">0.030976</span> valid_acc <span style=\"color: #008080; text-decoration-color: #008080; font-weight: bold\">0.986282</span>\n",
       "</pre>\n"
      ],
      "text/plain": [
       "epoch \u001b[1;36m124\u001b[0m | train_loss \u001b[1;36m0.015633\u001b[0m train_acc \u001b[1;36m0.993019\u001b[0m valid_loss \u001b[1;36m0.030976\u001b[0m valid_acc \u001b[1;36m0.986282\u001b[0m\n"
      ]
     },
     "metadata": {},
     "output_type": "display_data"
    },
    {
     "name": "stderr",
     "output_type": "stream",
     "text": [
      "training: 100%|████████████████████████████████████████████████████████████████████| 3670/3670 [01:48<00:00, 33.93it/s]\n",
      "validating: 100%|██████████████████████████████████████████████████████████████████| 2151/2151 [00:30<00:00, 70.40it/s]\n"
     ]
    },
    {
     "data": {
      "text/html": [
       "<pre style=\"white-space:pre;overflow-x:auto;line-height:normal;font-family:Menlo,'DejaVu Sans Mono',consolas,'Courier New',monospace\">epoch <span style=\"color: #008080; text-decoration-color: #008080; font-weight: bold\">125</span> | train_loss <span style=\"color: #008080; text-decoration-color: #008080; font-weight: bold\">0.015469</span> train_acc <span style=\"color: #008080; text-decoration-color: #008080; font-weight: bold\">0.993172</span> valid_loss <span style=\"color: #008080; text-decoration-color: #008080; font-weight: bold\">0.029690</span> valid_acc <span style=\"color: #008080; text-decoration-color: #008080; font-weight: bold\">0.986068</span>\n",
       "</pre>\n"
      ],
      "text/plain": [
       "epoch \u001b[1;36m125\u001b[0m | train_loss \u001b[1;36m0.015469\u001b[0m train_acc \u001b[1;36m0.993172\u001b[0m valid_loss \u001b[1;36m0.029690\u001b[0m valid_acc \u001b[1;36m0.986068\u001b[0m\n"
      ]
     },
     "metadata": {},
     "output_type": "display_data"
    },
    {
     "name": "stderr",
     "output_type": "stream",
     "text": [
      "training: 100%|████████████████████████████████████████████████████████████████████| 3670/3670 [01:46<00:00, 34.32it/s]\n",
      "validating: 100%|██████████████████████████████████████████████████████████████████| 2151/2151 [00:30<00:00, 70.50it/s]\n"
     ]
    },
    {
     "data": {
      "text/html": [
       "<pre style=\"white-space:pre;overflow-x:auto;line-height:normal;font-family:Menlo,'DejaVu Sans Mono',consolas,'Courier New',monospace\">epoch <span style=\"color: #008080; text-decoration-color: #008080; font-weight: bold\">126</span> | train_loss <span style=\"color: #008080; text-decoration-color: #008080; font-weight: bold\">0.016284</span> train_acc <span style=\"color: #008080; text-decoration-color: #008080; font-weight: bold\">0.993053</span> valid_loss <span style=\"color: #008080; text-decoration-color: #008080; font-weight: bold\">0.029032</span> valid_acc <span style=\"color: #008080; text-decoration-color: #008080; font-weight: bold\">0.986289</span>\n",
       "</pre>\n"
      ],
      "text/plain": [
       "epoch \u001b[1;36m126\u001b[0m | train_loss \u001b[1;36m0.016284\u001b[0m train_acc \u001b[1;36m0.993053\u001b[0m valid_loss \u001b[1;36m0.029032\u001b[0m valid_acc \u001b[1;36m0.986289\u001b[0m\n"
      ]
     },
     "metadata": {},
     "output_type": "display_data"
    },
    {
     "name": "stderr",
     "output_type": "stream",
     "text": [
      "training: 100%|████████████████████████████████████████████████████████████████████| 3670/3670 [01:47<00:00, 34.14it/s]\n",
      "validating: 100%|██████████████████████████████████████████████████████████████████| 2151/2151 [00:30<00:00, 70.19it/s]\n"
     ]
    },
    {
     "data": {
      "text/html": [
       "<pre style=\"white-space:pre;overflow-x:auto;line-height:normal;font-family:Menlo,'DejaVu Sans Mono',consolas,'Courier New',monospace\">epoch <span style=\"color: #008080; text-decoration-color: #008080; font-weight: bold\">127</span> | train_loss <span style=\"color: #008080; text-decoration-color: #008080; font-weight: bold\">0.015250</span> train_acc <span style=\"color: #008080; text-decoration-color: #008080; font-weight: bold\">0.993234</span> valid_loss <span style=\"color: #008080; text-decoration-color: #008080; font-weight: bold\">0.030185</span> valid_acc <span style=\"color: #008080; text-decoration-color: #008080; font-weight: bold\">0.985933</span>\n",
       "</pre>\n"
      ],
      "text/plain": [
       "epoch \u001b[1;36m127\u001b[0m | train_loss \u001b[1;36m0.015250\u001b[0m train_acc \u001b[1;36m0.993234\u001b[0m valid_loss \u001b[1;36m0.030185\u001b[0m valid_acc \u001b[1;36m0.985933\u001b[0m\n"
      ]
     },
     "metadata": {},
     "output_type": "display_data"
    },
    {
     "name": "stderr",
     "output_type": "stream",
     "text": [
      "training: 100%|████████████████████████████████████████████████████████████████████| 3670/3670 [01:47<00:00, 34.06it/s]\n",
      "validating: 100%|██████████████████████████████████████████████████████████████████| 2151/2151 [00:30<00:00, 70.15it/s]\n"
     ]
    },
    {
     "data": {
      "text/html": [
       "<pre style=\"white-space:pre;overflow-x:auto;line-height:normal;font-family:Menlo,'DejaVu Sans Mono',consolas,'Courier New',monospace\">epoch <span style=\"color: #008080; text-decoration-color: #008080; font-weight: bold\">128</span> | train_loss <span style=\"color: #008080; text-decoration-color: #008080; font-weight: bold\">0.016121</span> train_acc <span style=\"color: #008080; text-decoration-color: #008080; font-weight: bold\">0.993206</span> valid_loss <span style=\"color: #008080; text-decoration-color: #008080; font-weight: bold\">0.029429</span> valid_acc <span style=\"color: #008080; text-decoration-color: #008080; font-weight: bold\">0.986049</span>\n",
       "</pre>\n"
      ],
      "text/plain": [
       "epoch \u001b[1;36m128\u001b[0m | train_loss \u001b[1;36m0.016121\u001b[0m train_acc \u001b[1;36m0.993206\u001b[0m valid_loss \u001b[1;36m0.029429\u001b[0m valid_acc \u001b[1;36m0.986049\u001b[0m\n"
      ]
     },
     "metadata": {},
     "output_type": "display_data"
    },
    {
     "name": "stderr",
     "output_type": "stream",
     "text": [
      "training: 100%|████████████████████████████████████████████████████████████████████| 3670/3670 [01:48<00:00, 33.97it/s]\n",
      "validating: 100%|██████████████████████████████████████████████████████████████████| 2151/2151 [00:30<00:00, 70.50it/s]\n"
     ]
    },
    {
     "data": {
      "text/html": [
       "<pre style=\"white-space:pre;overflow-x:auto;line-height:normal;font-family:Menlo,'DejaVu Sans Mono',consolas,'Courier New',monospace\">epoch <span style=\"color: #008080; text-decoration-color: #008080; font-weight: bold\">129</span> | train_loss <span style=\"color: #008080; text-decoration-color: #008080; font-weight: bold\">0.015173</span> train_acc <span style=\"color: #008080; text-decoration-color: #008080; font-weight: bold\">0.993430</span> valid_loss <span style=\"color: #008080; text-decoration-color: #008080; font-weight: bold\">0.034652</span> valid_acc <span style=\"color: #008080; text-decoration-color: #008080; font-weight: bold\">0.985156</span>\n",
       "</pre>\n"
      ],
      "text/plain": [
       "epoch \u001b[1;36m129\u001b[0m | train_loss \u001b[1;36m0.015173\u001b[0m train_acc \u001b[1;36m0.993430\u001b[0m valid_loss \u001b[1;36m0.034652\u001b[0m valid_acc \u001b[1;36m0.985156\u001b[0m\n"
      ]
     },
     "metadata": {},
     "output_type": "display_data"
    },
    {
     "name": "stderr",
     "output_type": "stream",
     "text": [
      "training: 100%|████████████████████████████████████████████████████████████████████| 3670/3670 [01:47<00:00, 34.15it/s]\n",
      "validating: 100%|██████████████████████████████████████████████████████████████████| 2151/2151 [00:30<00:00, 70.50it/s]\n"
     ]
    },
    {
     "data": {
      "text/html": [
       "<pre style=\"white-space:pre;overflow-x:auto;line-height:normal;font-family:Menlo,'DejaVu Sans Mono',consolas,'Courier New',monospace\">epoch <span style=\"color: #008080; text-decoration-color: #008080; font-weight: bold\">130</span> | train_loss <span style=\"color: #008080; text-decoration-color: #008080; font-weight: bold\">0.015319</span> train_acc <span style=\"color: #008080; text-decoration-color: #008080; font-weight: bold\">0.993475</span> valid_loss <span style=\"color: #008080; text-decoration-color: #008080; font-weight: bold\">0.029104</span> valid_acc <span style=\"color: #008080; text-decoration-color: #008080; font-weight: bold\">0.986202</span>\n",
       "</pre>\n"
      ],
      "text/plain": [
       "epoch \u001b[1;36m130\u001b[0m | train_loss \u001b[1;36m0.015319\u001b[0m train_acc \u001b[1;36m0.993475\u001b[0m valid_loss \u001b[1;36m0.029104\u001b[0m valid_acc \u001b[1;36m0.986202\u001b[0m\n"
      ]
     },
     "metadata": {},
     "output_type": "display_data"
    },
    {
     "name": "stderr",
     "output_type": "stream",
     "text": [
      "training: 100%|████████████████████████████████████████████████████████████████████| 3670/3670 [01:47<00:00, 34.06it/s]\n",
      "validating: 100%|██████████████████████████████████████████████████████████████████| 2151/2151 [00:30<00:00, 70.19it/s]\n"
     ]
    },
    {
     "data": {
      "text/html": [
       "<pre style=\"white-space:pre;overflow-x:auto;line-height:normal;font-family:Menlo,'DejaVu Sans Mono',consolas,'Courier New',monospace\">epoch <span style=\"color: #008080; text-decoration-color: #008080; font-weight: bold\">131</span> | train_loss <span style=\"color: #008080; text-decoration-color: #008080; font-weight: bold\">0.015162</span> train_acc <span style=\"color: #008080; text-decoration-color: #008080; font-weight: bold\">0.993494</span> valid_loss <span style=\"color: #008080; text-decoration-color: #008080; font-weight: bold\">0.030478</span> valid_acc <span style=\"color: #008080; text-decoration-color: #008080; font-weight: bold\">0.985722</span>\n",
       "</pre>\n"
      ],
      "text/plain": [
       "epoch \u001b[1;36m131\u001b[0m | train_loss \u001b[1;36m0.015162\u001b[0m train_acc \u001b[1;36m0.993494\u001b[0m valid_loss \u001b[1;36m0.030478\u001b[0m valid_acc \u001b[1;36m0.985722\u001b[0m\n"
      ]
     },
     "metadata": {},
     "output_type": "display_data"
    },
    {
     "name": "stderr",
     "output_type": "stream",
     "text": [
      "training: 100%|████████████████████████████████████████████████████████████████████| 3670/3670 [01:47<00:00, 34.06it/s]\n",
      "validating: 100%|██████████████████████████████████████████████████████████████████| 2151/2151 [00:30<00:00, 70.58it/s]\n"
     ]
    },
    {
     "data": {
      "text/html": [
       "<pre style=\"white-space:pre;overflow-x:auto;line-height:normal;font-family:Menlo,'DejaVu Sans Mono',consolas,'Courier New',monospace\">epoch <span style=\"color: #008080; text-decoration-color: #008080; font-weight: bold\">132</span> | train_loss <span style=\"color: #008080; text-decoration-color: #008080; font-weight: bold\">0.015212</span> train_acc <span style=\"color: #008080; text-decoration-color: #008080; font-weight: bold\">0.993375</span> valid_loss <span style=\"color: #008080; text-decoration-color: #008080; font-weight: bold\">0.029553</span> valid_acc <span style=\"color: #008080; text-decoration-color: #008080; font-weight: bold\">0.986355</span>\n",
       "</pre>\n"
      ],
      "text/plain": [
       "epoch \u001b[1;36m132\u001b[0m | train_loss \u001b[1;36m0.015212\u001b[0m train_acc \u001b[1;36m0.993375\u001b[0m valid_loss \u001b[1;36m0.029553\u001b[0m valid_acc \u001b[1;36m0.986355\u001b[0m\n"
      ]
     },
     "metadata": {},
     "output_type": "display_data"
    },
    {
     "name": "stderr",
     "output_type": "stream",
     "text": [
      "training: 100%|████████████████████████████████████████████████████████████████████| 3670/3670 [01:47<00:00, 34.18it/s]\n",
      "validating: 100%|██████████████████████████████████████████████████████████████████| 2151/2151 [00:30<00:00, 70.53it/s]\n"
     ]
    },
    {
     "data": {
      "text/html": [
       "<pre style=\"white-space:pre;overflow-x:auto;line-height:normal;font-family:Menlo,'DejaVu Sans Mono',consolas,'Courier New',monospace\">epoch <span style=\"color: #008080; text-decoration-color: #008080; font-weight: bold\">133</span> | train_loss <span style=\"color: #008080; text-decoration-color: #008080; font-weight: bold\">0.015180</span> train_acc <span style=\"color: #008080; text-decoration-color: #008080; font-weight: bold\">0.993449</span> valid_loss <span style=\"color: #008080; text-decoration-color: #008080; font-weight: bold\">0.030433</span> valid_acc <span style=\"color: #008080; text-decoration-color: #008080; font-weight: bold\">0.986020</span>\n",
       "</pre>\n"
      ],
      "text/plain": [
       "epoch \u001b[1;36m133\u001b[0m | train_loss \u001b[1;36m0.015180\u001b[0m train_acc \u001b[1;36m0.993449\u001b[0m valid_loss \u001b[1;36m0.030433\u001b[0m valid_acc \u001b[1;36m0.986020\u001b[0m\n"
      ]
     },
     "metadata": {},
     "output_type": "display_data"
    },
    {
     "name": "stderr",
     "output_type": "stream",
     "text": [
      "training: 100%|████████████████████████████████████████████████████████████████████| 3670/3670 [01:48<00:00, 33.97it/s]\n",
      "validating: 100%|██████████████████████████████████████████████████████████████████| 2151/2151 [00:30<00:00, 70.19it/s]\n"
     ]
    },
    {
     "data": {
      "text/html": [
       "<pre style=\"white-space:pre;overflow-x:auto;line-height:normal;font-family:Menlo,'DejaVu Sans Mono',consolas,'Courier New',monospace\">epoch <span style=\"color: #008080; text-decoration-color: #008080; font-weight: bold\">134</span> | train_loss <span style=\"color: #008080; text-decoration-color: #008080; font-weight: bold\">0.015006</span> train_acc <span style=\"color: #008080; text-decoration-color: #008080; font-weight: bold\">0.993622</span> valid_loss <span style=\"color: #008080; text-decoration-color: #008080; font-weight: bold\">0.032282</span> valid_acc <span style=\"color: #008080; text-decoration-color: #008080; font-weight: bold\">0.986017</span>\n",
       "</pre>\n"
      ],
      "text/plain": [
       "epoch \u001b[1;36m134\u001b[0m | train_loss \u001b[1;36m0.015006\u001b[0m train_acc \u001b[1;36m0.993622\u001b[0m valid_loss \u001b[1;36m0.032282\u001b[0m valid_acc \u001b[1;36m0.986017\u001b[0m\n"
      ]
     },
     "metadata": {},
     "output_type": "display_data"
    },
    {
     "name": "stderr",
     "output_type": "stream",
     "text": [
      "training: 100%|████████████████████████████████████████████████████████████████████| 3670/3670 [01:47<00:00, 34.09it/s]\n",
      "validating: 100%|██████████████████████████████████████████████████████████████████| 2151/2151 [00:30<00:00, 70.22it/s]\n"
     ]
    },
    {
     "data": {
      "text/html": [
       "<pre style=\"white-space:pre;overflow-x:auto;line-height:normal;font-family:Menlo,'DejaVu Sans Mono',consolas,'Courier New',monospace\">epoch <span style=\"color: #008080; text-decoration-color: #008080; font-weight: bold\">135</span> | train_loss <span style=\"color: #008080; text-decoration-color: #008080; font-weight: bold\">0.014790</span> train_acc <span style=\"color: #008080; text-decoration-color: #008080; font-weight: bold\">0.993624</span> valid_loss <span style=\"color: #008080; text-decoration-color: #008080; font-weight: bold\">0.029709</span> valid_acc <span style=\"color: #008080; text-decoration-color: #008080; font-weight: bold\">0.985940</span>\n",
       "</pre>\n"
      ],
      "text/plain": [
       "epoch \u001b[1;36m135\u001b[0m | train_loss \u001b[1;36m0.014790\u001b[0m train_acc \u001b[1;36m0.993624\u001b[0m valid_loss \u001b[1;36m0.029709\u001b[0m valid_acc \u001b[1;36m0.985940\u001b[0m\n"
      ]
     },
     "metadata": {},
     "output_type": "display_data"
    },
    {
     "name": "stderr",
     "output_type": "stream",
     "text": [
      "training: 100%|████████████████████████████████████████████████████████████████████| 3670/3670 [01:47<00:00, 34.02it/s]\n",
      "validating: 100%|██████████████████████████████████████████████████████████████████| 2151/2151 [00:30<00:00, 70.38it/s]\n"
     ]
    },
    {
     "data": {
      "text/html": [
       "<pre style=\"white-space:pre;overflow-x:auto;line-height:normal;font-family:Menlo,'DejaVu Sans Mono',consolas,'Courier New',monospace\">epoch <span style=\"color: #008080; text-decoration-color: #008080; font-weight: bold\">136</span> | train_loss <span style=\"color: #008080; text-decoration-color: #008080; font-weight: bold\">0.015433</span> train_acc <span style=\"color: #008080; text-decoration-color: #008080; font-weight: bold\">0.993596</span> valid_loss <span style=\"color: #008080; text-decoration-color: #008080; font-weight: bold\">0.029996</span> valid_acc <span style=\"color: #008080; text-decoration-color: #008080; font-weight: bold\">0.986253</span>\n",
       "</pre>\n"
      ],
      "text/plain": [
       "epoch \u001b[1;36m136\u001b[0m | train_loss \u001b[1;36m0.015433\u001b[0m train_acc \u001b[1;36m0.993596\u001b[0m valid_loss \u001b[1;36m0.029996\u001b[0m valid_acc \u001b[1;36m0.986253\u001b[0m\n"
      ]
     },
     "metadata": {},
     "output_type": "display_data"
    },
    {
     "name": "stderr",
     "output_type": "stream",
     "text": [
      "training: 100%|████████████████████████████████████████████████████████████████████| 3670/3670 [01:47<00:00, 33.98it/s]\n",
      "validating: 100%|██████████████████████████████████████████████████████████████████| 2151/2151 [00:30<00:00, 70.33it/s]\n"
     ]
    },
    {
     "data": {
      "text/html": [
       "<pre style=\"white-space:pre;overflow-x:auto;line-height:normal;font-family:Menlo,'DejaVu Sans Mono',consolas,'Courier New',monospace\">epoch <span style=\"color: #008080; text-decoration-color: #008080; font-weight: bold\">137</span> | train_loss <span style=\"color: #008080; text-decoration-color: #008080; font-weight: bold\">0.014652</span> train_acc <span style=\"color: #008080; text-decoration-color: #008080; font-weight: bold\">0.993805</span> valid_loss <span style=\"color: #008080; text-decoration-color: #008080; font-weight: bold\">0.030348</span> valid_acc <span style=\"color: #008080; text-decoration-color: #008080; font-weight: bold\">0.986028</span>\n",
       "</pre>\n"
      ],
      "text/plain": [
       "epoch \u001b[1;36m137\u001b[0m | train_loss \u001b[1;36m0.014652\u001b[0m train_acc \u001b[1;36m0.993805\u001b[0m valid_loss \u001b[1;36m0.030348\u001b[0m valid_acc \u001b[1;36m0.986028\u001b[0m\n"
      ]
     },
     "metadata": {},
     "output_type": "display_data"
    },
    {
     "name": "stderr",
     "output_type": "stream",
     "text": [
      "training: 100%|████████████████████████████████████████████████████████████████████| 3670/3670 [01:47<00:00, 34.03it/s]\n",
      "validating: 100%|██████████████████████████████████████████████████████████████████| 2151/2151 [00:30<00:00, 70.10it/s]\n"
     ]
    },
    {
     "data": {
      "text/html": [
       "<pre style=\"white-space:pre;overflow-x:auto;line-height:normal;font-family:Menlo,'DejaVu Sans Mono',consolas,'Courier New',monospace\">epoch <span style=\"color: #008080; text-decoration-color: #008080; font-weight: bold\">138</span> | train_loss <span style=\"color: #008080; text-decoration-color: #008080; font-weight: bold\">0.015187</span> train_acc <span style=\"color: #008080; text-decoration-color: #008080; font-weight: bold\">0.993585</span> valid_loss <span style=\"color: #008080; text-decoration-color: #008080; font-weight: bold\">0.030553</span> valid_acc <span style=\"color: #008080; text-decoration-color: #008080; font-weight: bold\">0.986326</span>\n",
       "</pre>\n"
      ],
      "text/plain": [
       "epoch \u001b[1;36m138\u001b[0m | train_loss \u001b[1;36m0.015187\u001b[0m train_acc \u001b[1;36m0.993585\u001b[0m valid_loss \u001b[1;36m0.030553\u001b[0m valid_acc \u001b[1;36m0.986326\u001b[0m\n"
      ]
     },
     "metadata": {},
     "output_type": "display_data"
    },
    {
     "name": "stderr",
     "output_type": "stream",
     "text": [
      "training: 100%|████████████████████████████████████████████████████████████████████| 3670/3670 [01:47<00:00, 34.26it/s]\n",
      "validating: 100%|██████████████████████████████████████████████████████████████████| 2151/2151 [00:30<00:00, 70.36it/s]\n"
     ]
    },
    {
     "data": {
      "text/html": [
       "<pre style=\"white-space:pre;overflow-x:auto;line-height:normal;font-family:Menlo,'DejaVu Sans Mono',consolas,'Courier New',monospace\">epoch <span style=\"color: #008080; text-decoration-color: #008080; font-weight: bold\">139</span> | train_loss <span style=\"color: #008080; text-decoration-color: #008080; font-weight: bold\">0.015617</span> train_acc <span style=\"color: #008080; text-decoration-color: #008080; font-weight: bold\">0.993692</span> valid_loss <span style=\"color: #008080; text-decoration-color: #008080; font-weight: bold\">0.029665</span> valid_acc <span style=\"color: #008080; text-decoration-color: #008080; font-weight: bold\">0.986209</span>\n",
       "</pre>\n"
      ],
      "text/plain": [
       "epoch \u001b[1;36m139\u001b[0m | train_loss \u001b[1;36m0.015617\u001b[0m train_acc \u001b[1;36m0.993692\u001b[0m valid_loss \u001b[1;36m0.029665\u001b[0m valid_acc \u001b[1;36m0.986209\u001b[0m\n"
      ]
     },
     "metadata": {},
     "output_type": "display_data"
    },
    {
     "name": "stderr",
     "output_type": "stream",
     "text": [
      "training: 100%|████████████████████████████████████████████████████████████████████| 3670/3670 [01:47<00:00, 34.10it/s]\n",
      "validating: 100%|██████████████████████████████████████████████████████████████████| 2151/2151 [00:30<00:00, 70.45it/s]\n"
     ]
    },
    {
     "data": {
      "text/html": [
       "<pre style=\"white-space:pre;overflow-x:auto;line-height:normal;font-family:Menlo,'DejaVu Sans Mono',consolas,'Courier New',monospace\">epoch <span style=\"color: #008080; text-decoration-color: #008080; font-weight: bold\">140</span> | train_loss <span style=\"color: #008080; text-decoration-color: #008080; font-weight: bold\">0.014989</span> train_acc <span style=\"color: #008080; text-decoration-color: #008080; font-weight: bold\">0.993739</span> valid_loss <span style=\"color: #008080; text-decoration-color: #008080; font-weight: bold\">0.032137</span> valid_acc <span style=\"color: #008080; text-decoration-color: #008080; font-weight: bold\">0.984949</span>\n",
       "</pre>\n"
      ],
      "text/plain": [
       "epoch \u001b[1;36m140\u001b[0m | train_loss \u001b[1;36m0.014989\u001b[0m train_acc \u001b[1;36m0.993739\u001b[0m valid_loss \u001b[1;36m0.032137\u001b[0m valid_acc \u001b[1;36m0.984949\u001b[0m\n"
      ]
     },
     "metadata": {},
     "output_type": "display_data"
    },
    {
     "name": "stderr",
     "output_type": "stream",
     "text": [
      "training: 100%|████████████████████████████████████████████████████████████████████| 3670/3670 [01:47<00:00, 34.05it/s]\n",
      "validating: 100%|██████████████████████████████████████████████████████████████████| 2151/2151 [00:30<00:00, 70.12it/s]\n"
     ]
    },
    {
     "data": {
      "text/html": [
       "<pre style=\"white-space:pre;overflow-x:auto;line-height:normal;font-family:Menlo,'DejaVu Sans Mono',consolas,'Courier New',monospace\">epoch <span style=\"color: #008080; text-decoration-color: #008080; font-weight: bold\">141</span> | train_loss <span style=\"color: #008080; text-decoration-color: #008080; font-weight: bold\">0.015087</span> train_acc <span style=\"color: #008080; text-decoration-color: #008080; font-weight: bold\">0.993722</span> valid_loss <span style=\"color: #008080; text-decoration-color: #008080; font-weight: bold\">0.030424</span> valid_acc <span style=\"color: #008080; text-decoration-color: #008080; font-weight: bold\">0.985890</span>\n",
       "</pre>\n"
      ],
      "text/plain": [
       "epoch \u001b[1;36m141\u001b[0m | train_loss \u001b[1;36m0.015087\u001b[0m train_acc \u001b[1;36m0.993722\u001b[0m valid_loss \u001b[1;36m0.030424\u001b[0m valid_acc \u001b[1;36m0.985890\u001b[0m\n"
      ]
     },
     "metadata": {},
     "output_type": "display_data"
    },
    {
     "name": "stderr",
     "output_type": "stream",
     "text": [
      "training: 100%|████████████████████████████████████████████████████████████████████| 3670/3670 [01:47<00:00, 34.05it/s]\n",
      "validating: 100%|██████████████████████████████████████████████████████████████████| 2151/2151 [00:30<00:00, 70.27it/s]\n"
     ]
    },
    {
     "data": {
      "text/html": [
       "<pre style=\"white-space:pre;overflow-x:auto;line-height:normal;font-family:Menlo,'DejaVu Sans Mono',consolas,'Courier New',monospace\">epoch <span style=\"color: #008080; text-decoration-color: #008080; font-weight: bold\">142</span> | train_loss <span style=\"color: #008080; text-decoration-color: #008080; font-weight: bold\">0.014548</span> train_acc <span style=\"color: #008080; text-decoration-color: #008080; font-weight: bold\">0.994013</span> valid_loss <span style=\"color: #008080; text-decoration-color: #008080; font-weight: bold\">0.033642</span> valid_acc <span style=\"color: #008080; text-decoration-color: #008080; font-weight: bold\">0.985588</span>\n",
       "</pre>\n"
      ],
      "text/plain": [
       "epoch \u001b[1;36m142\u001b[0m | train_loss \u001b[1;36m0.014548\u001b[0m train_acc \u001b[1;36m0.994013\u001b[0m valid_loss \u001b[1;36m0.033642\u001b[0m valid_acc \u001b[1;36m0.985588\u001b[0m\n"
      ]
     },
     "metadata": {},
     "output_type": "display_data"
    },
    {
     "name": "stderr",
     "output_type": "stream",
     "text": [
      "training: 100%|████████████████████████████████████████████████████████████████████| 3670/3670 [01:47<00:00, 34.11it/s]\n",
      "validating: 100%|██████████████████████████████████████████████████████████████████| 2151/2151 [00:30<00:00, 70.50it/s]\n"
     ]
    },
    {
     "data": {
      "text/html": [
       "<pre style=\"white-space:pre;overflow-x:auto;line-height:normal;font-family:Menlo,'DejaVu Sans Mono',consolas,'Courier New',monospace\">epoch <span style=\"color: #008080; text-decoration-color: #008080; font-weight: bold\">143</span> | train_loss <span style=\"color: #008080; text-decoration-color: #008080; font-weight: bold\">0.014494</span> train_acc <span style=\"color: #008080; text-decoration-color: #008080; font-weight: bold\">0.994081</span> valid_loss <span style=\"color: #008080; text-decoration-color: #008080; font-weight: bold\">0.030687</span> valid_acc <span style=\"color: #008080; text-decoration-color: #008080; font-weight: bold\">0.986311</span>\n",
       "</pre>\n"
      ],
      "text/plain": [
       "epoch \u001b[1;36m143\u001b[0m | train_loss \u001b[1;36m0.014494\u001b[0m train_acc \u001b[1;36m0.994081\u001b[0m valid_loss \u001b[1;36m0.030687\u001b[0m valid_acc \u001b[1;36m0.986311\u001b[0m\n"
      ]
     },
     "metadata": {},
     "output_type": "display_data"
    },
    {
     "name": "stderr",
     "output_type": "stream",
     "text": [
      "training: 100%|████████████████████████████████████████████████████████████████████| 3670/3670 [01:47<00:00, 34.05it/s]\n",
      "validating: 100%|██████████████████████████████████████████████████████████████████| 2151/2151 [00:30<00:00, 70.49it/s]\n"
     ]
    },
    {
     "data": {
      "text/html": [
       "<pre style=\"white-space:pre;overflow-x:auto;line-height:normal;font-family:Menlo,'DejaVu Sans Mono',consolas,'Courier New',monospace\">epoch <span style=\"color: #008080; text-decoration-color: #008080; font-weight: bold\">144</span> | train_loss <span style=\"color: #008080; text-decoration-color: #008080; font-weight: bold\">0.014412</span> train_acc <span style=\"color: #008080; text-decoration-color: #008080; font-weight: bold\">0.993928</span> valid_loss <span style=\"color: #008080; text-decoration-color: #008080; font-weight: bold\">0.030050</span> valid_acc <span style=\"color: #008080; text-decoration-color: #008080; font-weight: bold\">0.986104</span>\n",
       "</pre>\n"
      ],
      "text/plain": [
       "epoch \u001b[1;36m144\u001b[0m | train_loss \u001b[1;36m0.014412\u001b[0m train_acc \u001b[1;36m0.993928\u001b[0m valid_loss \u001b[1;36m0.030050\u001b[0m valid_acc \u001b[1;36m0.986104\u001b[0m\n"
      ]
     },
     "metadata": {},
     "output_type": "display_data"
    },
    {
     "name": "stderr",
     "output_type": "stream",
     "text": [
      "training: 100%|████████████████████████████████████████████████████████████████████| 3670/3670 [01:48<00:00, 33.98it/s]\n",
      "validating: 100%|██████████████████████████████████████████████████████████████████| 2151/2151 [00:30<00:00, 70.14it/s]\n"
     ]
    },
    {
     "data": {
      "text/html": [
       "<pre style=\"white-space:pre;overflow-x:auto;line-height:normal;font-family:Menlo,'DejaVu Sans Mono',consolas,'Courier New',monospace\">epoch <span style=\"color: #008080; text-decoration-color: #008080; font-weight: bold\">145</span> | train_loss <span style=\"color: #008080; text-decoration-color: #008080; font-weight: bold\">0.014451</span> train_acc <span style=\"color: #008080; text-decoration-color: #008080; font-weight: bold\">0.994071</span> valid_loss <span style=\"color: #008080; text-decoration-color: #008080; font-weight: bold\">0.030551</span> valid_acc <span style=\"color: #008080; text-decoration-color: #008080; font-weight: bold\">0.985828</span>\n",
       "</pre>\n"
      ],
      "text/plain": [
       "epoch \u001b[1;36m145\u001b[0m | train_loss \u001b[1;36m0.014451\u001b[0m train_acc \u001b[1;36m0.994071\u001b[0m valid_loss \u001b[1;36m0.030551\u001b[0m valid_acc \u001b[1;36m0.985828\u001b[0m\n"
      ]
     },
     "metadata": {},
     "output_type": "display_data"
    },
    {
     "name": "stderr",
     "output_type": "stream",
     "text": [
      "training: 100%|████████████████████████████████████████████████████████████████████| 3670/3670 [01:47<00:00, 34.27it/s]\n",
      "validating: 100%|██████████████████████████████████████████████████████████████████| 2151/2151 [00:30<00:00, 70.21it/s]\n"
     ]
    },
    {
     "data": {
      "text/html": [
       "<pre style=\"white-space:pre;overflow-x:auto;line-height:normal;font-family:Menlo,'DejaVu Sans Mono',consolas,'Courier New',monospace\">epoch <span style=\"color: #008080; text-decoration-color: #008080; font-weight: bold\">146</span> | train_loss <span style=\"color: #008080; text-decoration-color: #008080; font-weight: bold\">0.014458</span> train_acc <span style=\"color: #008080; text-decoration-color: #008080; font-weight: bold\">0.994064</span> valid_loss <span style=\"color: #008080; text-decoration-color: #008080; font-weight: bold\">0.029835</span> valid_acc <span style=\"color: #008080; text-decoration-color: #008080; font-weight: bold\">0.986460</span>\n",
       "</pre>\n"
      ],
      "text/plain": [
       "epoch \u001b[1;36m146\u001b[0m | train_loss \u001b[1;36m0.014458\u001b[0m train_acc \u001b[1;36m0.994064\u001b[0m valid_loss \u001b[1;36m0.029835\u001b[0m valid_acc \u001b[1;36m0.986460\u001b[0m\n"
      ]
     },
     "metadata": {},
     "output_type": "display_data"
    },
    {
     "name": "stderr",
     "output_type": "stream",
     "text": [
      "training: 100%|████████████████████████████████████████████████████████████████████| 3670/3670 [01:48<00:00, 33.69it/s]\n",
      "validating: 100%|██████████████████████████████████████████████████████████████████| 2151/2151 [00:30<00:00, 70.52it/s]\n"
     ]
    },
    {
     "data": {
      "text/html": [
       "<pre style=\"white-space:pre;overflow-x:auto;line-height:normal;font-family:Menlo,'DejaVu Sans Mono',consolas,'Courier New',monospace\">epoch <span style=\"color: #008080; text-decoration-color: #008080; font-weight: bold\">147</span> | train_loss <span style=\"color: #008080; text-decoration-color: #008080; font-weight: bold\">0.014403</span> train_acc <span style=\"color: #008080; text-decoration-color: #008080; font-weight: bold\">0.994192</span> valid_loss <span style=\"color: #008080; text-decoration-color: #008080; font-weight: bold\">0.029672</span> valid_acc <span style=\"color: #008080; text-decoration-color: #008080; font-weight: bold\">0.986402</span>\n",
       "</pre>\n"
      ],
      "text/plain": [
       "epoch \u001b[1;36m147\u001b[0m | train_loss \u001b[1;36m0.014403\u001b[0m train_acc \u001b[1;36m0.994192\u001b[0m valid_loss \u001b[1;36m0.029672\u001b[0m valid_acc \u001b[1;36m0.986402\u001b[0m\n"
      ]
     },
     "metadata": {},
     "output_type": "display_data"
    },
    {
     "name": "stderr",
     "output_type": "stream",
     "text": [
      "training: 100%|████████████████████████████████████████████████████████████████████| 3670/3670 [01:47<00:00, 34.05it/s]\n",
      "validating: 100%|██████████████████████████████████████████████████████████████████| 2151/2151 [00:30<00:00, 70.37it/s]\n"
     ]
    },
    {
     "data": {
      "text/html": [
       "<pre style=\"white-space:pre;overflow-x:auto;line-height:normal;font-family:Menlo,'DejaVu Sans Mono',consolas,'Courier New',monospace\">epoch <span style=\"color: #008080; text-decoration-color: #008080; font-weight: bold\">148</span> | train_loss <span style=\"color: #008080; text-decoration-color: #008080; font-weight: bold\">0.014575</span> train_acc <span style=\"color: #008080; text-decoration-color: #008080; font-weight: bold\">0.994128</span> valid_loss <span style=\"color: #008080; text-decoration-color: #008080; font-weight: bold\">0.030169</span> valid_acc <span style=\"color: #008080; text-decoration-color: #008080; font-weight: bold\">0.986395</span>\n",
       "</pre>\n"
      ],
      "text/plain": [
       "epoch \u001b[1;36m148\u001b[0m | train_loss \u001b[1;36m0.014575\u001b[0m train_acc \u001b[1;36m0.994128\u001b[0m valid_loss \u001b[1;36m0.030169\u001b[0m valid_acc \u001b[1;36m0.986395\u001b[0m\n"
      ]
     },
     "metadata": {},
     "output_type": "display_data"
    },
    {
     "name": "stderr",
     "output_type": "stream",
     "text": [
      "training: 100%|████████████████████████████████████████████████████████████████████| 3670/3670 [01:47<00:00, 34.02it/s]\n",
      "validating: 100%|██████████████████████████████████████████████████████████████████| 2151/2151 [00:30<00:00, 69.81it/s]\n"
     ]
    },
    {
     "data": {
      "text/html": [
       "<pre style=\"white-space:pre;overflow-x:auto;line-height:normal;font-family:Menlo,'DejaVu Sans Mono',consolas,'Courier New',monospace\">epoch <span style=\"color: #008080; text-decoration-color: #008080; font-weight: bold\">149</span> | train_loss <span style=\"color: #008080; text-decoration-color: #008080; font-weight: bold\">0.014265</span> train_acc <span style=\"color: #008080; text-decoration-color: #008080; font-weight: bold\">0.994333</span> valid_loss <span style=\"color: #008080; text-decoration-color: #008080; font-weight: bold\">0.029717</span> valid_acc <span style=\"color: #008080; text-decoration-color: #008080; font-weight: bold\">0.986355</span>\n",
       "</pre>\n"
      ],
      "text/plain": [
       "epoch \u001b[1;36m149\u001b[0m | train_loss \u001b[1;36m0.014265\u001b[0m train_acc \u001b[1;36m0.994333\u001b[0m valid_loss \u001b[1;36m0.029717\u001b[0m valid_acc \u001b[1;36m0.986355\u001b[0m\n"
      ]
     },
     "metadata": {},
     "output_type": "display_data"
    }
   ],
   "source": [
    "s_train_loss, s_train_acc, s_valid_loss, s_valid_acc = train_student(teacher_model, student_model, student_optim, loss_func, loss_func2, train_loader, valid_loader, teacher_epoch)\n",
    "torch.save(student_model.state_dict(), 'final_student_model.pth')"
   ]
  },
  {
   "cell_type": "code",
   "execution_count": 16,
   "id": "cdd94796",
   "metadata": {},
   "outputs": [
    {
     "data": {
      "image/png": "[encoded data removed]",
      "text/plain": [
       "<Figure size 640x480 with 1 Axes>"
      ]
     },
     "metadata": {},
     "output_type": "display_data"
    }
   ],
   "source": [
    "x = np.linspace(0, len(s_train_loss), len(s_train_loss))\n",
    "plt.clf()\n",
    "plt.plot(x, s_train_loss, label = 'train_loss')\n",
    "plt.plot(x, s_valid_loss, label = 'valid_loss')\n",
    "\n",
    "plt.legend()\n",
    "plt.show()"
   ]
  },
  {
   "cell_type": "code",
   "execution_count": 17,
   "id": "f26b2311",
   "metadata": {},
   "outputs": [
    {
     "data": {
      "image/png": "[encoded data removed]",
      "text/plain": [
       "<Figure size 640x480 with 1 Axes>"
      ]
     },
     "metadata": {},
     "output_type": "display_data"
    }
   ],
   "source": [
    "x = np.linspace(0, len(s_train_acc), len(s_train_acc))\n",
    "plt.clf()\n",
    "plt.plot(x, s_train_acc, label = 'train_acc')\n",
    "plt.plot(x, s_valid_acc, label = 'valid_acc')\n",
    "\n",
    "plt.legend()\n",
    "plt.show()"
   ]
  },
  {
   "cell_type": "code",
   "execution_count": 18,
   "id": "aa107a4c",
   "metadata": {},
   "outputs": [],
   "source": [
    "# model = MLP().to(device)\n",
    "# optim = torch.optim.Adam(model.parameters(), lr = 1e-4)\n",
    "\n",
    "# for e in range(100):\n",
    "#     t_loss = 0\n",
    "#     t_acc = 0\n",
    "#     v_loss = 0\n",
    "#     v_acc = 0\n",
    "    \n",
    "#     model.train()\n",
    "#     for (data, label) in tqdm(train_loader, desc = 'training'):\n",
    "#         data  = data.to(device)\n",
    "#         label = label.to(device)\n",
    "#         pred = model(data)\n",
    "#         loss = loss_func(pred, label)\n",
    "#         loss.backward()\n",
    "#         optim.step()\n",
    "#         t_loss += loss.item()\n",
    "#         t_acc += (torch.argmax(pred, axis = 1) == label).sum().item()\n",
    "#     t_loss = t_loss / len(train_loader)\n",
    "#     t_acc = t_acc / train_set.__len__()\n",
    "#     model.eval()\n",
    "#     with torch.no_grad():\n",
    "#         for (data, label) in tqdm(valid_loader, desc = 'validating'):\n",
    "#             data  = data.to(device)\n",
    "#             label = label.to(device)\n",
    "#             pred = model(data)\n",
    "#             loss = loss_func(pred, label)\n",
    "#             v_loss += loss.item()\n",
    "#             v_acc += (torch.argmax(pred, axis = 1) == label).sum().item()\n",
    "#     v_loss = v_loss / len(valid_loader)\n",
    "#     v_acc = v_acc / valid_set.__len__()\n",
    "        \n",
    "#     print(f'epoch {e} | train_loss {t_loss:.6f} train_acc {t_acc:.6f} valid_loss {v_loss:.6f} valid_acc {v_acc:.6f}')"
   ]
  },
  {
   "cell_type": "markdown",
   "id": "b032e238",
   "metadata": {},
   "source": [
    "# 測試模型性能"
   ]
  },
  {
   "cell_type": "code",
   "execution_count": 19,
   "id": "6672fff9",
   "metadata": {},
   "outputs": [],
   "source": [
    "import torcheval.metrics.functional as EF\n",
    "import time"
   ]
  },
  {
   "cell_type": "code",
   "execution_count": 20,
   "id": "812ca51d",
   "metadata": {},
   "outputs": [],
   "source": [
    "def testing_model(model, test_loader):\n",
    "    model.eval()\n",
    "    with torch.no_grad():\n",
    "        start_time = time.time()\n",
    "        score = 0\n",
    "        for (data, label) in tqdm(test_loader):\n",
    "            data  = data.to(device)\n",
    "            label = label.to(device)\n",
    "            pred = model(data)\n",
    "            score += EF.multiclass_f1_score(pred, label)\n",
    "    f1_score = score / len(test_loader)\n",
    "    end_time = time.time()\n",
    "    return f1_score, (end_time - start_time)"
   ]
  },
  {
   "cell_type": "code",
   "execution_count": 21,
   "id": "e8221990",
   "metadata": {},
   "outputs": [
    {
     "name": "stderr",
     "output_type": "stream",
     "text": [
      "100%|█████████████████████████████████████████████████████████████████████████████| 1710/1710 [00:14<00:00, 121.53it/s]\n"
     ]
    }
   ],
   "source": [
    "#teacher_f1, teacher_time = testing_model(teacher_model, test_loader)\n",
    "student_f1, student_time = testing_model(student_model, test_loader)\n",
    "# f1 , time = testing_model(model, test_loader)"
   ]
  },
  {
   "cell_type": "code",
   "execution_count": 22,
   "id": "a68e4775",
   "metadata": {},
   "outputs": [
    {
     "data": {
      "text/html": [
       "<pre style=\"white-space:pre;overflow-x:auto;line-height:normal;font-family:Menlo,'DejaVu Sans Mono',consolas,'Courier New',monospace\"><span style=\"color: #800080; text-decoration-color: #800080; font-weight: bold\">tensor</span><span style=\"font-weight: bold\">(</span><span style=\"color: #008080; text-decoration-color: #008080; font-weight: bold\">0.9781</span>, <span style=\"color: #808000; text-decoration-color: #808000\">device</span>=<span style=\"color: #008000; text-decoration-color: #008000\">'cuda:0'</span><span style=\"font-weight: bold\">)</span> <span style=\"color: #008080; text-decoration-color: #008080; font-weight: bold\">14.073099851608276</span>\n",
       "</pre>\n"
      ],
      "text/plain": [
       "\u001b[1;35mtensor\u001b[0m\u001b[1m(\u001b[0m\u001b[1;36m0.9781\u001b[0m, \u001b[33mdevice\u001b[0m=\u001b[32m'cuda:0'\u001b[0m\u001b[1m)\u001b[0m \u001b[1;36m14.073099851608276\u001b[0m\n"
      ]
     },
     "metadata": {},
     "output_type": "display_data"
    }
   ],
   "source": [
    "#print(teacher_f1, teacher_time)\n",
    "print(student_f1, student_time)\n",
    "# print(f1)"
   ]
  },
  {
   "cell_type": "code",
   "execution_count": null,
   "id": "a1dc6a3a",
   "metadata": {},
   "outputs": [],
   "source": []
  }
 ],
 "metadata": {
  "kernelspec": {
   "display_name": "Python 3 (ipykernel)",
   "language": "python",
   "name": "python3"
  },
  "language_info": {
   "codemirror_mode": {
    "name": "ipython",
    "version": 3
   },
   "file_extension": ".py",
   "mimetype": "text/x-python",
   "name": "python",
   "nbconvert_exporter": "python",
   "pygments_lexer": "ipython3",
   "version": "3.11.5"
  }
 },
 "nbformat": 4,
 "nbformat_minor": 5
}
